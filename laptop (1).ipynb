{
 "cells": [
  {
   "cell_type": "code",
   "execution_count": 4,
   "id": "183fcf4e-71f6-4f6d-9076-d01e8a0b1a85",
   "metadata": {},
   "outputs": [],
   "source": [
    "import numpy as np\n",
    "import pandas as pd\n",
    "import matplotlib.pyplot as plt\n",
    "import seaborn as sns"
   ]
  },
  {
   "cell_type": "code",
   "execution_count": 6,
   "id": "0184c8da-4809-4944-b15f-92f16d127ffe",
   "metadata": {},
   "outputs": [
    {
     "data": {
      "text/html": [
       "<div>\n",
       "<style scoped>\n",
       "    .dataframe tbody tr th:only-of-type {\n",
       "        vertical-align: middle;\n",
       "    }\n",
       "\n",
       "    .dataframe tbody tr th {\n",
       "        vertical-align: top;\n",
       "    }\n",
       "\n",
       "    .dataframe thead th {\n",
       "        text-align: right;\n",
       "    }\n",
       "</style>\n",
       "<table border=\"1\" class=\"dataframe\">\n",
       "  <thead>\n",
       "    <tr style=\"text-align: right;\">\n",
       "      <th></th>\n",
       "      <th>Company</th>\n",
       "      <th>Product</th>\n",
       "      <th>TypeName</th>\n",
       "      <th>Inches</th>\n",
       "      <th>Ram</th>\n",
       "      <th>OS</th>\n",
       "      <th>Weight</th>\n",
       "      <th>Price_euros</th>\n",
       "      <th>Screen</th>\n",
       "      <th>ScreenW</th>\n",
       "      <th>...</th>\n",
       "      <th>RetinaDisplay</th>\n",
       "      <th>CPU_company</th>\n",
       "      <th>CPU_freq</th>\n",
       "      <th>CPU_model</th>\n",
       "      <th>PrimaryStorage</th>\n",
       "      <th>SecondaryStorage</th>\n",
       "      <th>PrimaryStorageType</th>\n",
       "      <th>SecondaryStorageType</th>\n",
       "      <th>GPU_company</th>\n",
       "      <th>GPU_model</th>\n",
       "    </tr>\n",
       "  </thead>\n",
       "  <tbody>\n",
       "    <tr>\n",
       "      <th>0</th>\n",
       "      <td>Apple</td>\n",
       "      <td>MacBook Pro</td>\n",
       "      <td>Ultrabook</td>\n",
       "      <td>13.3</td>\n",
       "      <td>8</td>\n",
       "      <td>macOS</td>\n",
       "      <td>1.37</td>\n",
       "      <td>1339.69</td>\n",
       "      <td>Standard</td>\n",
       "      <td>2560</td>\n",
       "      <td>...</td>\n",
       "      <td>Yes</td>\n",
       "      <td>Intel</td>\n",
       "      <td>2.3</td>\n",
       "      <td>Core i5</td>\n",
       "      <td>128</td>\n",
       "      <td>0</td>\n",
       "      <td>SSD</td>\n",
       "      <td>No</td>\n",
       "      <td>Intel</td>\n",
       "      <td>Iris Plus Graphics 640</td>\n",
       "    </tr>\n",
       "    <tr>\n",
       "      <th>1</th>\n",
       "      <td>Apple</td>\n",
       "      <td>Macbook Air</td>\n",
       "      <td>Ultrabook</td>\n",
       "      <td>13.3</td>\n",
       "      <td>8</td>\n",
       "      <td>macOS</td>\n",
       "      <td>1.34</td>\n",
       "      <td>898.94</td>\n",
       "      <td>Standard</td>\n",
       "      <td>1440</td>\n",
       "      <td>...</td>\n",
       "      <td>No</td>\n",
       "      <td>Intel</td>\n",
       "      <td>1.8</td>\n",
       "      <td>Core i5</td>\n",
       "      <td>128</td>\n",
       "      <td>0</td>\n",
       "      <td>Flash Storage</td>\n",
       "      <td>No</td>\n",
       "      <td>Intel</td>\n",
       "      <td>HD Graphics 6000</td>\n",
       "    </tr>\n",
       "    <tr>\n",
       "      <th>2</th>\n",
       "      <td>HP</td>\n",
       "      <td>250 G6</td>\n",
       "      <td>Notebook</td>\n",
       "      <td>15.6</td>\n",
       "      <td>8</td>\n",
       "      <td>No OS</td>\n",
       "      <td>1.86</td>\n",
       "      <td>575.00</td>\n",
       "      <td>Full HD</td>\n",
       "      <td>1920</td>\n",
       "      <td>...</td>\n",
       "      <td>No</td>\n",
       "      <td>Intel</td>\n",
       "      <td>2.5</td>\n",
       "      <td>Core i5 7200U</td>\n",
       "      <td>256</td>\n",
       "      <td>0</td>\n",
       "      <td>SSD</td>\n",
       "      <td>No</td>\n",
       "      <td>Intel</td>\n",
       "      <td>HD Graphics 620</td>\n",
       "    </tr>\n",
       "    <tr>\n",
       "      <th>3</th>\n",
       "      <td>Apple</td>\n",
       "      <td>MacBook Pro</td>\n",
       "      <td>Ultrabook</td>\n",
       "      <td>15.4</td>\n",
       "      <td>16</td>\n",
       "      <td>macOS</td>\n",
       "      <td>1.83</td>\n",
       "      <td>2537.45</td>\n",
       "      <td>Standard</td>\n",
       "      <td>2880</td>\n",
       "      <td>...</td>\n",
       "      <td>Yes</td>\n",
       "      <td>Intel</td>\n",
       "      <td>2.7</td>\n",
       "      <td>Core i7</td>\n",
       "      <td>512</td>\n",
       "      <td>0</td>\n",
       "      <td>SSD</td>\n",
       "      <td>No</td>\n",
       "      <td>AMD</td>\n",
       "      <td>Radeon Pro 455</td>\n",
       "    </tr>\n",
       "    <tr>\n",
       "      <th>4</th>\n",
       "      <td>Apple</td>\n",
       "      <td>MacBook Pro</td>\n",
       "      <td>Ultrabook</td>\n",
       "      <td>13.3</td>\n",
       "      <td>8</td>\n",
       "      <td>macOS</td>\n",
       "      <td>1.37</td>\n",
       "      <td>1803.60</td>\n",
       "      <td>Standard</td>\n",
       "      <td>2560</td>\n",
       "      <td>...</td>\n",
       "      <td>Yes</td>\n",
       "      <td>Intel</td>\n",
       "      <td>3.1</td>\n",
       "      <td>Core i5</td>\n",
       "      <td>256</td>\n",
       "      <td>0</td>\n",
       "      <td>SSD</td>\n",
       "      <td>No</td>\n",
       "      <td>Intel</td>\n",
       "      <td>Iris Plus Graphics 650</td>\n",
       "    </tr>\n",
       "    <tr>\n",
       "      <th>5</th>\n",
       "      <td>Acer</td>\n",
       "      <td>Aspire 3</td>\n",
       "      <td>Notebook</td>\n",
       "      <td>15.6</td>\n",
       "      <td>4</td>\n",
       "      <td>Windows 10</td>\n",
       "      <td>2.10</td>\n",
       "      <td>400.00</td>\n",
       "      <td>Standard</td>\n",
       "      <td>1366</td>\n",
       "      <td>...</td>\n",
       "      <td>No</td>\n",
       "      <td>AMD</td>\n",
       "      <td>3.0</td>\n",
       "      <td>A9-Series 9420</td>\n",
       "      <td>500</td>\n",
       "      <td>0</td>\n",
       "      <td>HDD</td>\n",
       "      <td>No</td>\n",
       "      <td>AMD</td>\n",
       "      <td>Radeon R5</td>\n",
       "    </tr>\n",
       "    <tr>\n",
       "      <th>6</th>\n",
       "      <td>Apple</td>\n",
       "      <td>MacBook Pro</td>\n",
       "      <td>Ultrabook</td>\n",
       "      <td>15.4</td>\n",
       "      <td>16</td>\n",
       "      <td>Mac OS X</td>\n",
       "      <td>2.04</td>\n",
       "      <td>2139.97</td>\n",
       "      <td>Standard</td>\n",
       "      <td>2880</td>\n",
       "      <td>...</td>\n",
       "      <td>Yes</td>\n",
       "      <td>Intel</td>\n",
       "      <td>2.2</td>\n",
       "      <td>Core i7</td>\n",
       "      <td>256</td>\n",
       "      <td>0</td>\n",
       "      <td>Flash Storage</td>\n",
       "      <td>No</td>\n",
       "      <td>Intel</td>\n",
       "      <td>Iris Pro Graphics</td>\n",
       "    </tr>\n",
       "    <tr>\n",
       "      <th>7</th>\n",
       "      <td>Apple</td>\n",
       "      <td>Macbook Air</td>\n",
       "      <td>Ultrabook</td>\n",
       "      <td>13.3</td>\n",
       "      <td>8</td>\n",
       "      <td>macOS</td>\n",
       "      <td>1.34</td>\n",
       "      <td>1158.70</td>\n",
       "      <td>Standard</td>\n",
       "      <td>1440</td>\n",
       "      <td>...</td>\n",
       "      <td>No</td>\n",
       "      <td>Intel</td>\n",
       "      <td>1.8</td>\n",
       "      <td>Core i5</td>\n",
       "      <td>256</td>\n",
       "      <td>0</td>\n",
       "      <td>Flash Storage</td>\n",
       "      <td>No</td>\n",
       "      <td>Intel</td>\n",
       "      <td>HD Graphics 6000</td>\n",
       "    </tr>\n",
       "    <tr>\n",
       "      <th>8</th>\n",
       "      <td>Asus</td>\n",
       "      <td>ZenBook UX430UN</td>\n",
       "      <td>Ultrabook</td>\n",
       "      <td>14.0</td>\n",
       "      <td>16</td>\n",
       "      <td>Windows 10</td>\n",
       "      <td>1.30</td>\n",
       "      <td>1495.00</td>\n",
       "      <td>Full HD</td>\n",
       "      <td>1920</td>\n",
       "      <td>...</td>\n",
       "      <td>No</td>\n",
       "      <td>Intel</td>\n",
       "      <td>1.8</td>\n",
       "      <td>Core i7 8550U</td>\n",
       "      <td>512</td>\n",
       "      <td>0</td>\n",
       "      <td>SSD</td>\n",
       "      <td>No</td>\n",
       "      <td>Nvidia</td>\n",
       "      <td>GeForce MX150</td>\n",
       "    </tr>\n",
       "    <tr>\n",
       "      <th>9</th>\n",
       "      <td>Acer</td>\n",
       "      <td>Swift 3</td>\n",
       "      <td>Ultrabook</td>\n",
       "      <td>14.0</td>\n",
       "      <td>8</td>\n",
       "      <td>Windows 10</td>\n",
       "      <td>1.60</td>\n",
       "      <td>770.00</td>\n",
       "      <td>Full HD</td>\n",
       "      <td>1920</td>\n",
       "      <td>...</td>\n",
       "      <td>No</td>\n",
       "      <td>Intel</td>\n",
       "      <td>1.6</td>\n",
       "      <td>Core i5 8250U</td>\n",
       "      <td>256</td>\n",
       "      <td>0</td>\n",
       "      <td>SSD</td>\n",
       "      <td>No</td>\n",
       "      <td>Intel</td>\n",
       "      <td>UHD Graphics 620</td>\n",
       "    </tr>\n",
       "    <tr>\n",
       "      <th>10</th>\n",
       "      <td>HP</td>\n",
       "      <td>250 G6</td>\n",
       "      <td>Notebook</td>\n",
       "      <td>15.6</td>\n",
       "      <td>4</td>\n",
       "      <td>No OS</td>\n",
       "      <td>1.86</td>\n",
       "      <td>393.90</td>\n",
       "      <td>Standard</td>\n",
       "      <td>1366</td>\n",
       "      <td>...</td>\n",
       "      <td>No</td>\n",
       "      <td>Intel</td>\n",
       "      <td>2.5</td>\n",
       "      <td>Core i5 7200U</td>\n",
       "      <td>500</td>\n",
       "      <td>0</td>\n",
       "      <td>HDD</td>\n",
       "      <td>No</td>\n",
       "      <td>Intel</td>\n",
       "      <td>HD Graphics 620</td>\n",
       "    </tr>\n",
       "    <tr>\n",
       "      <th>11</th>\n",
       "      <td>HP</td>\n",
       "      <td>250 G6</td>\n",
       "      <td>Notebook</td>\n",
       "      <td>15.6</td>\n",
       "      <td>4</td>\n",
       "      <td>No OS</td>\n",
       "      <td>1.86</td>\n",
       "      <td>344.99</td>\n",
       "      <td>Full HD</td>\n",
       "      <td>1920</td>\n",
       "      <td>...</td>\n",
       "      <td>No</td>\n",
       "      <td>Intel</td>\n",
       "      <td>2.0</td>\n",
       "      <td>Core i3 6006U</td>\n",
       "      <td>500</td>\n",
       "      <td>0</td>\n",
       "      <td>HDD</td>\n",
       "      <td>No</td>\n",
       "      <td>Intel</td>\n",
       "      <td>HD Graphics 520</td>\n",
       "    </tr>\n",
       "    <tr>\n",
       "      <th>12</th>\n",
       "      <td>Apple</td>\n",
       "      <td>MacBook Pro</td>\n",
       "      <td>Ultrabook</td>\n",
       "      <td>15.4</td>\n",
       "      <td>16</td>\n",
       "      <td>macOS</td>\n",
       "      <td>1.83</td>\n",
       "      <td>2439.97</td>\n",
       "      <td>Standard</td>\n",
       "      <td>2880</td>\n",
       "      <td>...</td>\n",
       "      <td>Yes</td>\n",
       "      <td>Intel</td>\n",
       "      <td>2.8</td>\n",
       "      <td>Core i7</td>\n",
       "      <td>256</td>\n",
       "      <td>0</td>\n",
       "      <td>SSD</td>\n",
       "      <td>No</td>\n",
       "      <td>AMD</td>\n",
       "      <td>Radeon Pro 555</td>\n",
       "    </tr>\n",
       "    <tr>\n",
       "      <th>13</th>\n",
       "      <td>Dell</td>\n",
       "      <td>Inspiron 3567</td>\n",
       "      <td>Notebook</td>\n",
       "      <td>15.6</td>\n",
       "      <td>4</td>\n",
       "      <td>Windows 10</td>\n",
       "      <td>2.20</td>\n",
       "      <td>498.90</td>\n",
       "      <td>Full HD</td>\n",
       "      <td>1920</td>\n",
       "      <td>...</td>\n",
       "      <td>No</td>\n",
       "      <td>Intel</td>\n",
       "      <td>2.0</td>\n",
       "      <td>Core i3 6006U</td>\n",
       "      <td>256</td>\n",
       "      <td>0</td>\n",
       "      <td>SSD</td>\n",
       "      <td>No</td>\n",
       "      <td>AMD</td>\n",
       "      <td>Radeon R5 M430</td>\n",
       "    </tr>\n",
       "    <tr>\n",
       "      <th>14</th>\n",
       "      <td>Apple</td>\n",
       "      <td>MacBook 12\"</td>\n",
       "      <td>Ultrabook</td>\n",
       "      <td>12.0</td>\n",
       "      <td>8</td>\n",
       "      <td>macOS</td>\n",
       "      <td>0.92</td>\n",
       "      <td>1262.40</td>\n",
       "      <td>Standard</td>\n",
       "      <td>2304</td>\n",
       "      <td>...</td>\n",
       "      <td>Yes</td>\n",
       "      <td>Intel</td>\n",
       "      <td>1.2</td>\n",
       "      <td>Core M m3</td>\n",
       "      <td>256</td>\n",
       "      <td>0</td>\n",
       "      <td>SSD</td>\n",
       "      <td>No</td>\n",
       "      <td>Intel</td>\n",
       "      <td>HD Graphics 615</td>\n",
       "    </tr>\n",
       "  </tbody>\n",
       "</table>\n",
       "<p>15 rows × 23 columns</p>\n",
       "</div>"
      ],
      "text/plain": [
       "   Company          Product   TypeName  Inches  Ram          OS  Weight  \\\n",
       "0    Apple      MacBook Pro  Ultrabook    13.3    8       macOS    1.37   \n",
       "1    Apple      Macbook Air  Ultrabook    13.3    8       macOS    1.34   \n",
       "2       HP           250 G6   Notebook    15.6    8       No OS    1.86   \n",
       "3    Apple      MacBook Pro  Ultrabook    15.4   16       macOS    1.83   \n",
       "4    Apple      MacBook Pro  Ultrabook    13.3    8       macOS    1.37   \n",
       "5     Acer         Aspire 3   Notebook    15.6    4  Windows 10    2.10   \n",
       "6    Apple      MacBook Pro  Ultrabook    15.4   16    Mac OS X    2.04   \n",
       "7    Apple      Macbook Air  Ultrabook    13.3    8       macOS    1.34   \n",
       "8     Asus  ZenBook UX430UN  Ultrabook    14.0   16  Windows 10    1.30   \n",
       "9     Acer          Swift 3  Ultrabook    14.0    8  Windows 10    1.60   \n",
       "10      HP           250 G6   Notebook    15.6    4       No OS    1.86   \n",
       "11      HP           250 G6   Notebook    15.6    4       No OS    1.86   \n",
       "12   Apple      MacBook Pro  Ultrabook    15.4   16       macOS    1.83   \n",
       "13    Dell    Inspiron 3567   Notebook    15.6    4  Windows 10    2.20   \n",
       "14   Apple      MacBook 12\"  Ultrabook    12.0    8       macOS    0.92   \n",
       "\n",
       "    Price_euros    Screen  ScreenW  ...  RetinaDisplay CPU_company CPU_freq  \\\n",
       "0       1339.69  Standard     2560  ...            Yes       Intel      2.3   \n",
       "1        898.94  Standard     1440  ...             No       Intel      1.8   \n",
       "2        575.00   Full HD     1920  ...             No       Intel      2.5   \n",
       "3       2537.45  Standard     2880  ...            Yes       Intel      2.7   \n",
       "4       1803.60  Standard     2560  ...            Yes       Intel      3.1   \n",
       "5        400.00  Standard     1366  ...             No         AMD      3.0   \n",
       "6       2139.97  Standard     2880  ...            Yes       Intel      2.2   \n",
       "7       1158.70  Standard     1440  ...             No       Intel      1.8   \n",
       "8       1495.00   Full HD     1920  ...             No       Intel      1.8   \n",
       "9        770.00   Full HD     1920  ...             No       Intel      1.6   \n",
       "10       393.90  Standard     1366  ...             No       Intel      2.5   \n",
       "11       344.99   Full HD     1920  ...             No       Intel      2.0   \n",
       "12      2439.97  Standard     2880  ...            Yes       Intel      2.8   \n",
       "13       498.90   Full HD     1920  ...             No       Intel      2.0   \n",
       "14      1262.40  Standard     2304  ...            Yes       Intel      1.2   \n",
       "\n",
       "         CPU_model PrimaryStorage  SecondaryStorage PrimaryStorageType  \\\n",
       "0          Core i5            128                 0                SSD   \n",
       "1          Core i5            128                 0      Flash Storage   \n",
       "2    Core i5 7200U            256                 0                SSD   \n",
       "3          Core i7            512                 0                SSD   \n",
       "4          Core i5            256                 0                SSD   \n",
       "5   A9-Series 9420            500                 0                HDD   \n",
       "6          Core i7            256                 0      Flash Storage   \n",
       "7          Core i5            256                 0      Flash Storage   \n",
       "8    Core i7 8550U            512                 0                SSD   \n",
       "9    Core i5 8250U            256                 0                SSD   \n",
       "10   Core i5 7200U            500                 0                HDD   \n",
       "11   Core i3 6006U            500                 0                HDD   \n",
       "12         Core i7            256                 0                SSD   \n",
       "13   Core i3 6006U            256                 0                SSD   \n",
       "14       Core M m3            256                 0                SSD   \n",
       "\n",
       "    SecondaryStorageType  GPU_company               GPU_model  \n",
       "0                     No        Intel  Iris Plus Graphics 640  \n",
       "1                     No        Intel        HD Graphics 6000  \n",
       "2                     No        Intel         HD Graphics 620  \n",
       "3                     No          AMD          Radeon Pro 455  \n",
       "4                     No        Intel  Iris Plus Graphics 650  \n",
       "5                     No          AMD               Radeon R5  \n",
       "6                     No        Intel       Iris Pro Graphics  \n",
       "7                     No        Intel        HD Graphics 6000  \n",
       "8                     No       Nvidia           GeForce MX150  \n",
       "9                     No        Intel        UHD Graphics 620  \n",
       "10                    No        Intel         HD Graphics 620  \n",
       "11                    No        Intel         HD Graphics 520  \n",
       "12                    No          AMD          Radeon Pro 555  \n",
       "13                    No          AMD          Radeon R5 M430  \n",
       "14                    No        Intel         HD Graphics 615  \n",
       "\n",
       "[15 rows x 23 columns]"
      ]
     },
     "execution_count": 6,
     "metadata": {},
     "output_type": "execute_result"
    }
   ],
   "source": [
    "df = pd.read_csv(\"laptop_prices.csv\")\n",
    "df.head(15)"
   ]
  },
  {
   "cell_type": "code",
   "execution_count": 8,
   "id": "63b91060-ade4-4559-87a2-d9f91b2e69b4",
   "metadata": {},
   "outputs": [
    {
     "data": {
      "text/plain": [
       "(1275, 23)"
      ]
     },
     "execution_count": 8,
     "metadata": {},
     "output_type": "execute_result"
    }
   ],
   "source": [
    "df.shape"
   ]
  },
  {
   "cell_type": "code",
   "execution_count": 10,
   "id": "47d0f0c3-f082-4a08-9133-803d5f1cdb47",
   "metadata": {},
   "outputs": [
    {
     "name": "stdout",
     "output_type": "stream",
     "text": [
      "<class 'pandas.core.frame.DataFrame'>\n",
      "RangeIndex: 1275 entries, 0 to 1274\n",
      "Data columns (total 23 columns):\n",
      " #   Column                Non-Null Count  Dtype  \n",
      "---  ------                --------------  -----  \n",
      " 0   Company               1275 non-null   object \n",
      " 1   Product               1275 non-null   object \n",
      " 2   TypeName              1275 non-null   object \n",
      " 3   Inches                1275 non-null   float64\n",
      " 4   Ram                   1275 non-null   int64  \n",
      " 5   OS                    1275 non-null   object \n",
      " 6   Weight                1275 non-null   float64\n",
      " 7   Price_euros           1275 non-null   float64\n",
      " 8   Screen                1275 non-null   object \n",
      " 9   ScreenW               1275 non-null   int64  \n",
      " 10  ScreenH               1275 non-null   int64  \n",
      " 11  Touchscreen           1275 non-null   object \n",
      " 12  IPSpanel              1275 non-null   object \n",
      " 13  RetinaDisplay         1275 non-null   object \n",
      " 14  CPU_company           1275 non-null   object \n",
      " 15  CPU_freq              1275 non-null   float64\n",
      " 16  CPU_model             1275 non-null   object \n",
      " 17  PrimaryStorage        1275 non-null   int64  \n",
      " 18  SecondaryStorage      1275 non-null   int64  \n",
      " 19  PrimaryStorageType    1275 non-null   object \n",
      " 20  SecondaryStorageType  1275 non-null   object \n",
      " 21  GPU_company           1275 non-null   object \n",
      " 22  GPU_model             1275 non-null   object \n",
      "dtypes: float64(4), int64(5), object(14)\n",
      "memory usage: 229.2+ KB\n"
     ]
    }
   ],
   "source": [
    "df.info()"
   ]
  },
  {
   "cell_type": "code",
   "execution_count": 12,
   "id": "a1b7ce6e-be91-4e3c-9122-7d8265e08104",
   "metadata": {},
   "outputs": [
    {
     "data": {
      "text/plain": [
       "0"
      ]
     },
     "execution_count": 12,
     "metadata": {},
     "output_type": "execute_result"
    }
   ],
   "source": [
    "df.duplicated().sum()"
   ]
  },
  {
   "cell_type": "code",
   "execution_count": 14,
   "id": "4bd4ed8b-9ce7-4038-b418-9382de9051f8",
   "metadata": {},
   "outputs": [
    {
     "data": {
      "text/plain": [
       "Company                 0\n",
       "Product                 0\n",
       "TypeName                0\n",
       "Inches                  0\n",
       "Ram                     0\n",
       "OS                      0\n",
       "Weight                  0\n",
       "Price_euros             0\n",
       "Screen                  0\n",
       "ScreenW                 0\n",
       "ScreenH                 0\n",
       "Touchscreen             0\n",
       "IPSpanel                0\n",
       "RetinaDisplay           0\n",
       "CPU_company             0\n",
       "CPU_freq                0\n",
       "CPU_model               0\n",
       "PrimaryStorage          0\n",
       "SecondaryStorage        0\n",
       "PrimaryStorageType      0\n",
       "SecondaryStorageType    0\n",
       "GPU_company             0\n",
       "GPU_model               0\n",
       "dtype: int64"
      ]
     },
     "execution_count": 14,
     "metadata": {},
     "output_type": "execute_result"
    }
   ],
   "source": [
    "df.isnull().sum()"
   ]
  },
  {
   "cell_type": "code",
   "execution_count": 16,
   "id": "0acaa698-8780-4fd1-8faf-97b010b01e6d",
   "metadata": {},
   "outputs": [
    {
     "name": "stderr",
     "output_type": "stream",
     "text": [
      "C:\\Users\\ADMIN\\AppData\\Local\\Temp\\ipykernel_11688\\2073861339.py:1: UserWarning: \n",
      "\n",
      "`distplot` is a deprecated function and will be removed in seaborn v0.14.0.\n",
      "\n",
      "Please adapt your code to use either `displot` (a figure-level function with\n",
      "similar flexibility) or `histplot` (an axes-level function for histograms).\n",
      "\n",
      "For a guide to updating your code to use the new functions, please see\n",
      "https://gist.github.com/mwaskom/de44147ed2974457ad6372750bbe5751\n",
      "\n",
      "  sns.distplot(df['Price_euros'])\n"
     ]
    },
    {
     "data": {
      "text/plain": [
       "<Axes: xlabel='Price_euros', ylabel='Density'>"
      ]
     },
     "execution_count": 16,
     "metadata": {},
     "output_type": "execute_result"
    },
    {
     "data": {
      "image/png": "[encoded data removed]",
      "text/plain": [
       "<Figure size 640x480 with 1 Axes>"
      ]
     },
     "metadata": {},
     "output_type": "display_data"
    }
   ],
   "source": [
    "sns.distplot(df['Price_euros'])"
   ]
  },
  {
   "cell_type": "code",
   "execution_count": 18,
   "id": "73fd61b6-e98b-4854-b2d8-a314516765c1",
   "metadata": {},
   "outputs": [
    {
     "data": {
      "text/plain": [
       "<Axes: xlabel='Company'>"
      ]
     },
     "execution_count": 18,
     "metadata": {},
     "output_type": "execute_result"
    },
    {
     "data": {
      "image/png": "[encoded data removed]",
      "text/plain": [
       "<Figure size 640x480 with 1 Axes>"
      ]
     },
     "metadata": {},
     "output_type": "display_data"
    }
   ],
   "source": [
    "df['Company'].value_counts().plot(kind='bar')"
   ]
  },
  {
   "cell_type": "code",
   "execution_count": 20,
   "id": "7e70f763-66b5-4fb0-b7e5-9b09a14922e3",
   "metadata": {},
   "outputs": [
    {
     "data": {
      "image/png": "[encoded data removed]",
      "text/plain": [
       "<Figure size 640x480 with 1 Axes>"
      ]
     },
     "metadata": {},
     "output_type": "display_data"
    }
   ],
   "source": [
    "sns.barplot(x=df['Company'],y=df['Price_euros'])\n",
    "plt.xticks(rotation='vertical')\n",
    "plt.show()"
   ]
  },
  {
   "cell_type": "code",
   "execution_count": 22,
   "id": "050e8c44-8b9c-4df3-8557-423b67b34ea4",
   "metadata": {},
   "outputs": [
    {
     "data": {
      "text/plain": [
       "<Axes: xlabel='TypeName'>"
      ]
     },
     "execution_count": 22,
     "metadata": {},
     "output_type": "execute_result"
    },
    {
     "data": {
      "image/png": "[encoded data removed]",
      "text/plain": [
       "<Figure size 640x480 with 1 Axes>"
      ]
     },
     "metadata": {},
     "output_type": "display_data"
    }
   ],
   "source": [
    "df['TypeName'].value_counts().plot(kind='bar')"
   ]
  },
  {
   "cell_type": "code",
   "execution_count": 24,
   "id": "9640fff5-56fd-4763-a8d9-5c95e64e4084",
   "metadata": {},
   "outputs": [
    {
     "data": {
      "image/png": "[encoded data removed]",
      "text/plain": [
       "<Figure size 640x480 with 1 Axes>"
      ]
     },
     "metadata": {},
     "output_type": "display_data"
    }
   ],
   "source": [
    "sns.barplot(x=df['TypeName'],y=df['Price_euros'])\n",
    "plt.xticks(rotation='vertical')\n",
    "plt.show()"
   ]
  },
  {
   "cell_type": "code",
   "execution_count": 26,
   "id": "c0b6ec8d-6a65-4073-be16-87c8ecb2e63c",
   "metadata": {},
   "outputs": [
    {
     "name": "stderr",
     "output_type": "stream",
     "text": [
      "C:\\Users\\ADMIN\\AppData\\Local\\Temp\\ipykernel_11688\\1439577752.py:1: UserWarning: \n",
      "\n",
      "`distplot` is a deprecated function and will be removed in seaborn v0.14.0.\n",
      "\n",
      "Please adapt your code to use either `displot` (a figure-level function with\n",
      "similar flexibility) or `histplot` (an axes-level function for histograms).\n",
      "\n",
      "For a guide to updating your code to use the new functions, please see\n",
      "https://gist.github.com/mwaskom/de44147ed2974457ad6372750bbe5751\n",
      "\n",
      "  sns.distplot(df['Inches'])\n"
     ]
    },
    {
     "data": {
      "text/plain": [
       "<Axes: xlabel='Inches', ylabel='Density'>"
      ]
     },
     "execution_count": 26,
     "metadata": {},
     "output_type": "execute_result"
    },
    {
     "data": {
      "image/png": "[encoded data removed]",
      "text/plain": [
       "<Figure size 640x480 with 1 Axes>"
      ]
     },
     "metadata": {},
     "output_type": "display_data"
    }
   ],
   "source": [
    "sns.distplot(df['Inches'])"
   ]
  },
  {
   "cell_type": "code",
   "execution_count": 28,
   "id": "f9df31df-818c-41be-80d6-42186063ed75",
   "metadata": {},
   "outputs": [
    {
     "data": {
      "text/plain": [
       "<Axes: xlabel='Inches', ylabel='Price_euros'>"
      ]
     },
     "execution_count": 28,
     "metadata": {},
     "output_type": "execute_result"
    },
    {
     "data": {
      "image/png": "[encoded data removed]",
      "text/plain": [
       "<Figure size 640x480 with 1 Axes>"
      ]
     },
     "metadata": {},
     "output_type": "display_data"
    }
   ],
   "source": [
    "sns.scatterplot(x=df['Inches'],y=df['Price_euros'])"
   ]
  },
  {
   "cell_type": "code",
   "execution_count": 30,
   "id": "81dce7d6-4552-4844-87e9-e436d49db474",
   "metadata": {},
   "outputs": [],
   "source": [
    "df['Touchscreen'] = df['Touchscreen'].map({'Yes': 1, 'No': 0})"
   ]
  },
  {
   "cell_type": "code",
   "execution_count": 32,
   "id": "4321e450-96ed-40ec-92e2-fa005409c171",
   "metadata": {},
   "outputs": [
    {
     "data": {
      "text/plain": [
       "<Axes: xlabel='Touchscreen'>"
      ]
     },
     "execution_count": 32,
     "metadata": {},
     "output_type": "execute_result"
    },
    {
     "data": {
      "image/png": "[encoded data removed]",
      "text/plain": [
       "<Figure size 640x480 with 1 Axes>"
      ]
     },
     "metadata": {},
     "output_type": "display_data"
    }
   ],
   "source": [
    "df['Touchscreen'].value_counts().plot(kind='bar')"
   ]
  },
  {
   "cell_type": "code",
   "execution_count": 34,
   "id": "f09b9eb5-12e1-4616-9c01-bb4cbeaa5fbf",
   "metadata": {},
   "outputs": [
    {
     "data": {
      "text/plain": [
       "<Axes: xlabel='Touchscreen', ylabel='Price_euros'>"
      ]
     },
     "execution_count": 34,
     "metadata": {},
     "output_type": "execute_result"
    },
    {
     "data": {
      "image/png": "[encoded data removed]",
      "text/plain": [
       "<Figure size 640x480 with 1 Axes>"
      ]
     },
     "metadata": {},
     "output_type": "display_data"
    }
   ],
   "source": [
    "sns.barplot(x=df['Touchscreen'],y=df['Price_euros'])"
   ]
  },
  {
   "cell_type": "code",
   "execution_count": 36,
   "id": "f3d8c329-5a67-443d-8dc9-266a79cfbf21",
   "metadata": {},
   "outputs": [],
   "source": [
    "df['IPSpanel'] = df['IPSpanel'].map({'Yes': 1, 'No': 0})"
   ]
  },
  {
   "cell_type": "code",
   "execution_count": 38,
   "id": "3b1449a7-f9a7-4c86-92b6-96dbb3979be3",
   "metadata": {},
   "outputs": [
    {
     "data": {
      "text/plain": [
       "<Axes: xlabel='IPSpanel'>"
      ]
     },
     "execution_count": 38,
     "metadata": {},
     "output_type": "execute_result"
    },
    {
     "data": {
      "image/png": "[encoded data removed]",
      "text/plain": [
       "<Figure size 640x480 with 1 Axes>"
      ]
     },
     "metadata": {},
     "output_type": "display_data"
    }
   ],
   "source": [
    "df['IPSpanel'].value_counts().plot(kind='bar')"
   ]
  },
  {
   "cell_type": "code",
   "execution_count": 40,
   "id": "a4f8b84d-5f91-4bb4-aefb-602c1013cbce",
   "metadata": {},
   "outputs": [
    {
     "data": {
      "text/plain": [
       "<Axes: xlabel='IPSpanel', ylabel='Price_euros'>"
      ]
     },
     "execution_count": 40,
     "metadata": {},
     "output_type": "execute_result"
    },
    {
     "data": {
      "image/png": "[encoded data removed]",
      "text/plain": [
       "<Figure size 640x480 with 1 Axes>"
      ]
     },
     "metadata": {},
     "output_type": "display_data"
    }
   ],
   "source": [
    "sns.barplot(x=df['IPSpanel'],y=df['Price_euros'])"
   ]
  },
  {
   "cell_type": "code",
   "execution_count": 42,
   "id": "3558c97d-d01e-4e59-a0a4-5ad57700d744",
   "metadata": {},
   "outputs": [],
   "source": [
    "df['RetinaDisplay'] = df['RetinaDisplay'].map({'Yes': 1, 'No': 0})"
   ]
  },
  {
   "cell_type": "code",
   "execution_count": 44,
   "id": "5c3ae6ac-9550-48f0-a6f3-366680ce5955",
   "metadata": {},
   "outputs": [
    {
     "data": {
      "text/plain": [
       "<Axes: xlabel='RetinaDisplay'>"
      ]
     },
     "execution_count": 44,
     "metadata": {},
     "output_type": "execute_result"
    },
    {
     "data": {
      "image/png": "[encoded data removed]",
      "text/plain": [
       "<Figure size 640x480 with 1 Axes>"
      ]
     },
     "metadata": {},
     "output_type": "display_data"
    }
   ],
   "source": [
    "df['RetinaDisplay'].value_counts().plot(kind='bar')"
   ]
  },
  {
   "cell_type": "code",
   "execution_count": 48,
   "id": "a575f546-9370-484d-b477-385f9428d166",
   "metadata": {},
   "outputs": [
    {
     "data": {
      "text/plain": [
       "Inches              0.066608\n",
       "Ram                 0.740287\n",
       "Weight              0.211883\n",
       "Price_euros         1.000000\n",
       "ScreenW             0.552491\n",
       "ScreenH             0.548529\n",
       "Touchscreen         0.188886\n",
       "IPSpanel            0.250737\n",
       "RetinaDisplay       0.086775\n",
       "CPU_freq            0.428847\n",
       "PrimaryStorage     -0.124775\n",
       "SecondaryStorage    0.291207\n",
       "Name: Price_euros, dtype: float64"
      ]
     },
     "execution_count": 48,
     "metadata": {},
     "output_type": "execute_result"
    }
   ],
   "source": [
    "df.corr(numeric_only=True)['Price_euros']"
   ]
  },
  {
   "cell_type": "code",
   "execution_count": 50,
   "id": "c76eec03-07f2-4986-a6b8-1f2d8fea7156",
   "metadata": {},
   "outputs": [
    {
     "data": {
      "text/plain": [
       "<Axes: xlabel='RetinaDisplay', ylabel='Price_euros'>"
      ]
     },
     "execution_count": 50,
     "metadata": {},
     "output_type": "execute_result"
    },
    {
     "data": {
      "image/png": "[encoded data removed]",
      "text/plain": [
       "<Figure size 640x480 with 1 Axes>"
      ]
     },
     "metadata": {},
     "output_type": "display_data"
    }
   ],
   "source": [
    "sns.barplot(x=df['RetinaDisplay'],y=df['Price_euros'])"
   ]
  },
  {
   "cell_type": "code",
   "execution_count": 52,
   "id": "6fa91466-ea87-48f1-bc72-cba3b9336d08",
   "metadata": {},
   "outputs": [],
   "source": [
    "df['ppi'] = (((df['ScreenW']**2) + (df['ScreenH']**2))**0.5/df['Inches']).astype('float')"
   ]
  },
  {
   "cell_type": "code",
   "execution_count": 54,
   "id": "a9cd2f5b-4954-4cad-a563-5f61d98a441d",
   "metadata": {},
   "outputs": [
    {
     "data": {
      "text/html": [
       "<div>\n",
       "<style scoped>\n",
       "    .dataframe tbody tr th:only-of-type {\n",
       "        vertical-align: middle;\n",
       "    }\n",
       "\n",
       "    .dataframe tbody tr th {\n",
       "        vertical-align: top;\n",
       "    }\n",
       "\n",
       "    .dataframe thead th {\n",
       "        text-align: right;\n",
       "    }\n",
       "</style>\n",
       "<table border=\"1\" class=\"dataframe\">\n",
       "  <thead>\n",
       "    <tr style=\"text-align: right;\">\n",
       "      <th></th>\n",
       "      <th>Company</th>\n",
       "      <th>Product</th>\n",
       "      <th>TypeName</th>\n",
       "      <th>Inches</th>\n",
       "      <th>Ram</th>\n",
       "      <th>OS</th>\n",
       "      <th>Weight</th>\n",
       "      <th>Price_euros</th>\n",
       "      <th>Screen</th>\n",
       "      <th>ScreenW</th>\n",
       "      <th>...</th>\n",
       "      <th>CPU_company</th>\n",
       "      <th>CPU_freq</th>\n",
       "      <th>CPU_model</th>\n",
       "      <th>PrimaryStorage</th>\n",
       "      <th>SecondaryStorage</th>\n",
       "      <th>PrimaryStorageType</th>\n",
       "      <th>SecondaryStorageType</th>\n",
       "      <th>GPU_company</th>\n",
       "      <th>GPU_model</th>\n",
       "      <th>ppi</th>\n",
       "    </tr>\n",
       "  </thead>\n",
       "  <tbody>\n",
       "    <tr>\n",
       "      <th>0</th>\n",
       "      <td>Apple</td>\n",
       "      <td>MacBook Pro</td>\n",
       "      <td>Ultrabook</td>\n",
       "      <td>13.3</td>\n",
       "      <td>8</td>\n",
       "      <td>macOS</td>\n",
       "      <td>1.37</td>\n",
       "      <td>1339.69</td>\n",
       "      <td>Standard</td>\n",
       "      <td>2560</td>\n",
       "      <td>...</td>\n",
       "      <td>Intel</td>\n",
       "      <td>2.3</td>\n",
       "      <td>Core i5</td>\n",
       "      <td>128</td>\n",
       "      <td>0</td>\n",
       "      <td>SSD</td>\n",
       "      <td>No</td>\n",
       "      <td>Intel</td>\n",
       "      <td>Iris Plus Graphics 640</td>\n",
       "      <td>226.983005</td>\n",
       "    </tr>\n",
       "    <tr>\n",
       "      <th>1</th>\n",
       "      <td>Apple</td>\n",
       "      <td>Macbook Air</td>\n",
       "      <td>Ultrabook</td>\n",
       "      <td>13.3</td>\n",
       "      <td>8</td>\n",
       "      <td>macOS</td>\n",
       "      <td>1.34</td>\n",
       "      <td>898.94</td>\n",
       "      <td>Standard</td>\n",
       "      <td>1440</td>\n",
       "      <td>...</td>\n",
       "      <td>Intel</td>\n",
       "      <td>1.8</td>\n",
       "      <td>Core i5</td>\n",
       "      <td>128</td>\n",
       "      <td>0</td>\n",
       "      <td>Flash Storage</td>\n",
       "      <td>No</td>\n",
       "      <td>Intel</td>\n",
       "      <td>HD Graphics 6000</td>\n",
       "      <td>127.677940</td>\n",
       "    </tr>\n",
       "    <tr>\n",
       "      <th>2</th>\n",
       "      <td>HP</td>\n",
       "      <td>250 G6</td>\n",
       "      <td>Notebook</td>\n",
       "      <td>15.6</td>\n",
       "      <td>8</td>\n",
       "      <td>No OS</td>\n",
       "      <td>1.86</td>\n",
       "      <td>575.00</td>\n",
       "      <td>Full HD</td>\n",
       "      <td>1920</td>\n",
       "      <td>...</td>\n",
       "      <td>Intel</td>\n",
       "      <td>2.5</td>\n",
       "      <td>Core i5 7200U</td>\n",
       "      <td>256</td>\n",
       "      <td>0</td>\n",
       "      <td>SSD</td>\n",
       "      <td>No</td>\n",
       "      <td>Intel</td>\n",
       "      <td>HD Graphics 620</td>\n",
       "      <td>141.211998</td>\n",
       "    </tr>\n",
       "    <tr>\n",
       "      <th>3</th>\n",
       "      <td>Apple</td>\n",
       "      <td>MacBook Pro</td>\n",
       "      <td>Ultrabook</td>\n",
       "      <td>15.4</td>\n",
       "      <td>16</td>\n",
       "      <td>macOS</td>\n",
       "      <td>1.83</td>\n",
       "      <td>2537.45</td>\n",
       "      <td>Standard</td>\n",
       "      <td>2880</td>\n",
       "      <td>...</td>\n",
       "      <td>Intel</td>\n",
       "      <td>2.7</td>\n",
       "      <td>Core i7</td>\n",
       "      <td>512</td>\n",
       "      <td>0</td>\n",
       "      <td>SSD</td>\n",
       "      <td>No</td>\n",
       "      <td>AMD</td>\n",
       "      <td>Radeon Pro 455</td>\n",
       "      <td>220.534624</td>\n",
       "    </tr>\n",
       "    <tr>\n",
       "      <th>4</th>\n",
       "      <td>Apple</td>\n",
       "      <td>MacBook Pro</td>\n",
       "      <td>Ultrabook</td>\n",
       "      <td>13.3</td>\n",
       "      <td>8</td>\n",
       "      <td>macOS</td>\n",
       "      <td>1.37</td>\n",
       "      <td>1803.60</td>\n",
       "      <td>Standard</td>\n",
       "      <td>2560</td>\n",
       "      <td>...</td>\n",
       "      <td>Intel</td>\n",
       "      <td>3.1</td>\n",
       "      <td>Core i5</td>\n",
       "      <td>256</td>\n",
       "      <td>0</td>\n",
       "      <td>SSD</td>\n",
       "      <td>No</td>\n",
       "      <td>Intel</td>\n",
       "      <td>Iris Plus Graphics 650</td>\n",
       "      <td>226.983005</td>\n",
       "    </tr>\n",
       "  </tbody>\n",
       "</table>\n",
       "<p>5 rows × 24 columns</p>\n",
       "</div>"
      ],
      "text/plain": [
       "  Company      Product   TypeName  Inches  Ram     OS  Weight  Price_euros  \\\n",
       "0   Apple  MacBook Pro  Ultrabook    13.3    8  macOS    1.37      1339.69   \n",
       "1   Apple  Macbook Air  Ultrabook    13.3    8  macOS    1.34       898.94   \n",
       "2      HP       250 G6   Notebook    15.6    8  No OS    1.86       575.00   \n",
       "3   Apple  MacBook Pro  Ultrabook    15.4   16  macOS    1.83      2537.45   \n",
       "4   Apple  MacBook Pro  Ultrabook    13.3    8  macOS    1.37      1803.60   \n",
       "\n",
       "     Screen  ScreenW  ...  CPU_company  CPU_freq      CPU_model  \\\n",
       "0  Standard     2560  ...        Intel       2.3        Core i5   \n",
       "1  Standard     1440  ...        Intel       1.8        Core i5   \n",
       "2   Full HD     1920  ...        Intel       2.5  Core i5 7200U   \n",
       "3  Standard     2880  ...        Intel       2.7        Core i7   \n",
       "4  Standard     2560  ...        Intel       3.1        Core i5   \n",
       "\n",
       "   PrimaryStorage SecondaryStorage  PrimaryStorageType SecondaryStorageType  \\\n",
       "0             128                0                 SSD                   No   \n",
       "1             128                0       Flash Storage                   No   \n",
       "2             256                0                 SSD                   No   \n",
       "3             512                0                 SSD                   No   \n",
       "4             256                0                 SSD                   No   \n",
       "\n",
       "   GPU_company               GPU_model         ppi  \n",
       "0        Intel  Iris Plus Graphics 640  226.983005  \n",
       "1        Intel        HD Graphics 6000  127.677940  \n",
       "2        Intel         HD Graphics 620  141.211998  \n",
       "3          AMD          Radeon Pro 455  220.534624  \n",
       "4        Intel  Iris Plus Graphics 650  226.983005  \n",
       "\n",
       "[5 rows x 24 columns]"
      ]
     },
     "execution_count": 54,
     "metadata": {},
     "output_type": "execute_result"
    }
   ],
   "source": [
    "df.head()"
   ]
  },
  {
   "cell_type": "code",
   "execution_count": 56,
   "id": "2e03dca3-90b3-4eb7-a97f-15688013736d",
   "metadata": {},
   "outputs": [
    {
     "name": "stdout",
     "output_type": "stream",
     "text": [
      "<class 'pandas.core.frame.DataFrame'>\n",
      "RangeIndex: 1275 entries, 0 to 1274\n",
      "Data columns (total 24 columns):\n",
      " #   Column                Non-Null Count  Dtype  \n",
      "---  ------                --------------  -----  \n",
      " 0   Company               1275 non-null   object \n",
      " 1   Product               1275 non-null   object \n",
      " 2   TypeName              1275 non-null   object \n",
      " 3   Inches                1275 non-null   float64\n",
      " 4   Ram                   1275 non-null   int64  \n",
      " 5   OS                    1275 non-null   object \n",
      " 6   Weight                1275 non-null   float64\n",
      " 7   Price_euros           1275 non-null   float64\n",
      " 8   Screen                1275 non-null   object \n",
      " 9   ScreenW               1275 non-null   int64  \n",
      " 10  ScreenH               1275 non-null   int64  \n",
      " 11  Touchscreen           1275 non-null   int64  \n",
      " 12  IPSpanel              1275 non-null   int64  \n",
      " 13  RetinaDisplay         1275 non-null   int64  \n",
      " 14  CPU_company           1275 non-null   object \n",
      " 15  CPU_freq              1275 non-null   float64\n",
      " 16  CPU_model             1275 non-null   object \n",
      " 17  PrimaryStorage        1275 non-null   int64  \n",
      " 18  SecondaryStorage      1275 non-null   int64  \n",
      " 19  PrimaryStorageType    1275 non-null   object \n",
      " 20  SecondaryStorageType  1275 non-null   object \n",
      " 21  GPU_company           1275 non-null   object \n",
      " 22  GPU_model             1275 non-null   object \n",
      " 23  ppi                   1275 non-null   float64\n",
      "dtypes: float64(5), int64(8), object(11)\n",
      "memory usage: 239.2+ KB\n"
     ]
    }
   ],
   "source": [
    "df.info()"
   ]
  },
  {
   "cell_type": "code",
   "execution_count": 58,
   "id": "46e26818-7d4c-4751-a230-10a5dac4fab0",
   "metadata": {},
   "outputs": [],
   "source": [
    "df.drop(columns=['Inches','ScreenW','ScreenH'],inplace=True)"
   ]
  },
  {
   "cell_type": "code",
   "execution_count": 60,
   "id": "8b1f0a20-eb7e-4fba-85a5-b79578c153c1",
   "metadata": {},
   "outputs": [
    {
     "data": {
      "text/html": [
       "<div>\n",
       "<style scoped>\n",
       "    .dataframe tbody tr th:only-of-type {\n",
       "        vertical-align: middle;\n",
       "    }\n",
       "\n",
       "    .dataframe tbody tr th {\n",
       "        vertical-align: top;\n",
       "    }\n",
       "\n",
       "    .dataframe thead th {\n",
       "        text-align: right;\n",
       "    }\n",
       "</style>\n",
       "<table border=\"1\" class=\"dataframe\">\n",
       "  <thead>\n",
       "    <tr style=\"text-align: right;\">\n",
       "      <th></th>\n",
       "      <th>Company</th>\n",
       "      <th>Product</th>\n",
       "      <th>TypeName</th>\n",
       "      <th>Ram</th>\n",
       "      <th>OS</th>\n",
       "      <th>Weight</th>\n",
       "      <th>Price_euros</th>\n",
       "      <th>Screen</th>\n",
       "      <th>Touchscreen</th>\n",
       "      <th>IPSpanel</th>\n",
       "      <th>...</th>\n",
       "      <th>CPU_company</th>\n",
       "      <th>CPU_freq</th>\n",
       "      <th>CPU_model</th>\n",
       "      <th>PrimaryStorage</th>\n",
       "      <th>SecondaryStorage</th>\n",
       "      <th>PrimaryStorageType</th>\n",
       "      <th>SecondaryStorageType</th>\n",
       "      <th>GPU_company</th>\n",
       "      <th>GPU_model</th>\n",
       "      <th>ppi</th>\n",
       "    </tr>\n",
       "  </thead>\n",
       "  <tbody>\n",
       "    <tr>\n",
       "      <th>0</th>\n",
       "      <td>Apple</td>\n",
       "      <td>MacBook Pro</td>\n",
       "      <td>Ultrabook</td>\n",
       "      <td>8</td>\n",
       "      <td>macOS</td>\n",
       "      <td>1.37</td>\n",
       "      <td>1339.69</td>\n",
       "      <td>Standard</td>\n",
       "      <td>0</td>\n",
       "      <td>1</td>\n",
       "      <td>...</td>\n",
       "      <td>Intel</td>\n",
       "      <td>2.3</td>\n",
       "      <td>Core i5</td>\n",
       "      <td>128</td>\n",
       "      <td>0</td>\n",
       "      <td>SSD</td>\n",
       "      <td>No</td>\n",
       "      <td>Intel</td>\n",
       "      <td>Iris Plus Graphics 640</td>\n",
       "      <td>226.983005</td>\n",
       "    </tr>\n",
       "    <tr>\n",
       "      <th>1</th>\n",
       "      <td>Apple</td>\n",
       "      <td>Macbook Air</td>\n",
       "      <td>Ultrabook</td>\n",
       "      <td>8</td>\n",
       "      <td>macOS</td>\n",
       "      <td>1.34</td>\n",
       "      <td>898.94</td>\n",
       "      <td>Standard</td>\n",
       "      <td>0</td>\n",
       "      <td>0</td>\n",
       "      <td>...</td>\n",
       "      <td>Intel</td>\n",
       "      <td>1.8</td>\n",
       "      <td>Core i5</td>\n",
       "      <td>128</td>\n",
       "      <td>0</td>\n",
       "      <td>Flash Storage</td>\n",
       "      <td>No</td>\n",
       "      <td>Intel</td>\n",
       "      <td>HD Graphics 6000</td>\n",
       "      <td>127.677940</td>\n",
       "    </tr>\n",
       "    <tr>\n",
       "      <th>2</th>\n",
       "      <td>HP</td>\n",
       "      <td>250 G6</td>\n",
       "      <td>Notebook</td>\n",
       "      <td>8</td>\n",
       "      <td>No OS</td>\n",
       "      <td>1.86</td>\n",
       "      <td>575.00</td>\n",
       "      <td>Full HD</td>\n",
       "      <td>0</td>\n",
       "      <td>0</td>\n",
       "      <td>...</td>\n",
       "      <td>Intel</td>\n",
       "      <td>2.5</td>\n",
       "      <td>Core i5 7200U</td>\n",
       "      <td>256</td>\n",
       "      <td>0</td>\n",
       "      <td>SSD</td>\n",
       "      <td>No</td>\n",
       "      <td>Intel</td>\n",
       "      <td>HD Graphics 620</td>\n",
       "      <td>141.211998</td>\n",
       "    </tr>\n",
       "    <tr>\n",
       "      <th>3</th>\n",
       "      <td>Apple</td>\n",
       "      <td>MacBook Pro</td>\n",
       "      <td>Ultrabook</td>\n",
       "      <td>16</td>\n",
       "      <td>macOS</td>\n",
       "      <td>1.83</td>\n",
       "      <td>2537.45</td>\n",
       "      <td>Standard</td>\n",
       "      <td>0</td>\n",
       "      <td>1</td>\n",
       "      <td>...</td>\n",
       "      <td>Intel</td>\n",
       "      <td>2.7</td>\n",
       "      <td>Core i7</td>\n",
       "      <td>512</td>\n",
       "      <td>0</td>\n",
       "      <td>SSD</td>\n",
       "      <td>No</td>\n",
       "      <td>AMD</td>\n",
       "      <td>Radeon Pro 455</td>\n",
       "      <td>220.534624</td>\n",
       "    </tr>\n",
       "    <tr>\n",
       "      <th>4</th>\n",
       "      <td>Apple</td>\n",
       "      <td>MacBook Pro</td>\n",
       "      <td>Ultrabook</td>\n",
       "      <td>8</td>\n",
       "      <td>macOS</td>\n",
       "      <td>1.37</td>\n",
       "      <td>1803.60</td>\n",
       "      <td>Standard</td>\n",
       "      <td>0</td>\n",
       "      <td>1</td>\n",
       "      <td>...</td>\n",
       "      <td>Intel</td>\n",
       "      <td>3.1</td>\n",
       "      <td>Core i5</td>\n",
       "      <td>256</td>\n",
       "      <td>0</td>\n",
       "      <td>SSD</td>\n",
       "      <td>No</td>\n",
       "      <td>Intel</td>\n",
       "      <td>Iris Plus Graphics 650</td>\n",
       "      <td>226.983005</td>\n",
       "    </tr>\n",
       "  </tbody>\n",
       "</table>\n",
       "<p>5 rows × 21 columns</p>\n",
       "</div>"
      ],
      "text/plain": [
       "  Company      Product   TypeName  Ram     OS  Weight  Price_euros    Screen  \\\n",
       "0   Apple  MacBook Pro  Ultrabook    8  macOS    1.37      1339.69  Standard   \n",
       "1   Apple  Macbook Air  Ultrabook    8  macOS    1.34       898.94  Standard   \n",
       "2      HP       250 G6   Notebook    8  No OS    1.86       575.00   Full HD   \n",
       "3   Apple  MacBook Pro  Ultrabook   16  macOS    1.83      2537.45  Standard   \n",
       "4   Apple  MacBook Pro  Ultrabook    8  macOS    1.37      1803.60  Standard   \n",
       "\n",
       "   Touchscreen  IPSpanel  ...  CPU_company CPU_freq      CPU_model  \\\n",
       "0            0         1  ...        Intel      2.3        Core i5   \n",
       "1            0         0  ...        Intel      1.8        Core i5   \n",
       "2            0         0  ...        Intel      2.5  Core i5 7200U   \n",
       "3            0         1  ...        Intel      2.7        Core i7   \n",
       "4            0         1  ...        Intel      3.1        Core i5   \n",
       "\n",
       "  PrimaryStorage  SecondaryStorage  PrimaryStorageType SecondaryStorageType  \\\n",
       "0            128                 0                 SSD                   No   \n",
       "1            128                 0       Flash Storage                   No   \n",
       "2            256                 0                 SSD                   No   \n",
       "3            512                 0                 SSD                   No   \n",
       "4            256                 0                 SSD                   No   \n",
       "\n",
       "  GPU_company               GPU_model         ppi  \n",
       "0       Intel  Iris Plus Graphics 640  226.983005  \n",
       "1       Intel        HD Graphics 6000  127.677940  \n",
       "2       Intel         HD Graphics 620  141.211998  \n",
       "3         AMD          Radeon Pro 455  220.534624  \n",
       "4       Intel  Iris Plus Graphics 650  226.983005  \n",
       "\n",
       "[5 rows x 21 columns]"
      ]
     },
     "execution_count": 60,
     "metadata": {},
     "output_type": "execute_result"
    }
   ],
   "source": [
    "df.head()"
   ]
  },
  {
   "cell_type": "code",
   "execution_count": 62,
   "id": "a4bc5269-11a2-4d7b-a3ee-5285b387434b",
   "metadata": {},
   "outputs": [
    {
     "name": "stdout",
     "output_type": "stream",
     "text": [
      "<class 'pandas.core.frame.DataFrame'>\n",
      "RangeIndex: 1275 entries, 0 to 1274\n",
      "Data columns (total 21 columns):\n",
      " #   Column                Non-Null Count  Dtype  \n",
      "---  ------                --------------  -----  \n",
      " 0   Company               1275 non-null   object \n",
      " 1   Product               1275 non-null   object \n",
      " 2   TypeName              1275 non-null   object \n",
      " 3   Ram                   1275 non-null   int64  \n",
      " 4   OS                    1275 non-null   object \n",
      " 5   Weight                1275 non-null   float64\n",
      " 6   Price_euros           1275 non-null   float64\n",
      " 7   Screen                1275 non-null   object \n",
      " 8   Touchscreen           1275 non-null   int64  \n",
      " 9   IPSpanel              1275 non-null   int64  \n",
      " 10  RetinaDisplay         1275 non-null   int64  \n",
      " 11  CPU_company           1275 non-null   object \n",
      " 12  CPU_freq              1275 non-null   float64\n",
      " 13  CPU_model             1275 non-null   object \n",
      " 14  PrimaryStorage        1275 non-null   int64  \n",
      " 15  SecondaryStorage      1275 non-null   int64  \n",
      " 16  PrimaryStorageType    1275 non-null   object \n",
      " 17  SecondaryStorageType  1275 non-null   object \n",
      " 18  GPU_company           1275 non-null   object \n",
      " 19  GPU_model             1275 non-null   object \n",
      " 20  ppi                   1275 non-null   float64\n",
      "dtypes: float64(4), int64(6), object(11)\n",
      "memory usage: 209.3+ KB\n"
     ]
    }
   ],
   "source": [
    "df.info()"
   ]
  },
  {
   "cell_type": "code",
   "execution_count": 64,
   "id": "3269212f-e3c4-4f98-99f1-33ae684c0535",
   "metadata": {},
   "outputs": [
    {
     "data": {
      "text/plain": [
       "<Axes: xlabel='CPU_company'>"
      ]
     },
     "execution_count": 64,
     "metadata": {},
     "output_type": "execute_result"
    },
    {
     "data": {
      "image/png": "[encoded data removed]",
      "text/plain": [
       "<Figure size 640x480 with 1 Axes>"
      ]
     },
     "metadata": {},
     "output_type": "display_data"
    }
   ],
   "source": [
    "df['CPU_company'].value_counts().plot(kind='bar')"
   ]
  },
  {
   "cell_type": "code",
   "execution_count": 66,
   "id": "30d625d2-12e5-40b9-ba3e-25d94da64276",
   "metadata": {},
   "outputs": [
    {
     "data": {
      "text/plain": [
       "<Axes: xlabel='CPU_freq'>"
      ]
     },
     "execution_count": 66,
     "metadata": {},
     "output_type": "execute_result"
    },
    {
     "data": {
      "image/png": "[encoded data removed]",
      "text/plain": [
       "<Figure size 640x480 with 1 Axes>"
      ]
     },
     "metadata": {},
     "output_type": "display_data"
    }
   ],
   "source": [
    "df['CPU_freq'].value_counts().plot(kind='bar')"
   ]
  },
  {
   "cell_type": "code",
   "execution_count": 68,
   "id": "4a891448-b7c6-4503-ac02-eb2c5ed3ef04",
   "metadata": {},
   "outputs": [
    {
     "data": {
      "text/plain": [
       "CPU_model\n",
       "Core i5 7200U       193\n",
       "Core i7 7700HQ      147\n",
       "Core i7 7500U       133\n",
       "Core i3 6006U        81\n",
       "Core i7 8550U        73\n",
       "                   ... \n",
       "Core M m3             1\n",
       "E-Series E2-9000      1\n",
       "Core M M3-6Y30        1\n",
       "A6-Series 7310        1\n",
       "A9-Series 9410        1\n",
       "Name: count, Length: 93, dtype: int64"
      ]
     },
     "execution_count": 68,
     "metadata": {},
     "output_type": "execute_result"
    }
   ],
   "source": [
    "df['CPU_model'].value_counts()"
   ]
  },
  {
   "cell_type": "code",
   "execution_count": 70,
   "id": "a432edef-820a-43df-9338-3aea7a8fe57c",
   "metadata": {},
   "outputs": [
    {
     "data": {
      "image/png": "[encoded data removed]",
      "text/plain": [
       "<Figure size 640x480 with 1 Axes>"
      ]
     },
     "metadata": {},
     "output_type": "display_data"
    }
   ],
   "source": [
    "sns.barplot(x=df['CPU_company'],y=df['Price_euros'])\n",
    "plt.xticks(rotation='vertical')\n",
    "plt.show()"
   ]
  },
  {
   "cell_type": "code",
   "execution_count": 72,
   "id": "bd0dced0-8f58-449c-95ad-b1548e914f33",
   "metadata": {},
   "outputs": [
    {
     "data": {
      "text/plain": [
       "CPU_company\n",
       "Intel      1214\n",
       "AMD          60\n",
       "Samsung       1\n",
       "Name: count, dtype: int64"
      ]
     },
     "execution_count": 72,
     "metadata": {},
     "output_type": "execute_result"
    }
   ],
   "source": [
    "df['CPU_company'].value_counts()"
   ]
  },
  {
   "cell_type": "code",
   "execution_count": 74,
   "id": "994ad0fd-0fa8-457f-9723-6cd00b445a30",
   "metadata": {},
   "outputs": [],
   "source": [
    "df = df[df['CPU_company'] != 'Samsung']"
   ]
  },
  {
   "cell_type": "code",
   "execution_count": 76,
   "id": "91c72ae2-4289-4ac2-b933-98b3b3319873",
   "metadata": {},
   "outputs": [
    {
     "data": {
      "text/plain": [
       "CPU_company\n",
       "Intel    1214\n",
       "AMD        60\n",
       "Name: count, dtype: int64"
      ]
     },
     "execution_count": 76,
     "metadata": {},
     "output_type": "execute_result"
    }
   ],
   "source": [
    "df['CPU_company'].value_counts()"
   ]
  },
  {
   "cell_type": "code",
   "execution_count": 78,
   "id": "7a2d8216-e487-471f-972d-66e70101a862",
   "metadata": {},
   "outputs": [
    {
     "data": {
      "text/plain": [
       "CPU_model\n",
       "Core i5 7200U       193\n",
       "Core i7 7700HQ      147\n",
       "Core i7 7500U       133\n",
       "Core i3 6006U        81\n",
       "Core i7 8550U        73\n",
       "                   ... \n",
       "Core M m3             1\n",
       "E-Series E2-9000      1\n",
       "Core M M3-6Y30        1\n",
       "A6-Series 7310        1\n",
       "A9-Series 9410        1\n",
       "Name: count, Length: 92, dtype: int64"
      ]
     },
     "execution_count": 78,
     "metadata": {},
     "output_type": "execute_result"
    }
   ],
   "source": [
    "df['CPU_model'].value_counts()"
   ]
  },
  {
   "cell_type": "code",
   "execution_count": 80,
   "id": "d7ddb527-3178-4676-a132-f079534645aa",
   "metadata": {},
   "outputs": [],
   "source": [
    "# Combine the columns into a new column named 'cpu_info'\n",
    "df['CPU_info'] = df['CPU_company'] + ' ' + df['CPU_model']"
   ]
  },
  {
   "cell_type": "code",
   "execution_count": 82,
   "id": "0d2a07ca-4e91-4dee-9908-34188c6f9c68",
   "metadata": {},
   "outputs": [
    {
     "data": {
      "text/plain": [
       "0           Intel Core i5\n",
       "1           Intel Core i5\n",
       "2     Intel Core i5 7200U\n",
       "3           Intel Core i7\n",
       "4           Intel Core i5\n",
       "5      AMD A9-Series 9420\n",
       "6           Intel Core i7\n",
       "7           Intel Core i5\n",
       "8     Intel Core i7 8550U\n",
       "9     Intel Core i5 8250U\n",
       "10    Intel Core i5 7200U\n",
       "11    Intel Core i3 6006U\n",
       "12          Intel Core i7\n",
       "13    Intel Core i3 6006U\n",
       "14        Intel Core M m3\n",
       "Name: CPU_info, dtype: object"
      ]
     },
     "execution_count": 82,
     "metadata": {},
     "output_type": "execute_result"
    }
   ],
   "source": [
    "df['CPU_info'].head(15)"
   ]
  },
  {
   "cell_type": "code",
   "execution_count": 78,
   "id": "14386bf3-9c64-4c5e-8e49-73e06ee18561",
   "metadata": {},
   "outputs": [],
   "source": [
    "#df['CPU_Name']=df['CPU_info'].apply(lambda x:x.split()[0:3])"
   ]
  },
  {
   "cell_type": "code",
   "execution_count": 84,
   "id": "6483d7c1-7904-4851-9674-a5e647adc255",
   "metadata": {},
   "outputs": [],
   "source": [
    "df['CPU_Name'] = df['CPU_info'].apply(lambda x:\" \".join(x.split()[0:3]))"
   ]
  },
  {
   "cell_type": "code",
   "execution_count": 86,
   "id": "16c35208-d41d-47ef-91ee-802cef528767",
   "metadata": {},
   "outputs": [
    {
     "data": {
      "text/plain": [
       "0          Intel Core i5\n",
       "1          Intel Core i5\n",
       "2          Intel Core i5\n",
       "3          Intel Core i7\n",
       "4          Intel Core i5\n",
       "5     AMD A9-Series 9420\n",
       "6          Intel Core i7\n",
       "7          Intel Core i5\n",
       "8          Intel Core i7\n",
       "9          Intel Core i5\n",
       "10         Intel Core i5\n",
       "11         Intel Core i3\n",
       "12         Intel Core i7\n",
       "13         Intel Core i3\n",
       "14          Intel Core M\n",
       "Name: CPU_Name, dtype: object"
      ]
     },
     "execution_count": 86,
     "metadata": {},
     "output_type": "execute_result"
    }
   ],
   "source": [
    "df['CPU_Name'].head(15)"
   ]
  },
  {
   "cell_type": "code",
   "execution_count": 88,
   "id": "e549e71b-56f2-431f-8e44-34d436abfd95",
   "metadata": {},
   "outputs": [],
   "source": [
    "def fetch_processor(text):\n",
    "    if text == 'Intel Core i7' or text=='Intel Core i5' or text=='Intel Core i3':\n",
    "        return text\n",
    "    else :\n",
    "        if text.split()[0] == 'Intel':\n",
    "            return 'Other Intel Processor'\n",
    "        else :\n",
    "            return 'AMD Processor'"
   ]
  },
  {
   "cell_type": "code",
   "execution_count": 90,
   "id": "ff471979-ce8c-4b93-85ec-bed56e0a6cd8",
   "metadata": {},
   "outputs": [],
   "source": [
    "df['CPU_Brand'] = df['CPU_Name'].apply(fetch_processor)"
   ]
  },
  {
   "cell_type": "code",
   "execution_count": 92,
   "id": "f35552e3-39b4-48fa-bb4b-2f36cb04ebe1",
   "metadata": {},
   "outputs": [
    {
     "data": {
      "text/html": [
       "<div>\n",
       "<style scoped>\n",
       "    .dataframe tbody tr th:only-of-type {\n",
       "        vertical-align: middle;\n",
       "    }\n",
       "\n",
       "    .dataframe tbody tr th {\n",
       "        vertical-align: top;\n",
       "    }\n",
       "\n",
       "    .dataframe thead th {\n",
       "        text-align: right;\n",
       "    }\n",
       "</style>\n",
       "<table border=\"1\" class=\"dataframe\">\n",
       "  <thead>\n",
       "    <tr style=\"text-align: right;\">\n",
       "      <th></th>\n",
       "      <th>Company</th>\n",
       "      <th>Product</th>\n",
       "      <th>TypeName</th>\n",
       "      <th>Ram</th>\n",
       "      <th>OS</th>\n",
       "      <th>Weight</th>\n",
       "      <th>Price_euros</th>\n",
       "      <th>Screen</th>\n",
       "      <th>Touchscreen</th>\n",
       "      <th>IPSpanel</th>\n",
       "      <th>...</th>\n",
       "      <th>PrimaryStorage</th>\n",
       "      <th>SecondaryStorage</th>\n",
       "      <th>PrimaryStorageType</th>\n",
       "      <th>SecondaryStorageType</th>\n",
       "      <th>GPU_company</th>\n",
       "      <th>GPU_model</th>\n",
       "      <th>ppi</th>\n",
       "      <th>CPU_info</th>\n",
       "      <th>CPU_Name</th>\n",
       "      <th>CPU_Brand</th>\n",
       "    </tr>\n",
       "  </thead>\n",
       "  <tbody>\n",
       "    <tr>\n",
       "      <th>0</th>\n",
       "      <td>Apple</td>\n",
       "      <td>MacBook Pro</td>\n",
       "      <td>Ultrabook</td>\n",
       "      <td>8</td>\n",
       "      <td>macOS</td>\n",
       "      <td>1.37</td>\n",
       "      <td>1339.69</td>\n",
       "      <td>Standard</td>\n",
       "      <td>0</td>\n",
       "      <td>1</td>\n",
       "      <td>...</td>\n",
       "      <td>128</td>\n",
       "      <td>0</td>\n",
       "      <td>SSD</td>\n",
       "      <td>No</td>\n",
       "      <td>Intel</td>\n",
       "      <td>Iris Plus Graphics 640</td>\n",
       "      <td>226.983005</td>\n",
       "      <td>Intel Core i5</td>\n",
       "      <td>Intel Core i5</td>\n",
       "      <td>Intel Core i5</td>\n",
       "    </tr>\n",
       "    <tr>\n",
       "      <th>1</th>\n",
       "      <td>Apple</td>\n",
       "      <td>Macbook Air</td>\n",
       "      <td>Ultrabook</td>\n",
       "      <td>8</td>\n",
       "      <td>macOS</td>\n",
       "      <td>1.34</td>\n",
       "      <td>898.94</td>\n",
       "      <td>Standard</td>\n",
       "      <td>0</td>\n",
       "      <td>0</td>\n",
       "      <td>...</td>\n",
       "      <td>128</td>\n",
       "      <td>0</td>\n",
       "      <td>Flash Storage</td>\n",
       "      <td>No</td>\n",
       "      <td>Intel</td>\n",
       "      <td>HD Graphics 6000</td>\n",
       "      <td>127.677940</td>\n",
       "      <td>Intel Core i5</td>\n",
       "      <td>Intel Core i5</td>\n",
       "      <td>Intel Core i5</td>\n",
       "    </tr>\n",
       "    <tr>\n",
       "      <th>2</th>\n",
       "      <td>HP</td>\n",
       "      <td>250 G6</td>\n",
       "      <td>Notebook</td>\n",
       "      <td>8</td>\n",
       "      <td>No OS</td>\n",
       "      <td>1.86</td>\n",
       "      <td>575.00</td>\n",
       "      <td>Full HD</td>\n",
       "      <td>0</td>\n",
       "      <td>0</td>\n",
       "      <td>...</td>\n",
       "      <td>256</td>\n",
       "      <td>0</td>\n",
       "      <td>SSD</td>\n",
       "      <td>No</td>\n",
       "      <td>Intel</td>\n",
       "      <td>HD Graphics 620</td>\n",
       "      <td>141.211998</td>\n",
       "      <td>Intel Core i5 7200U</td>\n",
       "      <td>Intel Core i5</td>\n",
       "      <td>Intel Core i5</td>\n",
       "    </tr>\n",
       "    <tr>\n",
       "      <th>3</th>\n",
       "      <td>Apple</td>\n",
       "      <td>MacBook Pro</td>\n",
       "      <td>Ultrabook</td>\n",
       "      <td>16</td>\n",
       "      <td>macOS</td>\n",
       "      <td>1.83</td>\n",
       "      <td>2537.45</td>\n",
       "      <td>Standard</td>\n",
       "      <td>0</td>\n",
       "      <td>1</td>\n",
       "      <td>...</td>\n",
       "      <td>512</td>\n",
       "      <td>0</td>\n",
       "      <td>SSD</td>\n",
       "      <td>No</td>\n",
       "      <td>AMD</td>\n",
       "      <td>Radeon Pro 455</td>\n",
       "      <td>220.534624</td>\n",
       "      <td>Intel Core i7</td>\n",
       "      <td>Intel Core i7</td>\n",
       "      <td>Intel Core i7</td>\n",
       "    </tr>\n",
       "    <tr>\n",
       "      <th>4</th>\n",
       "      <td>Apple</td>\n",
       "      <td>MacBook Pro</td>\n",
       "      <td>Ultrabook</td>\n",
       "      <td>8</td>\n",
       "      <td>macOS</td>\n",
       "      <td>1.37</td>\n",
       "      <td>1803.60</td>\n",
       "      <td>Standard</td>\n",
       "      <td>0</td>\n",
       "      <td>1</td>\n",
       "      <td>...</td>\n",
       "      <td>256</td>\n",
       "      <td>0</td>\n",
       "      <td>SSD</td>\n",
       "      <td>No</td>\n",
       "      <td>Intel</td>\n",
       "      <td>Iris Plus Graphics 650</td>\n",
       "      <td>226.983005</td>\n",
       "      <td>Intel Core i5</td>\n",
       "      <td>Intel Core i5</td>\n",
       "      <td>Intel Core i5</td>\n",
       "    </tr>\n",
       "  </tbody>\n",
       "</table>\n",
       "<p>5 rows × 24 columns</p>\n",
       "</div>"
      ],
      "text/plain": [
       "  Company      Product   TypeName  Ram     OS  Weight  Price_euros    Screen  \\\n",
       "0   Apple  MacBook Pro  Ultrabook    8  macOS    1.37      1339.69  Standard   \n",
       "1   Apple  Macbook Air  Ultrabook    8  macOS    1.34       898.94  Standard   \n",
       "2      HP       250 G6   Notebook    8  No OS    1.86       575.00   Full HD   \n",
       "3   Apple  MacBook Pro  Ultrabook   16  macOS    1.83      2537.45  Standard   \n",
       "4   Apple  MacBook Pro  Ultrabook    8  macOS    1.37      1803.60  Standard   \n",
       "\n",
       "   Touchscreen  IPSpanel  ...  PrimaryStorage SecondaryStorage  \\\n",
       "0            0         1  ...             128                0   \n",
       "1            0         0  ...             128                0   \n",
       "2            0         0  ...             256                0   \n",
       "3            0         1  ...             512                0   \n",
       "4            0         1  ...             256                0   \n",
       "\n",
       "   PrimaryStorageType SecondaryStorageType  GPU_company  \\\n",
       "0                 SSD                   No        Intel   \n",
       "1       Flash Storage                   No        Intel   \n",
       "2                 SSD                   No        Intel   \n",
       "3                 SSD                   No          AMD   \n",
       "4                 SSD                   No        Intel   \n",
       "\n",
       "                GPU_model         ppi             CPU_info       CPU_Name  \\\n",
       "0  Iris Plus Graphics 640  226.983005        Intel Core i5  Intel Core i5   \n",
       "1        HD Graphics 6000  127.677940        Intel Core i5  Intel Core i5   \n",
       "2         HD Graphics 620  141.211998  Intel Core i5 7200U  Intel Core i5   \n",
       "3          Radeon Pro 455  220.534624        Intel Core i7  Intel Core i7   \n",
       "4  Iris Plus Graphics 650  226.983005        Intel Core i5  Intel Core i5   \n",
       "\n",
       "       CPU_Brand  \n",
       "0  Intel Core i5  \n",
       "1  Intel Core i5  \n",
       "2  Intel Core i5  \n",
       "3  Intel Core i7  \n",
       "4  Intel Core i5  \n",
       "\n",
       "[5 rows x 24 columns]"
      ]
     },
     "execution_count": 92,
     "metadata": {},
     "output_type": "execute_result"
    }
   ],
   "source": [
    "df.head()"
   ]
  },
  {
   "cell_type": "code",
   "execution_count": 94,
   "id": "c4406c1f-69b2-456e-a482-f200baad622c",
   "metadata": {},
   "outputs": [
    {
     "data": {
      "text/plain": [
       "Index(['Company', 'Product', 'TypeName', 'Ram', 'OS', 'Weight', 'Price_euros',\n",
       "       'Screen', 'Touchscreen', 'IPSpanel', 'RetinaDisplay', 'CPU_company',\n",
       "       'CPU_freq', 'CPU_model', 'PrimaryStorage', 'SecondaryStorage',\n",
       "       'PrimaryStorageType', 'SecondaryStorageType', 'GPU_company',\n",
       "       'GPU_model', 'ppi', 'CPU_info', 'CPU_Name', 'CPU_Brand'],\n",
       "      dtype='object')"
      ]
     },
     "execution_count": 94,
     "metadata": {},
     "output_type": "execute_result"
    }
   ],
   "source": [
    "df.columns"
   ]
  },
  {
   "cell_type": "code",
   "execution_count": 96,
   "id": "d432f128-60bd-4c80-a5f4-501fbc6d3a54",
   "metadata": {},
   "outputs": [],
   "source": [
    "df.drop(columns=['CPU_company','CPU_freq','CPU_model','CPU_info','CPU_Name'],inplace=True)"
   ]
  },
  {
   "cell_type": "code",
   "execution_count": 98,
   "id": "1b67ede9-9721-45a6-983f-f4cd46742cc6",
   "metadata": {},
   "outputs": [
    {
     "data": {
      "text/html": [
       "<div>\n",
       "<style scoped>\n",
       "    .dataframe tbody tr th:only-of-type {\n",
       "        vertical-align: middle;\n",
       "    }\n",
       "\n",
       "    .dataframe tbody tr th {\n",
       "        vertical-align: top;\n",
       "    }\n",
       "\n",
       "    .dataframe thead th {\n",
       "        text-align: right;\n",
       "    }\n",
       "</style>\n",
       "<table border=\"1\" class=\"dataframe\">\n",
       "  <thead>\n",
       "    <tr style=\"text-align: right;\">\n",
       "      <th></th>\n",
       "      <th>Company</th>\n",
       "      <th>Product</th>\n",
       "      <th>TypeName</th>\n",
       "      <th>Ram</th>\n",
       "      <th>OS</th>\n",
       "      <th>Weight</th>\n",
       "      <th>Price_euros</th>\n",
       "      <th>Screen</th>\n",
       "      <th>Touchscreen</th>\n",
       "      <th>IPSpanel</th>\n",
       "      <th>RetinaDisplay</th>\n",
       "      <th>PrimaryStorage</th>\n",
       "      <th>SecondaryStorage</th>\n",
       "      <th>PrimaryStorageType</th>\n",
       "      <th>SecondaryStorageType</th>\n",
       "      <th>GPU_company</th>\n",
       "      <th>GPU_model</th>\n",
       "      <th>ppi</th>\n",
       "      <th>CPU_Brand</th>\n",
       "    </tr>\n",
       "  </thead>\n",
       "  <tbody>\n",
       "    <tr>\n",
       "      <th>0</th>\n",
       "      <td>Apple</td>\n",
       "      <td>MacBook Pro</td>\n",
       "      <td>Ultrabook</td>\n",
       "      <td>8</td>\n",
       "      <td>macOS</td>\n",
       "      <td>1.37</td>\n",
       "      <td>1339.69</td>\n",
       "      <td>Standard</td>\n",
       "      <td>0</td>\n",
       "      <td>1</td>\n",
       "      <td>1</td>\n",
       "      <td>128</td>\n",
       "      <td>0</td>\n",
       "      <td>SSD</td>\n",
       "      <td>No</td>\n",
       "      <td>Intel</td>\n",
       "      <td>Iris Plus Graphics 640</td>\n",
       "      <td>226.983005</td>\n",
       "      <td>Intel Core i5</td>\n",
       "    </tr>\n",
       "    <tr>\n",
       "      <th>1</th>\n",
       "      <td>Apple</td>\n",
       "      <td>Macbook Air</td>\n",
       "      <td>Ultrabook</td>\n",
       "      <td>8</td>\n",
       "      <td>macOS</td>\n",
       "      <td>1.34</td>\n",
       "      <td>898.94</td>\n",
       "      <td>Standard</td>\n",
       "      <td>0</td>\n",
       "      <td>0</td>\n",
       "      <td>0</td>\n",
       "      <td>128</td>\n",
       "      <td>0</td>\n",
       "      <td>Flash Storage</td>\n",
       "      <td>No</td>\n",
       "      <td>Intel</td>\n",
       "      <td>HD Graphics 6000</td>\n",
       "      <td>127.677940</td>\n",
       "      <td>Intel Core i5</td>\n",
       "    </tr>\n",
       "    <tr>\n",
       "      <th>2</th>\n",
       "      <td>HP</td>\n",
       "      <td>250 G6</td>\n",
       "      <td>Notebook</td>\n",
       "      <td>8</td>\n",
       "      <td>No OS</td>\n",
       "      <td>1.86</td>\n",
       "      <td>575.00</td>\n",
       "      <td>Full HD</td>\n",
       "      <td>0</td>\n",
       "      <td>0</td>\n",
       "      <td>0</td>\n",
       "      <td>256</td>\n",
       "      <td>0</td>\n",
       "      <td>SSD</td>\n",
       "      <td>No</td>\n",
       "      <td>Intel</td>\n",
       "      <td>HD Graphics 620</td>\n",
       "      <td>141.211998</td>\n",
       "      <td>Intel Core i5</td>\n",
       "    </tr>\n",
       "    <tr>\n",
       "      <th>3</th>\n",
       "      <td>Apple</td>\n",
       "      <td>MacBook Pro</td>\n",
       "      <td>Ultrabook</td>\n",
       "      <td>16</td>\n",
       "      <td>macOS</td>\n",
       "      <td>1.83</td>\n",
       "      <td>2537.45</td>\n",
       "      <td>Standard</td>\n",
       "      <td>0</td>\n",
       "      <td>1</td>\n",
       "      <td>1</td>\n",
       "      <td>512</td>\n",
       "      <td>0</td>\n",
       "      <td>SSD</td>\n",
       "      <td>No</td>\n",
       "      <td>AMD</td>\n",
       "      <td>Radeon Pro 455</td>\n",
       "      <td>220.534624</td>\n",
       "      <td>Intel Core i7</td>\n",
       "    </tr>\n",
       "    <tr>\n",
       "      <th>4</th>\n",
       "      <td>Apple</td>\n",
       "      <td>MacBook Pro</td>\n",
       "      <td>Ultrabook</td>\n",
       "      <td>8</td>\n",
       "      <td>macOS</td>\n",
       "      <td>1.37</td>\n",
       "      <td>1803.60</td>\n",
       "      <td>Standard</td>\n",
       "      <td>0</td>\n",
       "      <td>1</td>\n",
       "      <td>1</td>\n",
       "      <td>256</td>\n",
       "      <td>0</td>\n",
       "      <td>SSD</td>\n",
       "      <td>No</td>\n",
       "      <td>Intel</td>\n",
       "      <td>Iris Plus Graphics 650</td>\n",
       "      <td>226.983005</td>\n",
       "      <td>Intel Core i5</td>\n",
       "    </tr>\n",
       "  </tbody>\n",
       "</table>\n",
       "</div>"
      ],
      "text/plain": [
       "  Company      Product   TypeName  Ram     OS  Weight  Price_euros    Screen  \\\n",
       "0   Apple  MacBook Pro  Ultrabook    8  macOS    1.37      1339.69  Standard   \n",
       "1   Apple  Macbook Air  Ultrabook    8  macOS    1.34       898.94  Standard   \n",
       "2      HP       250 G6   Notebook    8  No OS    1.86       575.00   Full HD   \n",
       "3   Apple  MacBook Pro  Ultrabook   16  macOS    1.83      2537.45  Standard   \n",
       "4   Apple  MacBook Pro  Ultrabook    8  macOS    1.37      1803.60  Standard   \n",
       "\n",
       "   Touchscreen  IPSpanel  RetinaDisplay  PrimaryStorage  SecondaryStorage  \\\n",
       "0            0         1              1             128                 0   \n",
       "1            0         0              0             128                 0   \n",
       "2            0         0              0             256                 0   \n",
       "3            0         1              1             512                 0   \n",
       "4            0         1              1             256                 0   \n",
       "\n",
       "  PrimaryStorageType SecondaryStorageType GPU_company               GPU_model  \\\n",
       "0                SSD                   No       Intel  Iris Plus Graphics 640   \n",
       "1      Flash Storage                   No       Intel        HD Graphics 6000   \n",
       "2                SSD                   No       Intel         HD Graphics 620   \n",
       "3                SSD                   No         AMD          Radeon Pro 455   \n",
       "4                SSD                   No       Intel  Iris Plus Graphics 650   \n",
       "\n",
       "          ppi      CPU_Brand  \n",
       "0  226.983005  Intel Core i5  \n",
       "1  127.677940  Intel Core i5  \n",
       "2  141.211998  Intel Core i5  \n",
       "3  220.534624  Intel Core i7  \n",
       "4  226.983005  Intel Core i5  "
      ]
     },
     "execution_count": 98,
     "metadata": {},
     "output_type": "execute_result"
    }
   ],
   "source": [
    "df.head()"
   ]
  },
  {
   "cell_type": "code",
   "execution_count": 100,
   "id": "0748bc4a-ad8c-45ba-adcd-0b7b0e8992a3",
   "metadata": {},
   "outputs": [
    {
     "data": {
      "text/plain": [
       "<Axes: xlabel='CPU_Brand'>"
      ]
     },
     "execution_count": 100,
     "metadata": {},
     "output_type": "execute_result"
    },
    {
     "data": {
      "image/png": "[encoded data removed]",
      "text/plain": [
       "<Figure size 640x480 with 1 Axes>"
      ]
     },
     "metadata": {},
     "output_type": "display_data"
    }
   ],
   "source": [
    "df['CPU_Brand'].value_counts().plot(kind='bar')"
   ]
  },
  {
   "cell_type": "code",
   "execution_count": 102,
   "id": "e267c289-f0ef-4852-bd43-a15c96ac954a",
   "metadata": {},
   "outputs": [
    {
     "data": {
      "image/png": "[encoded data removed]",
      "text/plain": [
       "<Figure size 640x480 with 1 Axes>"
      ]
     },
     "metadata": {},
     "output_type": "display_data"
    }
   ],
   "source": [
    "sns.barplot(x=df['CPU_Brand'],y=df['Price_euros'])\n",
    "plt.xticks(rotation='vertical')\n",
    "plt.show()"
   ]
  },
  {
   "cell_type": "code",
   "execution_count": 98,
   "id": "7ef2c990-4415-48a1-ac1e-879e4abe8c55",
   "metadata": {},
   "outputs": [],
   "source": [
    "# def fetch_processors(company=None,freq=None,model=None):\n",
    "#     if company == 'Intel' or 'AMD':\n",
    "#         print(company)\n",
    "#         if freq in df['CPU_freq'] :\n",
    "#             print(freq)\n",
    "#             if model in df['CPU_model'] :\n",
    "#                 print(model)\n",
    "#             else :\n",
    "#                 print(\"Other Model\") \n",
    "#         else :\n",
    "#             print(\"don't Know\") \n",
    "#     else :\n",
    "#         print(\"Other Company Processor\") "
   ]
  },
  {
   "cell_type": "code",
   "execution_count": 104,
   "id": "30e28ec3-2387-4c00-bb24-a9a8fe61786b",
   "metadata": {},
   "outputs": [
    {
     "data": {
      "text/plain": [
       "Index(['Company', 'Product', 'TypeName', 'Ram', 'OS', 'Weight', 'Price_euros',\n",
       "       'Screen', 'Touchscreen', 'IPSpanel', 'RetinaDisplay', 'PrimaryStorage',\n",
       "       'SecondaryStorage', 'PrimaryStorageType', 'SecondaryStorageType',\n",
       "       'GPU_company', 'GPU_model', 'ppi', 'CPU_Brand'],\n",
       "      dtype='object')"
      ]
     },
     "execution_count": 104,
     "metadata": {},
     "output_type": "execute_result"
    }
   ],
   "source": [
    "df.columns"
   ]
  },
  {
   "cell_type": "code",
   "execution_count": 106,
   "id": "c9de8dfd-3a32-44b1-8198-279603f2c8ea",
   "metadata": {},
   "outputs": [
    {
     "name": "stdout",
     "output_type": "stream",
     "text": [
      "<class 'pandas.core.frame.DataFrame'>\n",
      "Index: 1274 entries, 0 to 1274\n",
      "Data columns (total 19 columns):\n",
      " #   Column                Non-Null Count  Dtype  \n",
      "---  ------                --------------  -----  \n",
      " 0   Company               1274 non-null   object \n",
      " 1   Product               1274 non-null   object \n",
      " 2   TypeName              1274 non-null   object \n",
      " 3   Ram                   1274 non-null   int64  \n",
      " 4   OS                    1274 non-null   object \n",
      " 5   Weight                1274 non-null   float64\n",
      " 6   Price_euros           1274 non-null   float64\n",
      " 7   Screen                1274 non-null   object \n",
      " 8   Touchscreen           1274 non-null   int64  \n",
      " 9   IPSpanel              1274 non-null   int64  \n",
      " 10  RetinaDisplay         1274 non-null   int64  \n",
      " 11  PrimaryStorage        1274 non-null   int64  \n",
      " 12  SecondaryStorage      1274 non-null   int64  \n",
      " 13  PrimaryStorageType    1274 non-null   object \n",
      " 14  SecondaryStorageType  1274 non-null   object \n",
      " 15  GPU_company           1274 non-null   object \n",
      " 16  GPU_model             1274 non-null   object \n",
      " 17  ppi                   1274 non-null   float64\n",
      " 18  CPU_Brand             1274 non-null   object \n",
      "dtypes: float64(3), int64(6), object(10)\n",
      "memory usage: 199.1+ KB\n"
     ]
    }
   ],
   "source": [
    "df.info()"
   ]
  },
  {
   "cell_type": "code",
   "execution_count": 108,
   "id": "930167ff-412b-40e5-9619-603971fad1b3",
   "metadata": {},
   "outputs": [
    {
     "data": {
      "text/plain": [
       "Product\n",
       "XPS 13                                 30\n",
       "Inspiron 3567                          25\n",
       "250 G6                                 21\n",
       "Legion Y520-15IKBN                     19\n",
       "Vostro 3568                            19\n",
       "                                       ..\n",
       "VivoBook E201NA                         1\n",
       "Ideapad 520-15IKBR                      1\n",
       "Thinkpad X260                           1\n",
       "Rog G752VL-UH71T                        1\n",
       "X553SA-XX031T (N3050/4GB/500GB/W10)     1\n",
       "Name: count, Length: 617, dtype: int64"
      ]
     },
     "execution_count": 108,
     "metadata": {},
     "output_type": "execute_result"
    }
   ],
   "source": [
    "df['Product'].value_counts()"
   ]
  },
  {
   "cell_type": "code",
   "execution_count": 114,
   "id": "f2071821-935f-49c5-8713-de36f3eebde1",
   "metadata": {},
   "outputs": [
    {
     "data": {
      "text/plain": [
       "<Axes: xlabel='Ram'>"
      ]
     },
     "execution_count": 114,
     "metadata": {},
     "output_type": "execute_result"
    },
    {
     "data": {
      "image/png": "[encoded data removed]",
      "text/plain": [
       "<Figure size 640x480 with 1 Axes>"
      ]
     },
     "metadata": {},
     "output_type": "display_data"
    }
   ],
   "source": [
    "df['Ram'].value_counts().plot(kind='bar')"
   ]
  },
  {
   "cell_type": "code",
   "execution_count": 116,
   "id": "cebf2d57-4028-449f-a0e1-c1e9d233ddb7",
   "metadata": {},
   "outputs": [
    {
     "data": {
      "image/png": "[encoded data removed]",
      "text/plain": [
       "<Figure size 640x480 with 1 Axes>"
      ]
     },
     "metadata": {},
     "output_type": "display_data"
    }
   ],
   "source": [
    "sns.barplot(x=df['Ram'],y=df['Price_euros'])\n",
    "plt.xticks(rotation='vertical')\n",
    "plt.show()"
   ]
  },
  {
   "cell_type": "code",
   "execution_count": 118,
   "id": "66f3e1c6-5aaf-493d-9ec7-0f2d21cdd956",
   "metadata": {},
   "outputs": [
    {
     "data": {
      "text/html": [
       "<div>\n",
       "<style scoped>\n",
       "    .dataframe tbody tr th:only-of-type {\n",
       "        vertical-align: middle;\n",
       "    }\n",
       "\n",
       "    .dataframe tbody tr th {\n",
       "        vertical-align: top;\n",
       "    }\n",
       "\n",
       "    .dataframe thead th {\n",
       "        text-align: right;\n",
       "    }\n",
       "</style>\n",
       "<table border=\"1\" class=\"dataframe\">\n",
       "  <thead>\n",
       "    <tr style=\"text-align: right;\">\n",
       "      <th></th>\n",
       "      <th>Company</th>\n",
       "      <th>Product</th>\n",
       "      <th>TypeName</th>\n",
       "      <th>Ram</th>\n",
       "      <th>OS</th>\n",
       "      <th>Weight</th>\n",
       "      <th>Price_euros</th>\n",
       "      <th>Screen</th>\n",
       "      <th>Touchscreen</th>\n",
       "      <th>IPSpanel</th>\n",
       "      <th>RetinaDisplay</th>\n",
       "      <th>PrimaryStorage</th>\n",
       "      <th>SecondaryStorage</th>\n",
       "      <th>PrimaryStorageType</th>\n",
       "      <th>SecondaryStorageType</th>\n",
       "      <th>GPU_company</th>\n",
       "      <th>GPU_model</th>\n",
       "      <th>ppi</th>\n",
       "      <th>CPU_Brand</th>\n",
       "    </tr>\n",
       "  </thead>\n",
       "  <tbody>\n",
       "    <tr>\n",
       "      <th>0</th>\n",
       "      <td>Apple</td>\n",
       "      <td>MacBook Pro</td>\n",
       "      <td>Ultrabook</td>\n",
       "      <td>8</td>\n",
       "      <td>macOS</td>\n",
       "      <td>1.37</td>\n",
       "      <td>1339.69</td>\n",
       "      <td>Standard</td>\n",
       "      <td>0</td>\n",
       "      <td>1</td>\n",
       "      <td>1</td>\n",
       "      <td>128</td>\n",
       "      <td>0</td>\n",
       "      <td>SSD</td>\n",
       "      <td>No</td>\n",
       "      <td>Intel</td>\n",
       "      <td>Iris Plus Graphics 640</td>\n",
       "      <td>226.983005</td>\n",
       "      <td>Intel Core i5</td>\n",
       "    </tr>\n",
       "    <tr>\n",
       "      <th>1</th>\n",
       "      <td>Apple</td>\n",
       "      <td>Macbook Air</td>\n",
       "      <td>Ultrabook</td>\n",
       "      <td>8</td>\n",
       "      <td>macOS</td>\n",
       "      <td>1.34</td>\n",
       "      <td>898.94</td>\n",
       "      <td>Standard</td>\n",
       "      <td>0</td>\n",
       "      <td>0</td>\n",
       "      <td>0</td>\n",
       "      <td>128</td>\n",
       "      <td>0</td>\n",
       "      <td>Flash Storage</td>\n",
       "      <td>No</td>\n",
       "      <td>Intel</td>\n",
       "      <td>HD Graphics 6000</td>\n",
       "      <td>127.677940</td>\n",
       "      <td>Intel Core i5</td>\n",
       "    </tr>\n",
       "    <tr>\n",
       "      <th>2</th>\n",
       "      <td>HP</td>\n",
       "      <td>250 G6</td>\n",
       "      <td>Notebook</td>\n",
       "      <td>8</td>\n",
       "      <td>No OS</td>\n",
       "      <td>1.86</td>\n",
       "      <td>575.00</td>\n",
       "      <td>Full HD</td>\n",
       "      <td>0</td>\n",
       "      <td>0</td>\n",
       "      <td>0</td>\n",
       "      <td>256</td>\n",
       "      <td>0</td>\n",
       "      <td>SSD</td>\n",
       "      <td>No</td>\n",
       "      <td>Intel</td>\n",
       "      <td>HD Graphics 620</td>\n",
       "      <td>141.211998</td>\n",
       "      <td>Intel Core i5</td>\n",
       "    </tr>\n",
       "    <tr>\n",
       "      <th>3</th>\n",
       "      <td>Apple</td>\n",
       "      <td>MacBook Pro</td>\n",
       "      <td>Ultrabook</td>\n",
       "      <td>16</td>\n",
       "      <td>macOS</td>\n",
       "      <td>1.83</td>\n",
       "      <td>2537.45</td>\n",
       "      <td>Standard</td>\n",
       "      <td>0</td>\n",
       "      <td>1</td>\n",
       "      <td>1</td>\n",
       "      <td>512</td>\n",
       "      <td>0</td>\n",
       "      <td>SSD</td>\n",
       "      <td>No</td>\n",
       "      <td>AMD</td>\n",
       "      <td>Radeon Pro 455</td>\n",
       "      <td>220.534624</td>\n",
       "      <td>Intel Core i7</td>\n",
       "    </tr>\n",
       "    <tr>\n",
       "      <th>4</th>\n",
       "      <td>Apple</td>\n",
       "      <td>MacBook Pro</td>\n",
       "      <td>Ultrabook</td>\n",
       "      <td>8</td>\n",
       "      <td>macOS</td>\n",
       "      <td>1.37</td>\n",
       "      <td>1803.60</td>\n",
       "      <td>Standard</td>\n",
       "      <td>0</td>\n",
       "      <td>1</td>\n",
       "      <td>1</td>\n",
       "      <td>256</td>\n",
       "      <td>0</td>\n",
       "      <td>SSD</td>\n",
       "      <td>No</td>\n",
       "      <td>Intel</td>\n",
       "      <td>Iris Plus Graphics 650</td>\n",
       "      <td>226.983005</td>\n",
       "      <td>Intel Core i5</td>\n",
       "    </tr>\n",
       "  </tbody>\n",
       "</table>\n",
       "</div>"
      ],
      "text/plain": [
       "  Company      Product   TypeName  Ram     OS  Weight  Price_euros    Screen  \\\n",
       "0   Apple  MacBook Pro  Ultrabook    8  macOS    1.37      1339.69  Standard   \n",
       "1   Apple  Macbook Air  Ultrabook    8  macOS    1.34       898.94  Standard   \n",
       "2      HP       250 G6   Notebook    8  No OS    1.86       575.00   Full HD   \n",
       "3   Apple  MacBook Pro  Ultrabook   16  macOS    1.83      2537.45  Standard   \n",
       "4   Apple  MacBook Pro  Ultrabook    8  macOS    1.37      1803.60  Standard   \n",
       "\n",
       "   Touchscreen  IPSpanel  RetinaDisplay  PrimaryStorage  SecondaryStorage  \\\n",
       "0            0         1              1             128                 0   \n",
       "1            0         0              0             128                 0   \n",
       "2            0         0              0             256                 0   \n",
       "3            0         1              1             512                 0   \n",
       "4            0         1              1             256                 0   \n",
       "\n",
       "  PrimaryStorageType SecondaryStorageType GPU_company               GPU_model  \\\n",
       "0                SSD                   No       Intel  Iris Plus Graphics 640   \n",
       "1      Flash Storage                   No       Intel        HD Graphics 6000   \n",
       "2                SSD                   No       Intel         HD Graphics 620   \n",
       "3                SSD                   No         AMD          Radeon Pro 455   \n",
       "4                SSD                   No       Intel  Iris Plus Graphics 650   \n",
       "\n",
       "          ppi      CPU_Brand  \n",
       "0  226.983005  Intel Core i5  \n",
       "1  127.677940  Intel Core i5  \n",
       "2  141.211998  Intel Core i5  \n",
       "3  220.534624  Intel Core i7  \n",
       "4  226.983005  Intel Core i5  "
      ]
     },
     "execution_count": 118,
     "metadata": {},
     "output_type": "execute_result"
    }
   ],
   "source": [
    "df.head()"
   ]
  },
  {
   "cell_type": "code",
   "execution_count": 120,
   "id": "30a441e6-53b4-4a28-b337-e09b8b1654eb",
   "metadata": {},
   "outputs": [
    {
     "data": {
      "text/plain": [
       "PrimaryStorageType\n",
       "SSD              837\n",
       "HDD              359\n",
       "Flash Storage     70\n",
       "Hybrid             8\n",
       "Name: count, dtype: int64"
      ]
     },
     "execution_count": 120,
     "metadata": {},
     "output_type": "execute_result"
    }
   ],
   "source": [
    "df['PrimaryStorageType'].value_counts()"
   ]
  },
  {
   "cell_type": "code",
   "execution_count": 122,
   "id": "18fd9cd0-e490-43cb-8dfa-e469d80f5d35",
   "metadata": {},
   "outputs": [],
   "source": [
    "df['SSD'] = None\n",
    "df['HDD'] = None\n",
    "df['Flash Storage'] = None\n",
    "df['Hybrid'] = None\n",
    "\n",
    "# Populate new columns based on conditions\n",
    "df.loc[df['PrimaryStorageType'] == 'SSD', 'SSD'] = df['PrimaryStorage']\n",
    "df.loc[df['SecondaryStorageType'] == 'SSD', 'SSD'] = df['SecondaryStorage']\n",
    "\n",
    "df.loc[df['PrimaryStorageType'] == 'HDD', 'HDD'] = df['PrimaryStorage']\n",
    "df.loc[df['SecondaryStorageType'] == 'HDD', 'HDD'] = df['SecondaryStorage']\n",
    "\n",
    "df.loc[df['PrimaryStorageType'] == 'Flash Storage', 'Flash Storage'] = df['PrimaryStorage']\n",
    "df.loc[df['SecondaryStorageType'] == 'Flash Storage', 'Flash Storage'] = df['SecondaryStorage']\n",
    "\n",
    "df.loc[df['PrimaryStorageType'] == 'Hybrid', 'Hybrid'] = df['PrimaryStorage']\n",
    "df.loc[df['SecondaryStorageType'] == 'Hybrid', 'Hybrid'] = df['SecondaryStorage']"
   ]
  },
  {
   "cell_type": "code",
   "execution_count": 124,
   "id": "194c6b03-71ae-44cf-a7a4-be2b3922bbe2",
   "metadata": {},
   "outputs": [
    {
     "data": {
      "text/html": [
       "<div>\n",
       "<style scoped>\n",
       "    .dataframe tbody tr th:only-of-type {\n",
       "        vertical-align: middle;\n",
       "    }\n",
       "\n",
       "    .dataframe tbody tr th {\n",
       "        vertical-align: top;\n",
       "    }\n",
       "\n",
       "    .dataframe thead th {\n",
       "        text-align: right;\n",
       "    }\n",
       "</style>\n",
       "<table border=\"1\" class=\"dataframe\">\n",
       "  <thead>\n",
       "    <tr style=\"text-align: right;\">\n",
       "      <th></th>\n",
       "      <th>Company</th>\n",
       "      <th>Product</th>\n",
       "      <th>TypeName</th>\n",
       "      <th>Ram</th>\n",
       "      <th>OS</th>\n",
       "      <th>Weight</th>\n",
       "      <th>Price_euros</th>\n",
       "      <th>Screen</th>\n",
       "      <th>Touchscreen</th>\n",
       "      <th>IPSpanel</th>\n",
       "      <th>...</th>\n",
       "      <th>PrimaryStorageType</th>\n",
       "      <th>SecondaryStorageType</th>\n",
       "      <th>GPU_company</th>\n",
       "      <th>GPU_model</th>\n",
       "      <th>ppi</th>\n",
       "      <th>CPU_Brand</th>\n",
       "      <th>SSD</th>\n",
       "      <th>HDD</th>\n",
       "      <th>Flash Storage</th>\n",
       "      <th>Hybrid</th>\n",
       "    </tr>\n",
       "  </thead>\n",
       "  <tbody>\n",
       "    <tr>\n",
       "      <th>0</th>\n",
       "      <td>Apple</td>\n",
       "      <td>MacBook Pro</td>\n",
       "      <td>Ultrabook</td>\n",
       "      <td>8</td>\n",
       "      <td>macOS</td>\n",
       "      <td>1.37</td>\n",
       "      <td>1339.69</td>\n",
       "      <td>Standard</td>\n",
       "      <td>0</td>\n",
       "      <td>1</td>\n",
       "      <td>...</td>\n",
       "      <td>SSD</td>\n",
       "      <td>No</td>\n",
       "      <td>Intel</td>\n",
       "      <td>Iris Plus Graphics 640</td>\n",
       "      <td>226.983005</td>\n",
       "      <td>Intel Core i5</td>\n",
       "      <td>128</td>\n",
       "      <td>None</td>\n",
       "      <td>None</td>\n",
       "      <td>None</td>\n",
       "    </tr>\n",
       "    <tr>\n",
       "      <th>1</th>\n",
       "      <td>Apple</td>\n",
       "      <td>Macbook Air</td>\n",
       "      <td>Ultrabook</td>\n",
       "      <td>8</td>\n",
       "      <td>macOS</td>\n",
       "      <td>1.34</td>\n",
       "      <td>898.94</td>\n",
       "      <td>Standard</td>\n",
       "      <td>0</td>\n",
       "      <td>0</td>\n",
       "      <td>...</td>\n",
       "      <td>Flash Storage</td>\n",
       "      <td>No</td>\n",
       "      <td>Intel</td>\n",
       "      <td>HD Graphics 6000</td>\n",
       "      <td>127.677940</td>\n",
       "      <td>Intel Core i5</td>\n",
       "      <td>None</td>\n",
       "      <td>None</td>\n",
       "      <td>128</td>\n",
       "      <td>None</td>\n",
       "    </tr>\n",
       "    <tr>\n",
       "      <th>2</th>\n",
       "      <td>HP</td>\n",
       "      <td>250 G6</td>\n",
       "      <td>Notebook</td>\n",
       "      <td>8</td>\n",
       "      <td>No OS</td>\n",
       "      <td>1.86</td>\n",
       "      <td>575.00</td>\n",
       "      <td>Full HD</td>\n",
       "      <td>0</td>\n",
       "      <td>0</td>\n",
       "      <td>...</td>\n",
       "      <td>SSD</td>\n",
       "      <td>No</td>\n",
       "      <td>Intel</td>\n",
       "      <td>HD Graphics 620</td>\n",
       "      <td>141.211998</td>\n",
       "      <td>Intel Core i5</td>\n",
       "      <td>256</td>\n",
       "      <td>None</td>\n",
       "      <td>None</td>\n",
       "      <td>None</td>\n",
       "    </tr>\n",
       "    <tr>\n",
       "      <th>3</th>\n",
       "      <td>Apple</td>\n",
       "      <td>MacBook Pro</td>\n",
       "      <td>Ultrabook</td>\n",
       "      <td>16</td>\n",
       "      <td>macOS</td>\n",
       "      <td>1.83</td>\n",
       "      <td>2537.45</td>\n",
       "      <td>Standard</td>\n",
       "      <td>0</td>\n",
       "      <td>1</td>\n",
       "      <td>...</td>\n",
       "      <td>SSD</td>\n",
       "      <td>No</td>\n",
       "      <td>AMD</td>\n",
       "      <td>Radeon Pro 455</td>\n",
       "      <td>220.534624</td>\n",
       "      <td>Intel Core i7</td>\n",
       "      <td>512</td>\n",
       "      <td>None</td>\n",
       "      <td>None</td>\n",
       "      <td>None</td>\n",
       "    </tr>\n",
       "    <tr>\n",
       "      <th>4</th>\n",
       "      <td>Apple</td>\n",
       "      <td>MacBook Pro</td>\n",
       "      <td>Ultrabook</td>\n",
       "      <td>8</td>\n",
       "      <td>macOS</td>\n",
       "      <td>1.37</td>\n",
       "      <td>1803.60</td>\n",
       "      <td>Standard</td>\n",
       "      <td>0</td>\n",
       "      <td>1</td>\n",
       "      <td>...</td>\n",
       "      <td>SSD</td>\n",
       "      <td>No</td>\n",
       "      <td>Intel</td>\n",
       "      <td>Iris Plus Graphics 650</td>\n",
       "      <td>226.983005</td>\n",
       "      <td>Intel Core i5</td>\n",
       "      <td>256</td>\n",
       "      <td>None</td>\n",
       "      <td>None</td>\n",
       "      <td>None</td>\n",
       "    </tr>\n",
       "  </tbody>\n",
       "</table>\n",
       "<p>5 rows × 23 columns</p>\n",
       "</div>"
      ],
      "text/plain": [
       "  Company      Product   TypeName  Ram     OS  Weight  Price_euros    Screen  \\\n",
       "0   Apple  MacBook Pro  Ultrabook    8  macOS    1.37      1339.69  Standard   \n",
       "1   Apple  Macbook Air  Ultrabook    8  macOS    1.34       898.94  Standard   \n",
       "2      HP       250 G6   Notebook    8  No OS    1.86       575.00   Full HD   \n",
       "3   Apple  MacBook Pro  Ultrabook   16  macOS    1.83      2537.45  Standard   \n",
       "4   Apple  MacBook Pro  Ultrabook    8  macOS    1.37      1803.60  Standard   \n",
       "\n",
       "   Touchscreen  IPSpanel  ...  PrimaryStorageType  SecondaryStorageType  \\\n",
       "0            0         1  ...                 SSD                    No   \n",
       "1            0         0  ...       Flash Storage                    No   \n",
       "2            0         0  ...                 SSD                    No   \n",
       "3            0         1  ...                 SSD                    No   \n",
       "4            0         1  ...                 SSD                    No   \n",
       "\n",
       "   GPU_company               GPU_model         ppi      CPU_Brand   SSD   HDD  \\\n",
       "0        Intel  Iris Plus Graphics 640  226.983005  Intel Core i5   128  None   \n",
       "1        Intel        HD Graphics 6000  127.677940  Intel Core i5  None  None   \n",
       "2        Intel         HD Graphics 620  141.211998  Intel Core i5   256  None   \n",
       "3          AMD          Radeon Pro 455  220.534624  Intel Core i7   512  None   \n",
       "4        Intel  Iris Plus Graphics 650  226.983005  Intel Core i5   256  None   \n",
       "\n",
       "  Flash Storage Hybrid  \n",
       "0          None   None  \n",
       "1           128   None  \n",
       "2          None   None  \n",
       "3          None   None  \n",
       "4          None   None  \n",
       "\n",
       "[5 rows x 23 columns]"
      ]
     },
     "execution_count": 124,
     "metadata": {},
     "output_type": "execute_result"
    }
   ],
   "source": [
    "df.head()"
   ]
  },
  {
   "cell_type": "code",
   "execution_count": 126,
   "id": "38cbecaf-65fd-4e0a-aef3-1692ea14f2ba",
   "metadata": {},
   "outputs": [
    {
     "name": "stderr",
     "output_type": "stream",
     "text": [
      "C:\\Users\\ADMIN\\AppData\\Local\\Temp\\ipykernel_11688\\3802323174.py:1: FutureWarning: A value is trying to be set on a copy of a DataFrame or Series through chained assignment using an inplace method.\n",
      "The behavior will change in pandas 3.0. This inplace method will never work because the intermediate object on which we are setting values always behaves as a copy.\n",
      "\n",
      "For example, when doing 'df[col].method(value, inplace=True)', try using 'df.method({col: value}, inplace=True)' or df[col] = df[col].method(value) instead, to perform the operation inplace on the original object.\n",
      "\n",
      "\n",
      "  df['SSD'].fillna('0', inplace=True)\n",
      "C:\\Users\\ADMIN\\AppData\\Local\\Temp\\ipykernel_11688\\3802323174.py:2: FutureWarning: A value is trying to be set on a copy of a DataFrame or Series through chained assignment using an inplace method.\n",
      "The behavior will change in pandas 3.0. This inplace method will never work because the intermediate object on which we are setting values always behaves as a copy.\n",
      "\n",
      "For example, when doing 'df[col].method(value, inplace=True)', try using 'df.method({col: value}, inplace=True)' or df[col] = df[col].method(value) instead, to perform the operation inplace on the original object.\n",
      "\n",
      "\n",
      "  df['HDD'].fillna('0', inplace=True)\n",
      "C:\\Users\\ADMIN\\AppData\\Local\\Temp\\ipykernel_11688\\3802323174.py:3: FutureWarning: A value is trying to be set on a copy of a DataFrame or Series through chained assignment using an inplace method.\n",
      "The behavior will change in pandas 3.0. This inplace method will never work because the intermediate object on which we are setting values always behaves as a copy.\n",
      "\n",
      "For example, when doing 'df[col].method(value, inplace=True)', try using 'df.method({col: value}, inplace=True)' or df[col] = df[col].method(value) instead, to perform the operation inplace on the original object.\n",
      "\n",
      "\n",
      "  df['Flash Storage'].fillna('0', inplace=True)\n",
      "C:\\Users\\ADMIN\\AppData\\Local\\Temp\\ipykernel_11688\\3802323174.py:4: FutureWarning: A value is trying to be set on a copy of a DataFrame or Series through chained assignment using an inplace method.\n",
      "The behavior will change in pandas 3.0. This inplace method will never work because the intermediate object on which we are setting values always behaves as a copy.\n",
      "\n",
      "For example, when doing 'df[col].method(value, inplace=True)', try using 'df.method({col: value}, inplace=True)' or df[col] = df[col].method(value) instead, to perform the operation inplace on the original object.\n",
      "\n",
      "\n",
      "  df['Hybrid'].fillna('0', inplace=True)\n"
     ]
    }
   ],
   "source": [
    "df['SSD'].fillna('0', inplace=True)\n",
    "df['HDD'].fillna('0', inplace=True)\n",
    "df['Flash Storage'].fillna('0', inplace=True)\n",
    "df['Hybrid'].fillna('0', inplace=True)"
   ]
  },
  {
   "cell_type": "code",
   "execution_count": 130,
   "id": "5ea6f6cd-e595-4bbc-9456-05f2d70c49c4",
   "metadata": {},
   "outputs": [],
   "source": [
    "df['SSD'] = df['SSD'].astype(int)\n",
    "df['HDD'] = df['HDD'].astype(int)\n",
    "df['Flash Storage'] = df['Flash Storage'].astype(int)\n",
    "df['Hybrid'] = df['Hybrid'].astype(int)"
   ]
  },
  {
   "cell_type": "code",
   "execution_count": 132,
   "id": "ae8ca7a2-78ff-4043-b7eb-e8c2cc72f9e0",
   "metadata": {},
   "outputs": [
    {
     "data": {
      "text/plain": [
       "Ram                 0.740176\n",
       "Weight              0.211359\n",
       "Price_euros         1.000000\n",
       "Touchscreen         0.190636\n",
       "IPSpanel            0.251892\n",
       "RetinaDisplay       0.086730\n",
       "PrimaryStorage     -0.125463\n",
       "SecondaryStorage    0.291054\n",
       "ppi                 0.471973\n",
       "SSD                 0.675488\n",
       "HDD                -0.096261\n",
       "Flash Storage      -0.036568\n",
       "Hybrid              0.022591\n",
       "Name: Price_euros, dtype: float64"
      ]
     },
     "execution_count": 132,
     "metadata": {},
     "output_type": "execute_result"
    }
   ],
   "source": [
    "df.corr(numeric_only=True)['Price_euros']"
   ]
  },
  {
   "cell_type": "code",
   "execution_count": 134,
   "id": "09fa1ef2-3c19-4d40-b135-15c47fa5484a",
   "metadata": {},
   "outputs": [
    {
     "data": {
      "text/html": [
       "<div>\n",
       "<style scoped>\n",
       "    .dataframe tbody tr th:only-of-type {\n",
       "        vertical-align: middle;\n",
       "    }\n",
       "\n",
       "    .dataframe tbody tr th {\n",
       "        vertical-align: top;\n",
       "    }\n",
       "\n",
       "    .dataframe thead th {\n",
       "        text-align: right;\n",
       "    }\n",
       "</style>\n",
       "<table border=\"1\" class=\"dataframe\">\n",
       "  <thead>\n",
       "    <tr style=\"text-align: right;\">\n",
       "      <th></th>\n",
       "      <th>Company</th>\n",
       "      <th>Product</th>\n",
       "      <th>TypeName</th>\n",
       "      <th>Ram</th>\n",
       "      <th>OS</th>\n",
       "      <th>Weight</th>\n",
       "      <th>Price_euros</th>\n",
       "      <th>Screen</th>\n",
       "      <th>Touchscreen</th>\n",
       "      <th>IPSpanel</th>\n",
       "      <th>...</th>\n",
       "      <th>PrimaryStorageType</th>\n",
       "      <th>SecondaryStorageType</th>\n",
       "      <th>GPU_company</th>\n",
       "      <th>GPU_model</th>\n",
       "      <th>ppi</th>\n",
       "      <th>CPU_Brand</th>\n",
       "      <th>SSD</th>\n",
       "      <th>HDD</th>\n",
       "      <th>Flash Storage</th>\n",
       "      <th>Hybrid</th>\n",
       "    </tr>\n",
       "  </thead>\n",
       "  <tbody>\n",
       "    <tr>\n",
       "      <th>0</th>\n",
       "      <td>Apple</td>\n",
       "      <td>MacBook Pro</td>\n",
       "      <td>Ultrabook</td>\n",
       "      <td>8</td>\n",
       "      <td>macOS</td>\n",
       "      <td>1.37</td>\n",
       "      <td>1339.69</td>\n",
       "      <td>Standard</td>\n",
       "      <td>0</td>\n",
       "      <td>1</td>\n",
       "      <td>...</td>\n",
       "      <td>SSD</td>\n",
       "      <td>No</td>\n",
       "      <td>Intel</td>\n",
       "      <td>Iris Plus Graphics 640</td>\n",
       "      <td>226.983005</td>\n",
       "      <td>Intel Core i5</td>\n",
       "      <td>128</td>\n",
       "      <td>0</td>\n",
       "      <td>0</td>\n",
       "      <td>0</td>\n",
       "    </tr>\n",
       "    <tr>\n",
       "      <th>1</th>\n",
       "      <td>Apple</td>\n",
       "      <td>Macbook Air</td>\n",
       "      <td>Ultrabook</td>\n",
       "      <td>8</td>\n",
       "      <td>macOS</td>\n",
       "      <td>1.34</td>\n",
       "      <td>898.94</td>\n",
       "      <td>Standard</td>\n",
       "      <td>0</td>\n",
       "      <td>0</td>\n",
       "      <td>...</td>\n",
       "      <td>Flash Storage</td>\n",
       "      <td>No</td>\n",
       "      <td>Intel</td>\n",
       "      <td>HD Graphics 6000</td>\n",
       "      <td>127.677940</td>\n",
       "      <td>Intel Core i5</td>\n",
       "      <td>0</td>\n",
       "      <td>0</td>\n",
       "      <td>128</td>\n",
       "      <td>0</td>\n",
       "    </tr>\n",
       "    <tr>\n",
       "      <th>2</th>\n",
       "      <td>HP</td>\n",
       "      <td>250 G6</td>\n",
       "      <td>Notebook</td>\n",
       "      <td>8</td>\n",
       "      <td>No OS</td>\n",
       "      <td>1.86</td>\n",
       "      <td>575.00</td>\n",
       "      <td>Full HD</td>\n",
       "      <td>0</td>\n",
       "      <td>0</td>\n",
       "      <td>...</td>\n",
       "      <td>SSD</td>\n",
       "      <td>No</td>\n",
       "      <td>Intel</td>\n",
       "      <td>HD Graphics 620</td>\n",
       "      <td>141.211998</td>\n",
       "      <td>Intel Core i5</td>\n",
       "      <td>256</td>\n",
       "      <td>0</td>\n",
       "      <td>0</td>\n",
       "      <td>0</td>\n",
       "    </tr>\n",
       "    <tr>\n",
       "      <th>3</th>\n",
       "      <td>Apple</td>\n",
       "      <td>MacBook Pro</td>\n",
       "      <td>Ultrabook</td>\n",
       "      <td>16</td>\n",
       "      <td>macOS</td>\n",
       "      <td>1.83</td>\n",
       "      <td>2537.45</td>\n",
       "      <td>Standard</td>\n",
       "      <td>0</td>\n",
       "      <td>1</td>\n",
       "      <td>...</td>\n",
       "      <td>SSD</td>\n",
       "      <td>No</td>\n",
       "      <td>AMD</td>\n",
       "      <td>Radeon Pro 455</td>\n",
       "      <td>220.534624</td>\n",
       "      <td>Intel Core i7</td>\n",
       "      <td>512</td>\n",
       "      <td>0</td>\n",
       "      <td>0</td>\n",
       "      <td>0</td>\n",
       "    </tr>\n",
       "    <tr>\n",
       "      <th>4</th>\n",
       "      <td>Apple</td>\n",
       "      <td>MacBook Pro</td>\n",
       "      <td>Ultrabook</td>\n",
       "      <td>8</td>\n",
       "      <td>macOS</td>\n",
       "      <td>1.37</td>\n",
       "      <td>1803.60</td>\n",
       "      <td>Standard</td>\n",
       "      <td>0</td>\n",
       "      <td>1</td>\n",
       "      <td>...</td>\n",
       "      <td>SSD</td>\n",
       "      <td>No</td>\n",
       "      <td>Intel</td>\n",
       "      <td>Iris Plus Graphics 650</td>\n",
       "      <td>226.983005</td>\n",
       "      <td>Intel Core i5</td>\n",
       "      <td>256</td>\n",
       "      <td>0</td>\n",
       "      <td>0</td>\n",
       "      <td>0</td>\n",
       "    </tr>\n",
       "  </tbody>\n",
       "</table>\n",
       "<p>5 rows × 23 columns</p>\n",
       "</div>"
      ],
      "text/plain": [
       "  Company      Product   TypeName  Ram     OS  Weight  Price_euros    Screen  \\\n",
       "0   Apple  MacBook Pro  Ultrabook    8  macOS    1.37      1339.69  Standard   \n",
       "1   Apple  Macbook Air  Ultrabook    8  macOS    1.34       898.94  Standard   \n",
       "2      HP       250 G6   Notebook    8  No OS    1.86       575.00   Full HD   \n",
       "3   Apple  MacBook Pro  Ultrabook   16  macOS    1.83      2537.45  Standard   \n",
       "4   Apple  MacBook Pro  Ultrabook    8  macOS    1.37      1803.60  Standard   \n",
       "\n",
       "   Touchscreen  IPSpanel  ...  PrimaryStorageType  SecondaryStorageType  \\\n",
       "0            0         1  ...                 SSD                    No   \n",
       "1            0         0  ...       Flash Storage                    No   \n",
       "2            0         0  ...                 SSD                    No   \n",
       "3            0         1  ...                 SSD                    No   \n",
       "4            0         1  ...                 SSD                    No   \n",
       "\n",
       "   GPU_company               GPU_model         ppi      CPU_Brand  SSD  HDD  \\\n",
       "0        Intel  Iris Plus Graphics 640  226.983005  Intel Core i5  128    0   \n",
       "1        Intel        HD Graphics 6000  127.677940  Intel Core i5    0    0   \n",
       "2        Intel         HD Graphics 620  141.211998  Intel Core i5  256    0   \n",
       "3          AMD          Radeon Pro 455  220.534624  Intel Core i7  512    0   \n",
       "4        Intel  Iris Plus Graphics 650  226.983005  Intel Core i5  256    0   \n",
       "\n",
       "  Flash Storage  Hybrid  \n",
       "0             0       0  \n",
       "1           128       0  \n",
       "2             0       0  \n",
       "3             0       0  \n",
       "4             0       0  \n",
       "\n",
       "[5 rows x 23 columns]"
      ]
     },
     "execution_count": 134,
     "metadata": {},
     "output_type": "execute_result"
    }
   ],
   "source": [
    "df.head()"
   ]
  },
  {
   "cell_type": "code",
   "execution_count": 136,
   "id": "fe669a3a-34e4-43f7-8954-58428ddaac94",
   "metadata": {},
   "outputs": [
    {
     "data": {
      "text/plain": [
       "Index(['Company', 'Product', 'TypeName', 'Ram', 'OS', 'Weight', 'Price_euros',\n",
       "       'Screen', 'Touchscreen', 'IPSpanel', 'RetinaDisplay', 'PrimaryStorage',\n",
       "       'SecondaryStorage', 'PrimaryStorageType', 'SecondaryStorageType',\n",
       "       'GPU_company', 'GPU_model', 'ppi', 'CPU_Brand', 'SSD', 'HDD',\n",
       "       'Flash Storage', 'Hybrid'],\n",
       "      dtype='object')"
      ]
     },
     "execution_count": 136,
     "metadata": {},
     "output_type": "execute_result"
    }
   ],
   "source": [
    "df.columns"
   ]
  },
  {
   "cell_type": "code",
   "execution_count": 138,
   "id": "42c98a50-5813-4739-9f71-72bc6e7571c3",
   "metadata": {},
   "outputs": [],
   "source": [
    "df.drop(columns=['Product','PrimaryStorage','SecondaryStorage','PrimaryStorageType','SecondaryStorageType','Flash Storage','Hybrid'],inplace=True)"
   ]
  },
  {
   "cell_type": "code",
   "execution_count": 140,
   "id": "e5172dce-e341-4f18-9742-8119ebd32619",
   "metadata": {},
   "outputs": [
    {
     "data": {
      "text/plain": [
       "GPU_model\n",
       "HD Graphics 620     279\n",
       "HD Graphics 520     181\n",
       "UHD Graphics 620     68\n",
       "GeForce GTX 1050     66\n",
       "GeForce GTX 1060     48\n",
       "                   ... \n",
       "Graphics 620          1\n",
       "Radeon R5 520         1\n",
       "Radeon R7             1\n",
       "HD Graphics 540       1\n",
       "GeForce 960M          1\n",
       "Name: count, Length: 109, dtype: int64"
      ]
     },
     "execution_count": 140,
     "metadata": {},
     "output_type": "execute_result"
    }
   ],
   "source": [
    "df['GPU_model'].value_counts()"
   ]
  },
  {
   "cell_type": "code",
   "execution_count": 142,
   "id": "65ae2ab1-5f19-4591-9737-3ee1b0694442",
   "metadata": {},
   "outputs": [],
   "source": [
    "df.drop(columns=['GPU_model'],inplace=True)"
   ]
  },
  {
   "cell_type": "code",
   "execution_count": 144,
   "id": "ded8401d-8469-4cd1-aa57-0423b642bfa0",
   "metadata": {},
   "outputs": [
    {
     "data": {
      "text/html": [
       "<div>\n",
       "<style scoped>\n",
       "    .dataframe tbody tr th:only-of-type {\n",
       "        vertical-align: middle;\n",
       "    }\n",
       "\n",
       "    .dataframe tbody tr th {\n",
       "        vertical-align: top;\n",
       "    }\n",
       "\n",
       "    .dataframe thead th {\n",
       "        text-align: right;\n",
       "    }\n",
       "</style>\n",
       "<table border=\"1\" class=\"dataframe\">\n",
       "  <thead>\n",
       "    <tr style=\"text-align: right;\">\n",
       "      <th></th>\n",
       "      <th>Company</th>\n",
       "      <th>TypeName</th>\n",
       "      <th>Ram</th>\n",
       "      <th>OS</th>\n",
       "      <th>Weight</th>\n",
       "      <th>Price_euros</th>\n",
       "      <th>Screen</th>\n",
       "      <th>Touchscreen</th>\n",
       "      <th>IPSpanel</th>\n",
       "      <th>RetinaDisplay</th>\n",
       "      <th>GPU_company</th>\n",
       "      <th>ppi</th>\n",
       "      <th>CPU_Brand</th>\n",
       "      <th>SSD</th>\n",
       "      <th>HDD</th>\n",
       "    </tr>\n",
       "  </thead>\n",
       "  <tbody>\n",
       "    <tr>\n",
       "      <th>0</th>\n",
       "      <td>Apple</td>\n",
       "      <td>Ultrabook</td>\n",
       "      <td>8</td>\n",
       "      <td>macOS</td>\n",
       "      <td>1.37</td>\n",
       "      <td>1339.69</td>\n",
       "      <td>Standard</td>\n",
       "      <td>0</td>\n",
       "      <td>1</td>\n",
       "      <td>1</td>\n",
       "      <td>Intel</td>\n",
       "      <td>226.983005</td>\n",
       "      <td>Intel Core i5</td>\n",
       "      <td>128</td>\n",
       "      <td>0</td>\n",
       "    </tr>\n",
       "    <tr>\n",
       "      <th>1</th>\n",
       "      <td>Apple</td>\n",
       "      <td>Ultrabook</td>\n",
       "      <td>8</td>\n",
       "      <td>macOS</td>\n",
       "      <td>1.34</td>\n",
       "      <td>898.94</td>\n",
       "      <td>Standard</td>\n",
       "      <td>0</td>\n",
       "      <td>0</td>\n",
       "      <td>0</td>\n",
       "      <td>Intel</td>\n",
       "      <td>127.677940</td>\n",
       "      <td>Intel Core i5</td>\n",
       "      <td>0</td>\n",
       "      <td>0</td>\n",
       "    </tr>\n",
       "    <tr>\n",
       "      <th>2</th>\n",
       "      <td>HP</td>\n",
       "      <td>Notebook</td>\n",
       "      <td>8</td>\n",
       "      <td>No OS</td>\n",
       "      <td>1.86</td>\n",
       "      <td>575.00</td>\n",
       "      <td>Full HD</td>\n",
       "      <td>0</td>\n",
       "      <td>0</td>\n",
       "      <td>0</td>\n",
       "      <td>Intel</td>\n",
       "      <td>141.211998</td>\n",
       "      <td>Intel Core i5</td>\n",
       "      <td>256</td>\n",
       "      <td>0</td>\n",
       "    </tr>\n",
       "    <tr>\n",
       "      <th>3</th>\n",
       "      <td>Apple</td>\n",
       "      <td>Ultrabook</td>\n",
       "      <td>16</td>\n",
       "      <td>macOS</td>\n",
       "      <td>1.83</td>\n",
       "      <td>2537.45</td>\n",
       "      <td>Standard</td>\n",
       "      <td>0</td>\n",
       "      <td>1</td>\n",
       "      <td>1</td>\n",
       "      <td>AMD</td>\n",
       "      <td>220.534624</td>\n",
       "      <td>Intel Core i7</td>\n",
       "      <td>512</td>\n",
       "      <td>0</td>\n",
       "    </tr>\n",
       "    <tr>\n",
       "      <th>4</th>\n",
       "      <td>Apple</td>\n",
       "      <td>Ultrabook</td>\n",
       "      <td>8</td>\n",
       "      <td>macOS</td>\n",
       "      <td>1.37</td>\n",
       "      <td>1803.60</td>\n",
       "      <td>Standard</td>\n",
       "      <td>0</td>\n",
       "      <td>1</td>\n",
       "      <td>1</td>\n",
       "      <td>Intel</td>\n",
       "      <td>226.983005</td>\n",
       "      <td>Intel Core i5</td>\n",
       "      <td>256</td>\n",
       "      <td>0</td>\n",
       "    </tr>\n",
       "  </tbody>\n",
       "</table>\n",
       "</div>"
      ],
      "text/plain": [
       "  Company   TypeName  Ram     OS  Weight  Price_euros    Screen  Touchscreen  \\\n",
       "0   Apple  Ultrabook    8  macOS    1.37      1339.69  Standard            0   \n",
       "1   Apple  Ultrabook    8  macOS    1.34       898.94  Standard            0   \n",
       "2      HP   Notebook    8  No OS    1.86       575.00   Full HD            0   \n",
       "3   Apple  Ultrabook   16  macOS    1.83      2537.45  Standard            0   \n",
       "4   Apple  Ultrabook    8  macOS    1.37      1803.60  Standard            0   \n",
       "\n",
       "   IPSpanel  RetinaDisplay GPU_company         ppi      CPU_Brand  SSD  HDD  \n",
       "0         1              1       Intel  226.983005  Intel Core i5  128    0  \n",
       "1         0              0       Intel  127.677940  Intel Core i5    0    0  \n",
       "2         0              0       Intel  141.211998  Intel Core i5  256    0  \n",
       "3         1              1         AMD  220.534624  Intel Core i7  512    0  \n",
       "4         1              1       Intel  226.983005  Intel Core i5  256    0  "
      ]
     },
     "execution_count": 144,
     "metadata": {},
     "output_type": "execute_result"
    }
   ],
   "source": [
    "df.head()"
   ]
  },
  {
   "cell_type": "code",
   "execution_count": 187,
   "id": "cf074247-506b-4b95-9da0-eff117ef4cd1",
   "metadata": {},
   "outputs": [],
   "source": [
    "# df.drop(columns=['RetinaDisplay'],inplace=True)"
   ]
  },
  {
   "cell_type": "code",
   "execution_count": 146,
   "id": "4864c733-f3e2-4175-a650-caaafe659cb5",
   "metadata": {},
   "outputs": [
    {
     "name": "stdout",
     "output_type": "stream",
     "text": [
      "<class 'pandas.core.frame.DataFrame'>\n",
      "Index: 1274 entries, 0 to 1274\n",
      "Data columns (total 15 columns):\n",
      " #   Column         Non-Null Count  Dtype  \n",
      "---  ------         --------------  -----  \n",
      " 0   Company        1274 non-null   object \n",
      " 1   TypeName       1274 non-null   object \n",
      " 2   Ram            1274 non-null   int64  \n",
      " 3   OS             1274 non-null   object \n",
      " 4   Weight         1274 non-null   float64\n",
      " 5   Price_euros    1274 non-null   float64\n",
      " 6   Screen         1274 non-null   object \n",
      " 7   Touchscreen    1274 non-null   int64  \n",
      " 8   IPSpanel       1274 non-null   int64  \n",
      " 9   RetinaDisplay  1274 non-null   int64  \n",
      " 10  GPU_company    1274 non-null   object \n",
      " 11  ppi            1274 non-null   float64\n",
      " 12  CPU_Brand      1274 non-null   object \n",
      " 13  SSD            1274 non-null   int32  \n",
      " 14  HDD            1274 non-null   int32  \n",
      "dtypes: float64(3), int32(2), int64(4), object(6)\n",
      "memory usage: 181.6+ KB\n"
     ]
    }
   ],
   "source": [
    "df.info()"
   ]
  },
  {
   "cell_type": "code",
   "execution_count": 148,
   "id": "51b06969-4d31-481c-9eed-bb47b2abe102",
   "metadata": {},
   "outputs": [
    {
     "data": {
      "text/plain": [
       "Ram              0.740176\n",
       "Weight           0.211359\n",
       "Price_euros      1.000000\n",
       "Touchscreen      0.190636\n",
       "IPSpanel         0.251892\n",
       "RetinaDisplay    0.086730\n",
       "ppi              0.471973\n",
       "SSD              0.675488\n",
       "HDD             -0.096261\n",
       "Name: Price_euros, dtype: float64"
      ]
     },
     "execution_count": 148,
     "metadata": {},
     "output_type": "execute_result"
    }
   ],
   "source": [
    " df.corr(numeric_only=True)['Price_euros']"
   ]
  },
  {
   "cell_type": "code",
   "execution_count": 150,
   "id": "367130cc-3926-4be0-b256-919b961227e2",
   "metadata": {},
   "outputs": [
    {
     "data": {
      "text/plain": [
       "GPU_company\n",
       "Intel     704\n",
       "Nvidia    396\n",
       "AMD       174\n",
       "Name: count, dtype: int64"
      ]
     },
     "execution_count": 150,
     "metadata": {},
     "output_type": "execute_result"
    }
   ],
   "source": [
    "df['GPU_company'].value_counts()"
   ]
  },
  {
   "cell_type": "code",
   "execution_count": 152,
   "id": "4499bf02-6fed-4874-aa3e-30c21005a1ca",
   "metadata": {},
   "outputs": [
    {
     "data": {
      "image/png": "[encoded data removed]",
      "text/plain": [
       "<Figure size 640x480 with 1 Axes>"
      ]
     },
     "metadata": {},
     "output_type": "display_data"
    }
   ],
   "source": [
    "sns.barplot(x=df['GPU_company'],y=df['Price_euros'])\n",
    "plt.xticks(rotation='vertical')\n",
    "plt.show()"
   ]
  },
  {
   "cell_type": "code",
   "execution_count": 154,
   "id": "d79f45ba-ec4e-48fd-a19d-8cc01c165ff4",
   "metadata": {},
   "outputs": [
    {
     "data": {
      "text/plain": [
       "OS\n",
       "Windows 10      1048\n",
       "No OS             66\n",
       "Linux             58\n",
       "Windows 7         45\n",
       "Chrome OS         26\n",
       "macOS             13\n",
       "Mac OS X           8\n",
       "Windows 10 S       8\n",
       "Android            2\n",
       "Name: count, dtype: int64"
      ]
     },
     "execution_count": 154,
     "metadata": {},
     "output_type": "execute_result"
    }
   ],
   "source": [
    "df['OS'].value_counts()"
   ]
  },
  {
   "cell_type": "code",
   "execution_count": 156,
   "id": "39d36c22-1d82-4c3b-9864-58786b28904a",
   "metadata": {},
   "outputs": [
    {
     "data": {
      "image/png": "[encoded data removed]",
      "text/plain": [
       "<Figure size 640x480 with 1 Axes>"
      ]
     },
     "metadata": {},
     "output_type": "display_data"
    }
   ],
   "source": [
    "sns.barplot(x=df['OS'],y=df['Price_euros'])\n",
    "plt.xticks(rotation='vertical')\n",
    "plt.show()\n"
   ]
  },
  {
   "cell_type": "code",
   "execution_count": 158,
   "id": "93631917-a49a-486d-8048-037c940b91d0",
   "metadata": {},
   "outputs": [],
   "source": [
    "def categories_os(sysos):\n",
    "    if sysos == 'Windows 10' or sysos == 'Windows 7' or sysos == 'Windows 10 S':\n",
    "        return 'Windows'\n",
    "    elif sysos == 'macOS' or sysos == 'Mac OS X':\n",
    "        return 'Mac'\n",
    "    elif sysos == 'Linux':\n",
    "        return 'Linux'\n",
    "    else :\n",
    "        return  'Other/Chrome OS/No OS/Android'"
   ]
  },
  {
   "cell_type": "code",
   "execution_count": 160,
   "id": "56e6e719-5bfd-48a2-bef8-0db8ca1c22ec",
   "metadata": {},
   "outputs": [],
   "source": [
    "df['OS'] = df['OS'].apply(categories_os)"
   ]
  },
  {
   "cell_type": "code",
   "execution_count": 162,
   "id": "26a31079-df30-4b85-8a20-fba13a959c00",
   "metadata": {},
   "outputs": [
    {
     "data": {
      "text/html": [
       "<div>\n",
       "<style scoped>\n",
       "    .dataframe tbody tr th:only-of-type {\n",
       "        vertical-align: middle;\n",
       "    }\n",
       "\n",
       "    .dataframe tbody tr th {\n",
       "        vertical-align: top;\n",
       "    }\n",
       "\n",
       "    .dataframe thead th {\n",
       "        text-align: right;\n",
       "    }\n",
       "</style>\n",
       "<table border=\"1\" class=\"dataframe\">\n",
       "  <thead>\n",
       "    <tr style=\"text-align: right;\">\n",
       "      <th></th>\n",
       "      <th>Company</th>\n",
       "      <th>TypeName</th>\n",
       "      <th>Ram</th>\n",
       "      <th>OS</th>\n",
       "      <th>Weight</th>\n",
       "      <th>Price_euros</th>\n",
       "      <th>Screen</th>\n",
       "      <th>Touchscreen</th>\n",
       "      <th>IPSpanel</th>\n",
       "      <th>RetinaDisplay</th>\n",
       "      <th>GPU_company</th>\n",
       "      <th>ppi</th>\n",
       "      <th>CPU_Brand</th>\n",
       "      <th>SSD</th>\n",
       "      <th>HDD</th>\n",
       "    </tr>\n",
       "  </thead>\n",
       "  <tbody>\n",
       "    <tr>\n",
       "      <th>0</th>\n",
       "      <td>Apple</td>\n",
       "      <td>Ultrabook</td>\n",
       "      <td>8</td>\n",
       "      <td>Mac</td>\n",
       "      <td>1.37</td>\n",
       "      <td>1339.69</td>\n",
       "      <td>Standard</td>\n",
       "      <td>0</td>\n",
       "      <td>1</td>\n",
       "      <td>1</td>\n",
       "      <td>Intel</td>\n",
       "      <td>226.983005</td>\n",
       "      <td>Intel Core i5</td>\n",
       "      <td>128</td>\n",
       "      <td>0</td>\n",
       "    </tr>\n",
       "    <tr>\n",
       "      <th>1</th>\n",
       "      <td>Apple</td>\n",
       "      <td>Ultrabook</td>\n",
       "      <td>8</td>\n",
       "      <td>Mac</td>\n",
       "      <td>1.34</td>\n",
       "      <td>898.94</td>\n",
       "      <td>Standard</td>\n",
       "      <td>0</td>\n",
       "      <td>0</td>\n",
       "      <td>0</td>\n",
       "      <td>Intel</td>\n",
       "      <td>127.677940</td>\n",
       "      <td>Intel Core i5</td>\n",
       "      <td>0</td>\n",
       "      <td>0</td>\n",
       "    </tr>\n",
       "    <tr>\n",
       "      <th>2</th>\n",
       "      <td>HP</td>\n",
       "      <td>Notebook</td>\n",
       "      <td>8</td>\n",
       "      <td>Other/Chrome OS/No OS/Android</td>\n",
       "      <td>1.86</td>\n",
       "      <td>575.00</td>\n",
       "      <td>Full HD</td>\n",
       "      <td>0</td>\n",
       "      <td>0</td>\n",
       "      <td>0</td>\n",
       "      <td>Intel</td>\n",
       "      <td>141.211998</td>\n",
       "      <td>Intel Core i5</td>\n",
       "      <td>256</td>\n",
       "      <td>0</td>\n",
       "    </tr>\n",
       "    <tr>\n",
       "      <th>3</th>\n",
       "      <td>Apple</td>\n",
       "      <td>Ultrabook</td>\n",
       "      <td>16</td>\n",
       "      <td>Mac</td>\n",
       "      <td>1.83</td>\n",
       "      <td>2537.45</td>\n",
       "      <td>Standard</td>\n",
       "      <td>0</td>\n",
       "      <td>1</td>\n",
       "      <td>1</td>\n",
       "      <td>AMD</td>\n",
       "      <td>220.534624</td>\n",
       "      <td>Intel Core i7</td>\n",
       "      <td>512</td>\n",
       "      <td>0</td>\n",
       "    </tr>\n",
       "    <tr>\n",
       "      <th>4</th>\n",
       "      <td>Apple</td>\n",
       "      <td>Ultrabook</td>\n",
       "      <td>8</td>\n",
       "      <td>Mac</td>\n",
       "      <td>1.37</td>\n",
       "      <td>1803.60</td>\n",
       "      <td>Standard</td>\n",
       "      <td>0</td>\n",
       "      <td>1</td>\n",
       "      <td>1</td>\n",
       "      <td>Intel</td>\n",
       "      <td>226.983005</td>\n",
       "      <td>Intel Core i5</td>\n",
       "      <td>256</td>\n",
       "      <td>0</td>\n",
       "    </tr>\n",
       "  </tbody>\n",
       "</table>\n",
       "</div>"
      ],
      "text/plain": [
       "  Company   TypeName  Ram                             OS  Weight  Price_euros  \\\n",
       "0   Apple  Ultrabook    8                            Mac    1.37      1339.69   \n",
       "1   Apple  Ultrabook    8                            Mac    1.34       898.94   \n",
       "2      HP   Notebook    8  Other/Chrome OS/No OS/Android    1.86       575.00   \n",
       "3   Apple  Ultrabook   16                            Mac    1.83      2537.45   \n",
       "4   Apple  Ultrabook    8                            Mac    1.37      1803.60   \n",
       "\n",
       "     Screen  Touchscreen  IPSpanel  RetinaDisplay GPU_company         ppi  \\\n",
       "0  Standard            0         1              1       Intel  226.983005   \n",
       "1  Standard            0         0              0       Intel  127.677940   \n",
       "2   Full HD            0         0              0       Intel  141.211998   \n",
       "3  Standard            0         1              1         AMD  220.534624   \n",
       "4  Standard            0         1              1       Intel  226.983005   \n",
       "\n",
       "       CPU_Brand  SSD  HDD  \n",
       "0  Intel Core i5  128    0  \n",
       "1  Intel Core i5    0    0  \n",
       "2  Intel Core i5  256    0  \n",
       "3  Intel Core i7  512    0  \n",
       "4  Intel Core i5  256    0  "
      ]
     },
     "execution_count": 162,
     "metadata": {},
     "output_type": "execute_result"
    }
   ],
   "source": [
    "df.head()"
   ]
  },
  {
   "cell_type": "code",
   "execution_count": 164,
   "id": "42c1c03b-f1f4-4b96-a5f4-dd2f6702a1d9",
   "metadata": {},
   "outputs": [
    {
     "data": {
      "image/png": "[encoded data removed]",
      "text/plain": [
       "<Figure size 640x480 with 1 Axes>"
      ]
     },
     "metadata": {},
     "output_type": "display_data"
    }
   ],
   "source": [
    "sns.barplot(x=df['OS'],y=df['Price_euros'])\n",
    "plt.xticks(rotation='vertical')\n",
    "plt.show()"
   ]
  },
  {
   "cell_type": "code",
   "execution_count": 166,
   "id": "ffeb3c30-db5f-40ef-9e78-0c695b2c1647",
   "metadata": {},
   "outputs": [
    {
     "data": {
      "text/plain": [
       "<seaborn.axisgrid.FacetGrid at 0x23fa87f9e50>"
      ]
     },
     "execution_count": 166,
     "metadata": {},
     "output_type": "execute_result"
    },
    {
     "data": {
      "image/png": "[encoded data removed]",
      "text/plain": [
       "<Figure size 500x500 with 1 Axes>"
      ]
     },
     "metadata": {},
     "output_type": "display_data"
    }
   ],
   "source": [
    "sns.displot(df['Weight'])"
   ]
  },
  {
   "cell_type": "code",
   "execution_count": 168,
   "id": "2c8b1a41-c9d5-4d89-9118-4a80e99e7875",
   "metadata": {},
   "outputs": [
    {
     "data": {
      "text/plain": [
       "<Axes: xlabel='Weight', ylabel='Price_euros'>"
      ]
     },
     "execution_count": 168,
     "metadata": {},
     "output_type": "execute_result"
    },
    {
     "data": {
      "image/png": "[encoded data removed]",
      "text/plain": [
       "<Figure size 640x480 with 1 Axes>"
      ]
     },
     "metadata": {},
     "output_type": "display_data"
    }
   ],
   "source": [
    "sns.scatterplot(x=df['Weight'],y=df['Price_euros'])"
   ]
  },
  {
   "cell_type": "code",
   "execution_count": 170,
   "id": "08e5e128-840c-4364-ad3a-1b1c312bacd8",
   "metadata": {},
   "outputs": [
    {
     "data": {
      "text/plain": [
       "Ram              0.740176\n",
       "Weight           0.211359\n",
       "Price_euros      1.000000\n",
       "Touchscreen      0.190636\n",
       "IPSpanel         0.251892\n",
       "RetinaDisplay    0.086730\n",
       "ppi              0.471973\n",
       "SSD              0.675488\n",
       "HDD             -0.096261\n",
       "Name: Price_euros, dtype: float64"
      ]
     },
     "execution_count": 170,
     "metadata": {},
     "output_type": "execute_result"
    }
   ],
   "source": [
    "df.corr(numeric_only=True)['Price_euros']"
   ]
  },
  {
   "cell_type": "code",
   "execution_count": 172,
   "id": "a03e4408-6357-47d4-8043-b7228907fd67",
   "metadata": {},
   "outputs": [
    {
     "data": {
      "text/plain": [
       "<Axes: >"
      ]
     },
     "execution_count": 172,
     "metadata": {},
     "output_type": "execute_result"
    },
    {
     "data": {
      "image/png": "[encoded data removed]",
      "text/plain": [
       "<Figure size 640x480 with 2 Axes>"
      ]
     },
     "metadata": {},
     "output_type": "display_data"
    }
   ],
   "source": [
    "sns.heatmap(df.corr(numeric_only=True))"
   ]
  },
  {
   "cell_type": "code",
   "execution_count": 174,
   "id": "dcb984bf-347a-4fbd-abf0-497ed724b39b",
   "metadata": {},
   "outputs": [
    {
     "name": "stderr",
     "output_type": "stream",
     "text": [
      "C:\\Users\\ADMIN\\AppData\\Local\\Temp\\ipykernel_11688\\2073861339.py:1: UserWarning: \n",
      "\n",
      "`distplot` is a deprecated function and will be removed in seaborn v0.14.0.\n",
      "\n",
      "Please adapt your code to use either `displot` (a figure-level function with\n",
      "similar flexibility) or `histplot` (an axes-level function for histograms).\n",
      "\n",
      "For a guide to updating your code to use the new functions, please see\n",
      "https://gist.github.com/mwaskom/de44147ed2974457ad6372750bbe5751\n",
      "\n",
      "  sns.distplot(df['Price_euros'])\n"
     ]
    },
    {
     "data": {
      "text/plain": [
       "<Axes: xlabel='Price_euros', ylabel='Density'>"
      ]
     },
     "execution_count": 174,
     "metadata": {},
     "output_type": "execute_result"
    },
    {
     "data": {
      "image/png": "[encoded data removed]",
      "text/plain": [
       "<Figure size 640x480 with 1 Axes>"
      ]
     },
     "metadata": {},
     "output_type": "display_data"
    }
   ],
   "source": [
    "sns.distplot(df['Price_euros'])"
   ]
  },
  {
   "cell_type": "code",
   "execution_count": 178,
   "id": "611236a3-c559-4487-ae61-32bc8ca3c491",
   "metadata": {},
   "outputs": [
    {
     "name": "stderr",
     "output_type": "stream",
     "text": [
      "C:\\Users\\ADMIN\\AppData\\Local\\Temp\\ipykernel_11688\\3038007691.py:1: UserWarning: \n",
      "\n",
      "`distplot` is a deprecated function and will be removed in seaborn v0.14.0.\n",
      "\n",
      "Please adapt your code to use either `displot` (a figure-level function with\n",
      "similar flexibility) or `histplot` (an axes-level function for histograms).\n",
      "\n",
      "For a guide to updating your code to use the new functions, please see\n",
      "https://gist.github.com/mwaskom/de44147ed2974457ad6372750bbe5751\n",
      "\n",
      "  sns.distplot(np.log(df['Price_euros']))\n"
     ]
    },
    {
     "data": {
      "text/plain": [
       "<Axes: xlabel='Price_euros', ylabel='Density'>"
      ]
     },
     "execution_count": 178,
     "metadata": {},
     "output_type": "execute_result"
    },
    {
     "data": {
      "image/png": "[encoded data removed]",
      "text/plain": [
       "<Figure size 640x480 with 1 Axes>"
      ]
     },
     "metadata": {},
     "output_type": "display_data"
    }
   ],
   "source": [
    "sns.distplot(np.log(df['Price_euros']))"
   ]
  },
  {
   "cell_type": "code",
   "execution_count": 180,
   "id": "e774b1cf-2bde-4cdc-a424-d0efcd7b625b",
   "metadata": {},
   "outputs": [],
   "source": [
    "x = df.drop(columns=['Price_euros'])\n",
    "y = np.log(df['Price_euros'])"
   ]
  },
  {
   "cell_type": "code",
   "execution_count": 182,
   "id": "0f203678-0728-481f-8400-8bef79deb511",
   "metadata": {},
   "outputs": [
    {
     "data": {
      "text/html": [
       "<div>\n",
       "<style scoped>\n",
       "    .dataframe tbody tr th:only-of-type {\n",
       "        vertical-align: middle;\n",
       "    }\n",
       "\n",
       "    .dataframe tbody tr th {\n",
       "        vertical-align: top;\n",
       "    }\n",
       "\n",
       "    .dataframe thead th {\n",
       "        text-align: right;\n",
       "    }\n",
       "</style>\n",
       "<table border=\"1\" class=\"dataframe\">\n",
       "  <thead>\n",
       "    <tr style=\"text-align: right;\">\n",
       "      <th></th>\n",
       "      <th>Company</th>\n",
       "      <th>TypeName</th>\n",
       "      <th>Ram</th>\n",
       "      <th>OS</th>\n",
       "      <th>Weight</th>\n",
       "      <th>Screen</th>\n",
       "      <th>Touchscreen</th>\n",
       "      <th>IPSpanel</th>\n",
       "      <th>RetinaDisplay</th>\n",
       "      <th>GPU_company</th>\n",
       "      <th>ppi</th>\n",
       "      <th>CPU_Brand</th>\n",
       "      <th>SSD</th>\n",
       "      <th>HDD</th>\n",
       "    </tr>\n",
       "  </thead>\n",
       "  <tbody>\n",
       "    <tr>\n",
       "      <th>0</th>\n",
       "      <td>Apple</td>\n",
       "      <td>Ultrabook</td>\n",
       "      <td>8</td>\n",
       "      <td>Mac</td>\n",
       "      <td>1.37</td>\n",
       "      <td>Standard</td>\n",
       "      <td>0</td>\n",
       "      <td>1</td>\n",
       "      <td>1</td>\n",
       "      <td>Intel</td>\n",
       "      <td>226.983005</td>\n",
       "      <td>Intel Core i5</td>\n",
       "      <td>128</td>\n",
       "      <td>0</td>\n",
       "    </tr>\n",
       "    <tr>\n",
       "      <th>1</th>\n",
       "      <td>Apple</td>\n",
       "      <td>Ultrabook</td>\n",
       "      <td>8</td>\n",
       "      <td>Mac</td>\n",
       "      <td>1.34</td>\n",
       "      <td>Standard</td>\n",
       "      <td>0</td>\n",
       "      <td>0</td>\n",
       "      <td>0</td>\n",
       "      <td>Intel</td>\n",
       "      <td>127.677940</td>\n",
       "      <td>Intel Core i5</td>\n",
       "      <td>0</td>\n",
       "      <td>0</td>\n",
       "    </tr>\n",
       "    <tr>\n",
       "      <th>2</th>\n",
       "      <td>HP</td>\n",
       "      <td>Notebook</td>\n",
       "      <td>8</td>\n",
       "      <td>Other/Chrome OS/No OS/Android</td>\n",
       "      <td>1.86</td>\n",
       "      <td>Full HD</td>\n",
       "      <td>0</td>\n",
       "      <td>0</td>\n",
       "      <td>0</td>\n",
       "      <td>Intel</td>\n",
       "      <td>141.211998</td>\n",
       "      <td>Intel Core i5</td>\n",
       "      <td>256</td>\n",
       "      <td>0</td>\n",
       "    </tr>\n",
       "    <tr>\n",
       "      <th>3</th>\n",
       "      <td>Apple</td>\n",
       "      <td>Ultrabook</td>\n",
       "      <td>16</td>\n",
       "      <td>Mac</td>\n",
       "      <td>1.83</td>\n",
       "      <td>Standard</td>\n",
       "      <td>0</td>\n",
       "      <td>1</td>\n",
       "      <td>1</td>\n",
       "      <td>AMD</td>\n",
       "      <td>220.534624</td>\n",
       "      <td>Intel Core i7</td>\n",
       "      <td>512</td>\n",
       "      <td>0</td>\n",
       "    </tr>\n",
       "    <tr>\n",
       "      <th>4</th>\n",
       "      <td>Apple</td>\n",
       "      <td>Ultrabook</td>\n",
       "      <td>8</td>\n",
       "      <td>Mac</td>\n",
       "      <td>1.37</td>\n",
       "      <td>Standard</td>\n",
       "      <td>0</td>\n",
       "      <td>1</td>\n",
       "      <td>1</td>\n",
       "      <td>Intel</td>\n",
       "      <td>226.983005</td>\n",
       "      <td>Intel Core i5</td>\n",
       "      <td>256</td>\n",
       "      <td>0</td>\n",
       "    </tr>\n",
       "    <tr>\n",
       "      <th>...</th>\n",
       "      <td>...</td>\n",
       "      <td>...</td>\n",
       "      <td>...</td>\n",
       "      <td>...</td>\n",
       "      <td>...</td>\n",
       "      <td>...</td>\n",
       "      <td>...</td>\n",
       "      <td>...</td>\n",
       "      <td>...</td>\n",
       "      <td>...</td>\n",
       "      <td>...</td>\n",
       "      <td>...</td>\n",
       "      <td>...</td>\n",
       "      <td>...</td>\n",
       "    </tr>\n",
       "    <tr>\n",
       "      <th>1270</th>\n",
       "      <td>Lenovo</td>\n",
       "      <td>2 in 1 Convertible</td>\n",
       "      <td>4</td>\n",
       "      <td>Windows</td>\n",
       "      <td>1.80</td>\n",
       "      <td>Full HD</td>\n",
       "      <td>1</td>\n",
       "      <td>1</td>\n",
       "      <td>0</td>\n",
       "      <td>Intel</td>\n",
       "      <td>157.350512</td>\n",
       "      <td>Intel Core i7</td>\n",
       "      <td>128</td>\n",
       "      <td>0</td>\n",
       "    </tr>\n",
       "    <tr>\n",
       "      <th>1271</th>\n",
       "      <td>Lenovo</td>\n",
       "      <td>2 in 1 Convertible</td>\n",
       "      <td>16</td>\n",
       "      <td>Windows</td>\n",
       "      <td>1.30</td>\n",
       "      <td>Quad HD+</td>\n",
       "      <td>1</td>\n",
       "      <td>1</td>\n",
       "      <td>0</td>\n",
       "      <td>Intel</td>\n",
       "      <td>276.053530</td>\n",
       "      <td>Intel Core i7</td>\n",
       "      <td>512</td>\n",
       "      <td>0</td>\n",
       "    </tr>\n",
       "    <tr>\n",
       "      <th>1272</th>\n",
       "      <td>Lenovo</td>\n",
       "      <td>Notebook</td>\n",
       "      <td>2</td>\n",
       "      <td>Windows</td>\n",
       "      <td>1.50</td>\n",
       "      <td>Standard</td>\n",
       "      <td>0</td>\n",
       "      <td>0</td>\n",
       "      <td>0</td>\n",
       "      <td>Intel</td>\n",
       "      <td>111.935204</td>\n",
       "      <td>Other Intel Processor</td>\n",
       "      <td>0</td>\n",
       "      <td>0</td>\n",
       "    </tr>\n",
       "    <tr>\n",
       "      <th>1273</th>\n",
       "      <td>HP</td>\n",
       "      <td>Notebook</td>\n",
       "      <td>6</td>\n",
       "      <td>Windows</td>\n",
       "      <td>2.19</td>\n",
       "      <td>Standard</td>\n",
       "      <td>0</td>\n",
       "      <td>0</td>\n",
       "      <td>0</td>\n",
       "      <td>AMD</td>\n",
       "      <td>100.454670</td>\n",
       "      <td>Intel Core i7</td>\n",
       "      <td>0</td>\n",
       "      <td>1024</td>\n",
       "    </tr>\n",
       "    <tr>\n",
       "      <th>1274</th>\n",
       "      <td>Asus</td>\n",
       "      <td>Notebook</td>\n",
       "      <td>4</td>\n",
       "      <td>Windows</td>\n",
       "      <td>2.20</td>\n",
       "      <td>Standard</td>\n",
       "      <td>0</td>\n",
       "      <td>0</td>\n",
       "      <td>0</td>\n",
       "      <td>Intel</td>\n",
       "      <td>100.454670</td>\n",
       "      <td>Other Intel Processor</td>\n",
       "      <td>0</td>\n",
       "      <td>500</td>\n",
       "    </tr>\n",
       "  </tbody>\n",
       "</table>\n",
       "<p>1274 rows × 14 columns</p>\n",
       "</div>"
      ],
      "text/plain": [
       "     Company            TypeName  Ram                             OS  Weight  \\\n",
       "0      Apple           Ultrabook    8                            Mac    1.37   \n",
       "1      Apple           Ultrabook    8                            Mac    1.34   \n",
       "2         HP            Notebook    8  Other/Chrome OS/No OS/Android    1.86   \n",
       "3      Apple           Ultrabook   16                            Mac    1.83   \n",
       "4      Apple           Ultrabook    8                            Mac    1.37   \n",
       "...      ...                 ...  ...                            ...     ...   \n",
       "1270  Lenovo  2 in 1 Convertible    4                        Windows    1.80   \n",
       "1271  Lenovo  2 in 1 Convertible   16                        Windows    1.30   \n",
       "1272  Lenovo            Notebook    2                        Windows    1.50   \n",
       "1273      HP            Notebook    6                        Windows    2.19   \n",
       "1274    Asus            Notebook    4                        Windows    2.20   \n",
       "\n",
       "        Screen  Touchscreen  IPSpanel  RetinaDisplay GPU_company         ppi  \\\n",
       "0     Standard            0         1              1       Intel  226.983005   \n",
       "1     Standard            0         0              0       Intel  127.677940   \n",
       "2      Full HD            0         0              0       Intel  141.211998   \n",
       "3     Standard            0         1              1         AMD  220.534624   \n",
       "4     Standard            0         1              1       Intel  226.983005   \n",
       "...        ...          ...       ...            ...         ...         ...   \n",
       "1270   Full HD            1         1              0       Intel  157.350512   \n",
       "1271  Quad HD+            1         1              0       Intel  276.053530   \n",
       "1272  Standard            0         0              0       Intel  111.935204   \n",
       "1273  Standard            0         0              0         AMD  100.454670   \n",
       "1274  Standard            0         0              0       Intel  100.454670   \n",
       "\n",
       "                  CPU_Brand  SSD   HDD  \n",
       "0             Intel Core i5  128     0  \n",
       "1             Intel Core i5    0     0  \n",
       "2             Intel Core i5  256     0  \n",
       "3             Intel Core i7  512     0  \n",
       "4             Intel Core i5  256     0  \n",
       "...                     ...  ...   ...  \n",
       "1270          Intel Core i7  128     0  \n",
       "1271          Intel Core i7  512     0  \n",
       "1272  Other Intel Processor    0     0  \n",
       "1273          Intel Core i7    0  1024  \n",
       "1274  Other Intel Processor    0   500  \n",
       "\n",
       "[1274 rows x 14 columns]"
      ]
     },
     "execution_count": 182,
     "metadata": {},
     "output_type": "execute_result"
    }
   ],
   "source": [
    "x"
   ]
  },
  {
   "cell_type": "code",
   "execution_count": 184,
   "id": "9ad8c1aa-e13b-428f-af81-0329b242781f",
   "metadata": {},
   "outputs": [
    {
     "data": {
      "text/plain": [
       "0       7.200194\n",
       "1       6.801216\n",
       "2       6.354370\n",
       "3       7.838915\n",
       "4       7.497540\n",
       "          ...   \n",
       "1270    6.458338\n",
       "1271    7.312553\n",
       "1272    5.433722\n",
       "1273    6.638568\n",
       "1274    5.910797\n",
       "Name: Price_euros, Length: 1274, dtype: float64"
      ]
     },
     "execution_count": 184,
     "metadata": {},
     "output_type": "execute_result"
    }
   ],
   "source": [
    "y"
   ]
  },
  {
   "cell_type": "code",
   "execution_count": 186,
   "id": "cfd77759-e4df-4660-b839-2467be2fadc9",
   "metadata": {},
   "outputs": [],
   "source": [
    "from sklearn.model_selection import train_test_split\n",
    "x_train,x_test,y_train,y_test = train_test_split(x,y,test_size=0.15,random_state=2)"
   ]
  },
  {
   "cell_type": "code",
   "execution_count": 187,
   "id": "26cfd4e1-b822-40c1-8e8c-0edf15c3495d",
   "metadata": {},
   "outputs": [
    {
     "data": {
      "text/html": [
       "<div>\n",
       "<style scoped>\n",
       "    .dataframe tbody tr th:only-of-type {\n",
       "        vertical-align: middle;\n",
       "    }\n",
       "\n",
       "    .dataframe tbody tr th {\n",
       "        vertical-align: top;\n",
       "    }\n",
       "\n",
       "    .dataframe thead th {\n",
       "        text-align: right;\n",
       "    }\n",
       "</style>\n",
       "<table border=\"1\" class=\"dataframe\">\n",
       "  <thead>\n",
       "    <tr style=\"text-align: right;\">\n",
       "      <th></th>\n",
       "      <th>Company</th>\n",
       "      <th>TypeName</th>\n",
       "      <th>Ram</th>\n",
       "      <th>OS</th>\n",
       "      <th>Weight</th>\n",
       "      <th>Screen</th>\n",
       "      <th>Touchscreen</th>\n",
       "      <th>IPSpanel</th>\n",
       "      <th>RetinaDisplay</th>\n",
       "      <th>GPU_company</th>\n",
       "      <th>ppi</th>\n",
       "      <th>CPU_Brand</th>\n",
       "      <th>SSD</th>\n",
       "      <th>HDD</th>\n",
       "    </tr>\n",
       "  </thead>\n",
       "  <tbody>\n",
       "    <tr>\n",
       "      <th>21</th>\n",
       "      <td>Lenovo</td>\n",
       "      <td>Gaming</td>\n",
       "      <td>8</td>\n",
       "      <td>Windows</td>\n",
       "      <td>2.50</td>\n",
       "      <td>Full HD</td>\n",
       "      <td>0</td>\n",
       "      <td>1</td>\n",
       "      <td>0</td>\n",
       "      <td>Nvidia</td>\n",
       "      <td>141.211998</td>\n",
       "      <td>Intel Core i5</td>\n",
       "      <td>128</td>\n",
       "      <td>1024</td>\n",
       "    </tr>\n",
       "    <tr>\n",
       "      <th>790</th>\n",
       "      <td>Asus</td>\n",
       "      <td>Gaming</td>\n",
       "      <td>8</td>\n",
       "      <td>Windows</td>\n",
       "      <td>2.24</td>\n",
       "      <td>Full HD</td>\n",
       "      <td>0</td>\n",
       "      <td>0</td>\n",
       "      <td>0</td>\n",
       "      <td>Nvidia</td>\n",
       "      <td>141.211998</td>\n",
       "      <td>Intel Core i7</td>\n",
       "      <td>128</td>\n",
       "      <td>1024</td>\n",
       "    </tr>\n",
       "    <tr>\n",
       "      <th>273</th>\n",
       "      <td>Lenovo</td>\n",
       "      <td>2 in 1 Convertible</td>\n",
       "      <td>16</td>\n",
       "      <td>Windows</td>\n",
       "      <td>1.36</td>\n",
       "      <td>Standard</td>\n",
       "      <td>1</td>\n",
       "      <td>0</td>\n",
       "      <td>0</td>\n",
       "      <td>Intel</td>\n",
       "      <td>209.800683</td>\n",
       "      <td>Intel Core i7</td>\n",
       "      <td>512</td>\n",
       "      <td>0</td>\n",
       "    </tr>\n",
       "    <tr>\n",
       "      <th>397</th>\n",
       "      <td>Lenovo</td>\n",
       "      <td>Notebook</td>\n",
       "      <td>8</td>\n",
       "      <td>Windows</td>\n",
       "      <td>1.90</td>\n",
       "      <td>Full HD</td>\n",
       "      <td>0</td>\n",
       "      <td>1</td>\n",
       "      <td>0</td>\n",
       "      <td>Intel</td>\n",
       "      <td>157.350512</td>\n",
       "      <td>Intel Core i5</td>\n",
       "      <td>256</td>\n",
       "      <td>0</td>\n",
       "    </tr>\n",
       "    <tr>\n",
       "      <th>921</th>\n",
       "      <td>HP</td>\n",
       "      <td>Ultrabook</td>\n",
       "      <td>8</td>\n",
       "      <td>Windows</td>\n",
       "      <td>1.84</td>\n",
       "      <td>Full HD</td>\n",
       "      <td>0</td>\n",
       "      <td>0</td>\n",
       "      <td>0</td>\n",
       "      <td>AMD</td>\n",
       "      <td>141.211998</td>\n",
       "      <td>Intel Core i7</td>\n",
       "      <td>256</td>\n",
       "      <td>0</td>\n",
       "    </tr>\n",
       "    <tr>\n",
       "      <th>...</th>\n",
       "      <td>...</td>\n",
       "      <td>...</td>\n",
       "      <td>...</td>\n",
       "      <td>...</td>\n",
       "      <td>...</td>\n",
       "      <td>...</td>\n",
       "      <td>...</td>\n",
       "      <td>...</td>\n",
       "      <td>...</td>\n",
       "      <td>...</td>\n",
       "      <td>...</td>\n",
       "      <td>...</td>\n",
       "      <td>...</td>\n",
       "      <td>...</td>\n",
       "    </tr>\n",
       "    <tr>\n",
       "      <th>466</th>\n",
       "      <td>Acer</td>\n",
       "      <td>Notebook</td>\n",
       "      <td>4</td>\n",
       "      <td>Windows</td>\n",
       "      <td>2.20</td>\n",
       "      <td>Standard</td>\n",
       "      <td>0</td>\n",
       "      <td>0</td>\n",
       "      <td>0</td>\n",
       "      <td>Nvidia</td>\n",
       "      <td>100.454670</td>\n",
       "      <td>Intel Core i3</td>\n",
       "      <td>0</td>\n",
       "      <td>500</td>\n",
       "    </tr>\n",
       "    <tr>\n",
       "      <th>299</th>\n",
       "      <td>Asus</td>\n",
       "      <td>Ultrabook</td>\n",
       "      <td>16</td>\n",
       "      <td>Windows</td>\n",
       "      <td>1.63</td>\n",
       "      <td>Full HD</td>\n",
       "      <td>0</td>\n",
       "      <td>0</td>\n",
       "      <td>0</td>\n",
       "      <td>Nvidia</td>\n",
       "      <td>141.211998</td>\n",
       "      <td>Intel Core i7</td>\n",
       "      <td>512</td>\n",
       "      <td>0</td>\n",
       "    </tr>\n",
       "    <tr>\n",
       "      <th>493</th>\n",
       "      <td>Acer</td>\n",
       "      <td>Notebook</td>\n",
       "      <td>8</td>\n",
       "      <td>Windows</td>\n",
       "      <td>2.20</td>\n",
       "      <td>Standard</td>\n",
       "      <td>0</td>\n",
       "      <td>0</td>\n",
       "      <td>0</td>\n",
       "      <td>AMD</td>\n",
       "      <td>100.454670</td>\n",
       "      <td>AMD Processor</td>\n",
       "      <td>0</td>\n",
       "      <td>1024</td>\n",
       "    </tr>\n",
       "    <tr>\n",
       "      <th>527</th>\n",
       "      <td>Lenovo</td>\n",
       "      <td>Notebook</td>\n",
       "      <td>8</td>\n",
       "      <td>Other/Chrome OS/No OS/Android</td>\n",
       "      <td>2.20</td>\n",
       "      <td>Standard</td>\n",
       "      <td>0</td>\n",
       "      <td>0</td>\n",
       "      <td>0</td>\n",
       "      <td>Nvidia</td>\n",
       "      <td>100.454670</td>\n",
       "      <td>Intel Core i3</td>\n",
       "      <td>0</td>\n",
       "      <td>2048</td>\n",
       "    </tr>\n",
       "    <tr>\n",
       "      <th>1193</th>\n",
       "      <td>Apple</td>\n",
       "      <td>Ultrabook</td>\n",
       "      <td>8</td>\n",
       "      <td>Mac</td>\n",
       "      <td>0.92</td>\n",
       "      <td>Standard</td>\n",
       "      <td>0</td>\n",
       "      <td>1</td>\n",
       "      <td>1</td>\n",
       "      <td>Intel</td>\n",
       "      <td>226.415547</td>\n",
       "      <td>Other Intel Processor</td>\n",
       "      <td>0</td>\n",
       "      <td>0</td>\n",
       "    </tr>\n",
       "  </tbody>\n",
       "</table>\n",
       "<p>1082 rows × 14 columns</p>\n",
       "</div>"
      ],
      "text/plain": [
       "     Company            TypeName  Ram                             OS  Weight  \\\n",
       "21    Lenovo              Gaming    8                        Windows    2.50   \n",
       "790     Asus              Gaming    8                        Windows    2.24   \n",
       "273   Lenovo  2 in 1 Convertible   16                        Windows    1.36   \n",
       "397   Lenovo            Notebook    8                        Windows    1.90   \n",
       "921       HP           Ultrabook    8                        Windows    1.84   \n",
       "...      ...                 ...  ...                            ...     ...   \n",
       "466     Acer            Notebook    4                        Windows    2.20   \n",
       "299     Asus           Ultrabook   16                        Windows    1.63   \n",
       "493     Acer            Notebook    8                        Windows    2.20   \n",
       "527   Lenovo            Notebook    8  Other/Chrome OS/No OS/Android    2.20   \n",
       "1193   Apple           Ultrabook    8                            Mac    0.92   \n",
       "\n",
       "        Screen  Touchscreen  IPSpanel  RetinaDisplay GPU_company         ppi  \\\n",
       "21     Full HD            0         1              0      Nvidia  141.211998   \n",
       "790    Full HD            0         0              0      Nvidia  141.211998   \n",
       "273   Standard            1         0              0       Intel  209.800683   \n",
       "397    Full HD            0         1              0       Intel  157.350512   \n",
       "921    Full HD            0         0              0         AMD  141.211998   \n",
       "...        ...          ...       ...            ...         ...         ...   \n",
       "466   Standard            0         0              0      Nvidia  100.454670   \n",
       "299    Full HD            0         0              0      Nvidia  141.211998   \n",
       "493   Standard            0         0              0         AMD  100.454670   \n",
       "527   Standard            0         0              0      Nvidia  100.454670   \n",
       "1193  Standard            0         1              1       Intel  226.415547   \n",
       "\n",
       "                  CPU_Brand  SSD   HDD  \n",
       "21            Intel Core i5  128  1024  \n",
       "790           Intel Core i7  128  1024  \n",
       "273           Intel Core i7  512     0  \n",
       "397           Intel Core i5  256     0  \n",
       "921           Intel Core i7  256     0  \n",
       "...                     ...  ...   ...  \n",
       "466           Intel Core i3    0   500  \n",
       "299           Intel Core i7  512     0  \n",
       "493           AMD Processor    0  1024  \n",
       "527           Intel Core i3    0  2048  \n",
       "1193  Other Intel Processor    0     0  \n",
       "\n",
       "[1082 rows x 14 columns]"
      ]
     },
     "execution_count": 187,
     "metadata": {},
     "output_type": "execute_result"
    }
   ],
   "source": [
    "x_train"
   ]
  },
  {
   "cell_type": "code",
   "execution_count": 190,
   "id": "a95ef3b1-db67-4a4f-bbd9-0e5e25afd3c6",
   "metadata": {},
   "outputs": [
    {
     "name": "stdout",
     "output_type": "stream",
     "text": [
      "<class 'pandas.core.frame.DataFrame'>\n",
      "Index: 1082 entries, 21 to 1193\n",
      "Data columns (total 14 columns):\n",
      " #   Column         Non-Null Count  Dtype  \n",
      "---  ------         --------------  -----  \n",
      " 0   Company        1082 non-null   object \n",
      " 1   TypeName       1082 non-null   object \n",
      " 2   Ram            1082 non-null   int64  \n",
      " 3   OS             1082 non-null   object \n",
      " 4   Weight         1082 non-null   float64\n",
      " 5   Screen         1082 non-null   object \n",
      " 6   Touchscreen    1082 non-null   int64  \n",
      " 7   IPSpanel       1082 non-null   int64  \n",
      " 8   RetinaDisplay  1082 non-null   int64  \n",
      " 9   GPU_company    1082 non-null   object \n",
      " 10  ppi            1082 non-null   float64\n",
      " 11  CPU_Brand      1082 non-null   object \n",
      " 12  SSD            1082 non-null   int32  \n",
      " 13  HDD            1082 non-null   int32  \n",
      "dtypes: float64(2), int32(2), int64(4), object(6)\n",
      "memory usage: 118.3+ KB\n"
     ]
    }
   ],
   "source": [
    "x_train.info()"
   ]
  },
  {
   "cell_type": "code",
   "execution_count": 192,
   "id": "8b1e02b6-3114-497d-87a6-01ca9e81ba7d",
   "metadata": {},
   "outputs": [],
   "source": [
    "from sklearn.compose import ColumnTransformer\n",
    "from sklearn.pipeline import Pipeline\n",
    "from sklearn.preprocessing import OneHotEncoder\n",
    "from sklearn.metrics import r2_score, mean_absolute_error"
   ]
  },
  {
   "cell_type": "code",
   "execution_count": 194,
   "id": "f7ee11eb-a878-484e-8224-ebbfa24d0a6a",
   "metadata": {},
   "outputs": [],
   "source": [
    "from sklearn.linear_model import LinearRegression, Ridge, Lasso\n",
    "from sklearn.neighbors import KNeighborsRegressor\n",
    "from sklearn.tree import DecisionTreeRegressor\n",
    "from sklearn.ensemble import RandomForestRegressor, GradientBoostingRegressor, AdaBoostRegressor, ExtraTreesRegressor\n",
    "from sklearn.svm import SVR\n",
    "#from xgboost import XGBRegressor"
   ]
  },
  {
   "cell_type": "code",
   "execution_count": 196,
   "id": "3a7c6d06-b4b7-4ee9-aca6-150673688b8c",
   "metadata": {},
   "outputs": [
    {
     "name": "stdout",
     "output_type": "stream",
     "text": [
      "R2 Score  0.8053102212957206\n",
      "Mean Absolute Error  0.20922433646091484\n"
     ]
    }
   ],
   "source": [
    "step1 = ColumnTransformer(transformers=[\n",
    "    ('Col_tnf', OneHotEncoder(handle_unknown='ignore',sparse_output=False,drop='first'),['Company','TypeName','OS','Screen','GPU_company','CPU_Brand'])\n",
    "],remainder='passthrough')\n",
    "\n",
    "step2 = LinearRegression()\n",
    "\n",
    "pipe = Pipeline([\n",
    "    ('step1',step1),\n",
    "    ('step2',step2)\n",
    "])\n",
    "\n",
    "pipe.fit(x_train,y_train)\n",
    "\n",
    "y_pred = pipe.predict(x_test)\n",
    "\n",
    "print(\"R2 Score \",r2_score(y_test,y_pred))\n",
    "print(\"Mean Absolute Error \",mean_absolute_error(y_test,y_pred))\n"
   ]
  },
  {
   "cell_type": "code",
   "execution_count": 198,
   "id": "2f31bfaa-7397-4c75-abbb-37708c5b48c5",
   "metadata": {},
   "outputs": [
    {
     "data": {
      "text/html": [
       "<div>\n",
       "<style scoped>\n",
       "    .dataframe tbody tr th:only-of-type {\n",
       "        vertical-align: middle;\n",
       "    }\n",
       "\n",
       "    .dataframe tbody tr th {\n",
       "        vertical-align: top;\n",
       "    }\n",
       "\n",
       "    .dataframe thead th {\n",
       "        text-align: right;\n",
       "    }\n",
       "</style>\n",
       "<table border=\"1\" class=\"dataframe\">\n",
       "  <thead>\n",
       "    <tr style=\"text-align: right;\">\n",
       "      <th></th>\n",
       "      <th>Company</th>\n",
       "      <th>TypeName</th>\n",
       "      <th>Ram</th>\n",
       "      <th>OS</th>\n",
       "      <th>Weight</th>\n",
       "      <th>Price_euros</th>\n",
       "      <th>Screen</th>\n",
       "      <th>Touchscreen</th>\n",
       "      <th>IPSpanel</th>\n",
       "      <th>RetinaDisplay</th>\n",
       "      <th>GPU_company</th>\n",
       "      <th>ppi</th>\n",
       "      <th>CPU_Brand</th>\n",
       "      <th>SSD</th>\n",
       "      <th>HDD</th>\n",
       "    </tr>\n",
       "  </thead>\n",
       "  <tbody>\n",
       "    <tr>\n",
       "      <th>0</th>\n",
       "      <td>Apple</td>\n",
       "      <td>Ultrabook</td>\n",
       "      <td>8</td>\n",
       "      <td>Mac</td>\n",
       "      <td>1.37</td>\n",
       "      <td>1339.69</td>\n",
       "      <td>Standard</td>\n",
       "      <td>0</td>\n",
       "      <td>1</td>\n",
       "      <td>1</td>\n",
       "      <td>Intel</td>\n",
       "      <td>226.983005</td>\n",
       "      <td>Intel Core i5</td>\n",
       "      <td>128</td>\n",
       "      <td>0</td>\n",
       "    </tr>\n",
       "  </tbody>\n",
       "</table>\n",
       "</div>"
      ],
      "text/plain": [
       "  Company   TypeName  Ram   OS  Weight  Price_euros    Screen  Touchscreen  \\\n",
       "0   Apple  Ultrabook    8  Mac    1.37      1339.69  Standard            0   \n",
       "\n",
       "   IPSpanel  RetinaDisplay GPU_company         ppi      CPU_Brand  SSD  HDD  \n",
       "0         1              1       Intel  226.983005  Intel Core i5  128    0  "
      ]
     },
     "execution_count": 198,
     "metadata": {},
     "output_type": "execute_result"
    }
   ],
   "source": [
    "df.head(1)"
   ]
  },
  {
   "cell_type": "code",
   "execution_count": 200,
   "id": "30754867-3ac9-4423-8625-0fcd08056ec3",
   "metadata": {},
   "outputs": [
    {
     "name": "stdout",
     "output_type": "stream",
     "text": [
      "R2 Score  0.8035587714831083\n",
      "Mean Absolute Error  0.2095111956528036\n"
     ]
    }
   ],
   "source": [
    "step1 = ColumnTransformer(transformers=[\n",
    "    ('Col_tnf', OneHotEncoder(handle_unknown='ignore',sparse_output=False,drop='first'),['Company','TypeName','OS','Screen','GPU_company','CPU_Brand'])\n",
    "],remainder='passthrough')\n",
    "\n",
    "step2 = Ridge(alpha=10)\n",
    "\n",
    "pipe = Pipeline([\n",
    "    ('step1',step1),\n",
    "    ('step2',step2)\n",
    "])\n",
    "\n",
    "pipe.fit(x_train,y_train)\n",
    "\n",
    "y_pred = pipe.predict(x_test)\n",
    "\n",
    "print(\"R2 Score \",r2_score(y_test,y_pred))\n",
    "print(\"Mean Absolute Error \",mean_absolute_error(y_test,y_pred))\n"
   ]
  },
  {
   "cell_type": "code",
   "execution_count": 202,
   "id": "c8e98de7-ebd7-47ce-abe7-302c34299e90",
   "metadata": {},
   "outputs": [
    {
     "name": "stdout",
     "output_type": "stream",
     "text": [
      "R2 Score  0.8794106523518205\n",
      "Mean Absolute Error  0.16159550707812778\n"
     ]
    }
   ],
   "source": [
    "step1 = ColumnTransformer(transformers=[\n",
    "    ('Col_tnf', OneHotEncoder(handle_unknown='ignore',sparse_output=False,drop='first'),['Company','TypeName','OS','Screen','GPU_company','CPU_Brand'])\n",
    "],remainder='passthrough')\n",
    "\n",
    "step2 = RandomForestRegressor(n_estimators=100,\n",
    "                              random_state=3,\n",
    "                              max_samples=0.5,\n",
    "                              max_features=0.75,\n",
    "                              max_depth=15)\n",
    "\n",
    "pipe = Pipeline([\n",
    "    ('step1',step1),\n",
    "    ('step2',step2)\n",
    "])\n",
    "\n",
    "pipe.fit(x_train,y_train)\n",
    "\n",
    "y_pred = pipe.predict(x_test)\n",
    "\n",
    "print(\"R2 Score \",r2_score(y_test,y_pred))\n",
    "print(\"Mean Absolute Error \",mean_absolute_error(y_test,y_pred))"
   ]
  },
  {
   "cell_type": "code",
   "execution_count": 218,
   "id": "ee8b1fe5-1c90-4ee1-96f1-8c3a3e7aa9dd",
   "metadata": {},
   "outputs": [
    {
     "name": "stdout",
     "output_type": "stream",
     "text": [
      "Pipeline(steps=[('step1',\n",
      "                 ColumnTransformer(remainder='passthrough',\n",
      "                                   transformers=[('Col_tnf',\n",
      "                                                  OneHotEncoder(drop='first',\n",
      "                                                                handle_unknown='ignore',\n",
      "                                                                sparse_output=False),\n",
      "                                                  ['Company', 'TypeName', 'OS',\n",
      "                                                   'Screen', 'GPU_company',\n",
      "                                                   'CPU_Brand'])])),\n",
      "                ('step2',\n",
      "                 RandomForestRegressor(max_depth=15, max_features=0.75,\n",
      "                                       max_samples=0.5, random_state=3))])\n"
     ]
    }
   ],
   "source": [
    "print(pipe)"
   ]
  },
  {
   "cell_type": "code",
   "execution_count": 204,
   "id": "4d766e45-90b5-43a6-8422-a09c26a191b1",
   "metadata": {},
   "outputs": [],
   "source": [
    "# Exporting the Model\n",
    "\n",
    "import pickle\n",
    "\n",
    "pickle.dump(df,open('df.pkl','wb'))\n",
    "pickle.dump(pipe,open('pipe.pkl','wb'))"
   ]
  },
  {
   "cell_type": "code",
   "execution_count": 206,
   "id": "35fac883-75b5-4a96-95f9-75c8cfc3a984",
   "metadata": {},
   "outputs": [
    {
     "data": {
      "text/html": [
       "<div>\n",
       "<style scoped>\n",
       "    .dataframe tbody tr th:only-of-type {\n",
       "        vertical-align: middle;\n",
       "    }\n",
       "\n",
       "    .dataframe tbody tr th {\n",
       "        vertical-align: top;\n",
       "    }\n",
       "\n",
       "    .dataframe thead th {\n",
       "        text-align: right;\n",
       "    }\n",
       "</style>\n",
       "<table border=\"1\" class=\"dataframe\">\n",
       "  <thead>\n",
       "    <tr style=\"text-align: right;\">\n",
       "      <th></th>\n",
       "      <th>Company</th>\n",
       "      <th>TypeName</th>\n",
       "      <th>Ram</th>\n",
       "      <th>OS</th>\n",
       "      <th>Weight</th>\n",
       "      <th>Price_euros</th>\n",
       "      <th>Screen</th>\n",
       "      <th>Touchscreen</th>\n",
       "      <th>IPSpanel</th>\n",
       "      <th>RetinaDisplay</th>\n",
       "      <th>GPU_company</th>\n",
       "      <th>ppi</th>\n",
       "      <th>CPU_Brand</th>\n",
       "      <th>SSD</th>\n",
       "      <th>HDD</th>\n",
       "    </tr>\n",
       "  </thead>\n",
       "  <tbody>\n",
       "    <tr>\n",
       "      <th>0</th>\n",
       "      <td>Apple</td>\n",
       "      <td>Ultrabook</td>\n",
       "      <td>8</td>\n",
       "      <td>Mac</td>\n",
       "      <td>1.37</td>\n",
       "      <td>1339.69</td>\n",
       "      <td>Standard</td>\n",
       "      <td>0</td>\n",
       "      <td>1</td>\n",
       "      <td>1</td>\n",
       "      <td>Intel</td>\n",
       "      <td>226.983005</td>\n",
       "      <td>Intel Core i5</td>\n",
       "      <td>128</td>\n",
       "      <td>0</td>\n",
       "    </tr>\n",
       "    <tr>\n",
       "      <th>1</th>\n",
       "      <td>Apple</td>\n",
       "      <td>Ultrabook</td>\n",
       "      <td>8</td>\n",
       "      <td>Mac</td>\n",
       "      <td>1.34</td>\n",
       "      <td>898.94</td>\n",
       "      <td>Standard</td>\n",
       "      <td>0</td>\n",
       "      <td>0</td>\n",
       "      <td>0</td>\n",
       "      <td>Intel</td>\n",
       "      <td>127.677940</td>\n",
       "      <td>Intel Core i5</td>\n",
       "      <td>0</td>\n",
       "      <td>0</td>\n",
       "    </tr>\n",
       "    <tr>\n",
       "      <th>2</th>\n",
       "      <td>HP</td>\n",
       "      <td>Notebook</td>\n",
       "      <td>8</td>\n",
       "      <td>Other/Chrome OS/No OS/Android</td>\n",
       "      <td>1.86</td>\n",
       "      <td>575.00</td>\n",
       "      <td>Full HD</td>\n",
       "      <td>0</td>\n",
       "      <td>0</td>\n",
       "      <td>0</td>\n",
       "      <td>Intel</td>\n",
       "      <td>141.211998</td>\n",
       "      <td>Intel Core i5</td>\n",
       "      <td>256</td>\n",
       "      <td>0</td>\n",
       "    </tr>\n",
       "    <tr>\n",
       "      <th>3</th>\n",
       "      <td>Apple</td>\n",
       "      <td>Ultrabook</td>\n",
       "      <td>16</td>\n",
       "      <td>Mac</td>\n",
       "      <td>1.83</td>\n",
       "      <td>2537.45</td>\n",
       "      <td>Standard</td>\n",
       "      <td>0</td>\n",
       "      <td>1</td>\n",
       "      <td>1</td>\n",
       "      <td>AMD</td>\n",
       "      <td>220.534624</td>\n",
       "      <td>Intel Core i7</td>\n",
       "      <td>512</td>\n",
       "      <td>0</td>\n",
       "    </tr>\n",
       "    <tr>\n",
       "      <th>4</th>\n",
       "      <td>Apple</td>\n",
       "      <td>Ultrabook</td>\n",
       "      <td>8</td>\n",
       "      <td>Mac</td>\n",
       "      <td>1.37</td>\n",
       "      <td>1803.60</td>\n",
       "      <td>Standard</td>\n",
       "      <td>0</td>\n",
       "      <td>1</td>\n",
       "      <td>1</td>\n",
       "      <td>Intel</td>\n",
       "      <td>226.983005</td>\n",
       "      <td>Intel Core i5</td>\n",
       "      <td>256</td>\n",
       "      <td>0</td>\n",
       "    </tr>\n",
       "    <tr>\n",
       "      <th>...</th>\n",
       "      <td>...</td>\n",
       "      <td>...</td>\n",
       "      <td>...</td>\n",
       "      <td>...</td>\n",
       "      <td>...</td>\n",
       "      <td>...</td>\n",
       "      <td>...</td>\n",
       "      <td>...</td>\n",
       "      <td>...</td>\n",
       "      <td>...</td>\n",
       "      <td>...</td>\n",
       "      <td>...</td>\n",
       "      <td>...</td>\n",
       "      <td>...</td>\n",
       "      <td>...</td>\n",
       "    </tr>\n",
       "    <tr>\n",
       "      <th>1270</th>\n",
       "      <td>Lenovo</td>\n",
       "      <td>2 in 1 Convertible</td>\n",
       "      <td>4</td>\n",
       "      <td>Windows</td>\n",
       "      <td>1.80</td>\n",
       "      <td>638.00</td>\n",
       "      <td>Full HD</td>\n",
       "      <td>1</td>\n",
       "      <td>1</td>\n",
       "      <td>0</td>\n",
       "      <td>Intel</td>\n",
       "      <td>157.350512</td>\n",
       "      <td>Intel Core i7</td>\n",
       "      <td>128</td>\n",
       "      <td>0</td>\n",
       "    </tr>\n",
       "    <tr>\n",
       "      <th>1271</th>\n",
       "      <td>Lenovo</td>\n",
       "      <td>2 in 1 Convertible</td>\n",
       "      <td>16</td>\n",
       "      <td>Windows</td>\n",
       "      <td>1.30</td>\n",
       "      <td>1499.00</td>\n",
       "      <td>Quad HD+</td>\n",
       "      <td>1</td>\n",
       "      <td>1</td>\n",
       "      <td>0</td>\n",
       "      <td>Intel</td>\n",
       "      <td>276.053530</td>\n",
       "      <td>Intel Core i7</td>\n",
       "      <td>512</td>\n",
       "      <td>0</td>\n",
       "    </tr>\n",
       "    <tr>\n",
       "      <th>1272</th>\n",
       "      <td>Lenovo</td>\n",
       "      <td>Notebook</td>\n",
       "      <td>2</td>\n",
       "      <td>Windows</td>\n",
       "      <td>1.50</td>\n",
       "      <td>229.00</td>\n",
       "      <td>Standard</td>\n",
       "      <td>0</td>\n",
       "      <td>0</td>\n",
       "      <td>0</td>\n",
       "      <td>Intel</td>\n",
       "      <td>111.935204</td>\n",
       "      <td>Other Intel Processor</td>\n",
       "      <td>0</td>\n",
       "      <td>0</td>\n",
       "    </tr>\n",
       "    <tr>\n",
       "      <th>1273</th>\n",
       "      <td>HP</td>\n",
       "      <td>Notebook</td>\n",
       "      <td>6</td>\n",
       "      <td>Windows</td>\n",
       "      <td>2.19</td>\n",
       "      <td>764.00</td>\n",
       "      <td>Standard</td>\n",
       "      <td>0</td>\n",
       "      <td>0</td>\n",
       "      <td>0</td>\n",
       "      <td>AMD</td>\n",
       "      <td>100.454670</td>\n",
       "      <td>Intel Core i7</td>\n",
       "      <td>0</td>\n",
       "      <td>1024</td>\n",
       "    </tr>\n",
       "    <tr>\n",
       "      <th>1274</th>\n",
       "      <td>Asus</td>\n",
       "      <td>Notebook</td>\n",
       "      <td>4</td>\n",
       "      <td>Windows</td>\n",
       "      <td>2.20</td>\n",
       "      <td>369.00</td>\n",
       "      <td>Standard</td>\n",
       "      <td>0</td>\n",
       "      <td>0</td>\n",
       "      <td>0</td>\n",
       "      <td>Intel</td>\n",
       "      <td>100.454670</td>\n",
       "      <td>Other Intel Processor</td>\n",
       "      <td>0</td>\n",
       "      <td>500</td>\n",
       "    </tr>\n",
       "  </tbody>\n",
       "</table>\n",
       "<p>1274 rows × 15 columns</p>\n",
       "</div>"
      ],
      "text/plain": [
       "     Company            TypeName  Ram                             OS  Weight  \\\n",
       "0      Apple           Ultrabook    8                            Mac    1.37   \n",
       "1      Apple           Ultrabook    8                            Mac    1.34   \n",
       "2         HP            Notebook    8  Other/Chrome OS/No OS/Android    1.86   \n",
       "3      Apple           Ultrabook   16                            Mac    1.83   \n",
       "4      Apple           Ultrabook    8                            Mac    1.37   \n",
       "...      ...                 ...  ...                            ...     ...   \n",
       "1270  Lenovo  2 in 1 Convertible    4                        Windows    1.80   \n",
       "1271  Lenovo  2 in 1 Convertible   16                        Windows    1.30   \n",
       "1272  Lenovo            Notebook    2                        Windows    1.50   \n",
       "1273      HP            Notebook    6                        Windows    2.19   \n",
       "1274    Asus            Notebook    4                        Windows    2.20   \n",
       "\n",
       "      Price_euros    Screen  Touchscreen  IPSpanel  RetinaDisplay GPU_company  \\\n",
       "0         1339.69  Standard            0         1              1       Intel   \n",
       "1          898.94  Standard            0         0              0       Intel   \n",
       "2          575.00   Full HD            0         0              0       Intel   \n",
       "3         2537.45  Standard            0         1              1         AMD   \n",
       "4         1803.60  Standard            0         1              1       Intel   \n",
       "...           ...       ...          ...       ...            ...         ...   \n",
       "1270       638.00   Full HD            1         1              0       Intel   \n",
       "1271      1499.00  Quad HD+            1         1              0       Intel   \n",
       "1272       229.00  Standard            0         0              0       Intel   \n",
       "1273       764.00  Standard            0         0              0         AMD   \n",
       "1274       369.00  Standard            0         0              0       Intel   \n",
       "\n",
       "             ppi              CPU_Brand  SSD   HDD  \n",
       "0     226.983005          Intel Core i5  128     0  \n",
       "1     127.677940          Intel Core i5    0     0  \n",
       "2     141.211998          Intel Core i5  256     0  \n",
       "3     220.534624          Intel Core i7  512     0  \n",
       "4     226.983005          Intel Core i5  256     0  \n",
       "...          ...                    ...  ...   ...  \n",
       "1270  157.350512          Intel Core i7  128     0  \n",
       "1271  276.053530          Intel Core i7  512     0  \n",
       "1272  111.935204  Other Intel Processor    0     0  \n",
       "1273  100.454670          Intel Core i7    0  1024  \n",
       "1274  100.454670  Other Intel Processor    0   500  \n",
       "\n",
       "[1274 rows x 15 columns]"
      ]
     },
     "execution_count": 206,
     "metadata": {},
     "output_type": "execute_result"
    }
   ],
   "source": [
    "df"
   ]
  },
  {
   "cell_type": "code",
   "execution_count": 208,
   "id": "f0ded9c3-ff05-42b2-bbf7-66e85c16442d",
   "metadata": {},
   "outputs": [
    {
     "data": {
      "text/html": [
       "<div>\n",
       "<style scoped>\n",
       "    .dataframe tbody tr th:only-of-type {\n",
       "        vertical-align: middle;\n",
       "    }\n",
       "\n",
       "    .dataframe tbody tr th {\n",
       "        vertical-align: top;\n",
       "    }\n",
       "\n",
       "    .dataframe thead th {\n",
       "        text-align: right;\n",
       "    }\n",
       "</style>\n",
       "<table border=\"1\" class=\"dataframe\">\n",
       "  <thead>\n",
       "    <tr style=\"text-align: right;\">\n",
       "      <th></th>\n",
       "      <th>Company</th>\n",
       "      <th>TypeName</th>\n",
       "      <th>Ram</th>\n",
       "      <th>OS</th>\n",
       "      <th>Weight</th>\n",
       "      <th>Screen</th>\n",
       "      <th>Touchscreen</th>\n",
       "      <th>IPSpanel</th>\n",
       "      <th>RetinaDisplay</th>\n",
       "      <th>GPU_company</th>\n",
       "      <th>ppi</th>\n",
       "      <th>CPU_Brand</th>\n",
       "      <th>SSD</th>\n",
       "      <th>HDD</th>\n",
       "    </tr>\n",
       "  </thead>\n",
       "  <tbody>\n",
       "    <tr>\n",
       "      <th>21</th>\n",
       "      <td>Lenovo</td>\n",
       "      <td>Gaming</td>\n",
       "      <td>8</td>\n",
       "      <td>Windows</td>\n",
       "      <td>2.50</td>\n",
       "      <td>Full HD</td>\n",
       "      <td>0</td>\n",
       "      <td>1</td>\n",
       "      <td>0</td>\n",
       "      <td>Nvidia</td>\n",
       "      <td>141.211998</td>\n",
       "      <td>Intel Core i5</td>\n",
       "      <td>128</td>\n",
       "      <td>1024</td>\n",
       "    </tr>\n",
       "    <tr>\n",
       "      <th>790</th>\n",
       "      <td>Asus</td>\n",
       "      <td>Gaming</td>\n",
       "      <td>8</td>\n",
       "      <td>Windows</td>\n",
       "      <td>2.24</td>\n",
       "      <td>Full HD</td>\n",
       "      <td>0</td>\n",
       "      <td>0</td>\n",
       "      <td>0</td>\n",
       "      <td>Nvidia</td>\n",
       "      <td>141.211998</td>\n",
       "      <td>Intel Core i7</td>\n",
       "      <td>128</td>\n",
       "      <td>1024</td>\n",
       "    </tr>\n",
       "    <tr>\n",
       "      <th>273</th>\n",
       "      <td>Lenovo</td>\n",
       "      <td>2 in 1 Convertible</td>\n",
       "      <td>16</td>\n",
       "      <td>Windows</td>\n",
       "      <td>1.36</td>\n",
       "      <td>Standard</td>\n",
       "      <td>1</td>\n",
       "      <td>0</td>\n",
       "      <td>0</td>\n",
       "      <td>Intel</td>\n",
       "      <td>209.800683</td>\n",
       "      <td>Intel Core i7</td>\n",
       "      <td>512</td>\n",
       "      <td>0</td>\n",
       "    </tr>\n",
       "    <tr>\n",
       "      <th>397</th>\n",
       "      <td>Lenovo</td>\n",
       "      <td>Notebook</td>\n",
       "      <td>8</td>\n",
       "      <td>Windows</td>\n",
       "      <td>1.90</td>\n",
       "      <td>Full HD</td>\n",
       "      <td>0</td>\n",
       "      <td>1</td>\n",
       "      <td>0</td>\n",
       "      <td>Intel</td>\n",
       "      <td>157.350512</td>\n",
       "      <td>Intel Core i5</td>\n",
       "      <td>256</td>\n",
       "      <td>0</td>\n",
       "    </tr>\n",
       "    <tr>\n",
       "      <th>921</th>\n",
       "      <td>HP</td>\n",
       "      <td>Ultrabook</td>\n",
       "      <td>8</td>\n",
       "      <td>Windows</td>\n",
       "      <td>1.84</td>\n",
       "      <td>Full HD</td>\n",
       "      <td>0</td>\n",
       "      <td>0</td>\n",
       "      <td>0</td>\n",
       "      <td>AMD</td>\n",
       "      <td>141.211998</td>\n",
       "      <td>Intel Core i7</td>\n",
       "      <td>256</td>\n",
       "      <td>0</td>\n",
       "    </tr>\n",
       "    <tr>\n",
       "      <th>...</th>\n",
       "      <td>...</td>\n",
       "      <td>...</td>\n",
       "      <td>...</td>\n",
       "      <td>...</td>\n",
       "      <td>...</td>\n",
       "      <td>...</td>\n",
       "      <td>...</td>\n",
       "      <td>...</td>\n",
       "      <td>...</td>\n",
       "      <td>...</td>\n",
       "      <td>...</td>\n",
       "      <td>...</td>\n",
       "      <td>...</td>\n",
       "      <td>...</td>\n",
       "    </tr>\n",
       "    <tr>\n",
       "      <th>466</th>\n",
       "      <td>Acer</td>\n",
       "      <td>Notebook</td>\n",
       "      <td>4</td>\n",
       "      <td>Windows</td>\n",
       "      <td>2.20</td>\n",
       "      <td>Standard</td>\n",
       "      <td>0</td>\n",
       "      <td>0</td>\n",
       "      <td>0</td>\n",
       "      <td>Nvidia</td>\n",
       "      <td>100.454670</td>\n",
       "      <td>Intel Core i3</td>\n",
       "      <td>0</td>\n",
       "      <td>500</td>\n",
       "    </tr>\n",
       "    <tr>\n",
       "      <th>299</th>\n",
       "      <td>Asus</td>\n",
       "      <td>Ultrabook</td>\n",
       "      <td>16</td>\n",
       "      <td>Windows</td>\n",
       "      <td>1.63</td>\n",
       "      <td>Full HD</td>\n",
       "      <td>0</td>\n",
       "      <td>0</td>\n",
       "      <td>0</td>\n",
       "      <td>Nvidia</td>\n",
       "      <td>141.211998</td>\n",
       "      <td>Intel Core i7</td>\n",
       "      <td>512</td>\n",
       "      <td>0</td>\n",
       "    </tr>\n",
       "    <tr>\n",
       "      <th>493</th>\n",
       "      <td>Acer</td>\n",
       "      <td>Notebook</td>\n",
       "      <td>8</td>\n",
       "      <td>Windows</td>\n",
       "      <td>2.20</td>\n",
       "      <td>Standard</td>\n",
       "      <td>0</td>\n",
       "      <td>0</td>\n",
       "      <td>0</td>\n",
       "      <td>AMD</td>\n",
       "      <td>100.454670</td>\n",
       "      <td>AMD Processor</td>\n",
       "      <td>0</td>\n",
       "      <td>1024</td>\n",
       "    </tr>\n",
       "    <tr>\n",
       "      <th>527</th>\n",
       "      <td>Lenovo</td>\n",
       "      <td>Notebook</td>\n",
       "      <td>8</td>\n",
       "      <td>Other/Chrome OS/No OS/Android</td>\n",
       "      <td>2.20</td>\n",
       "      <td>Standard</td>\n",
       "      <td>0</td>\n",
       "      <td>0</td>\n",
       "      <td>0</td>\n",
       "      <td>Nvidia</td>\n",
       "      <td>100.454670</td>\n",
       "      <td>Intel Core i3</td>\n",
       "      <td>0</td>\n",
       "      <td>2048</td>\n",
       "    </tr>\n",
       "    <tr>\n",
       "      <th>1193</th>\n",
       "      <td>Apple</td>\n",
       "      <td>Ultrabook</td>\n",
       "      <td>8</td>\n",
       "      <td>Mac</td>\n",
       "      <td>0.92</td>\n",
       "      <td>Standard</td>\n",
       "      <td>0</td>\n",
       "      <td>1</td>\n",
       "      <td>1</td>\n",
       "      <td>Intel</td>\n",
       "      <td>226.415547</td>\n",
       "      <td>Other Intel Processor</td>\n",
       "      <td>0</td>\n",
       "      <td>0</td>\n",
       "    </tr>\n",
       "  </tbody>\n",
       "</table>\n",
       "<p>1082 rows × 14 columns</p>\n",
       "</div>"
      ],
      "text/plain": [
       "     Company            TypeName  Ram                             OS  Weight  \\\n",
       "21    Lenovo              Gaming    8                        Windows    2.50   \n",
       "790     Asus              Gaming    8                        Windows    2.24   \n",
       "273   Lenovo  2 in 1 Convertible   16                        Windows    1.36   \n",
       "397   Lenovo            Notebook    8                        Windows    1.90   \n",
       "921       HP           Ultrabook    8                        Windows    1.84   \n",
       "...      ...                 ...  ...                            ...     ...   \n",
       "466     Acer            Notebook    4                        Windows    2.20   \n",
       "299     Asus           Ultrabook   16                        Windows    1.63   \n",
       "493     Acer            Notebook    8                        Windows    2.20   \n",
       "527   Lenovo            Notebook    8  Other/Chrome OS/No OS/Android    2.20   \n",
       "1193   Apple           Ultrabook    8                            Mac    0.92   \n",
       "\n",
       "        Screen  Touchscreen  IPSpanel  RetinaDisplay GPU_company         ppi  \\\n",
       "21     Full HD            0         1              0      Nvidia  141.211998   \n",
       "790    Full HD            0         0              0      Nvidia  141.211998   \n",
       "273   Standard            1         0              0       Intel  209.800683   \n",
       "397    Full HD            0         1              0       Intel  157.350512   \n",
       "921    Full HD            0         0              0         AMD  141.211998   \n",
       "...        ...          ...       ...            ...         ...         ...   \n",
       "466   Standard            0         0              0      Nvidia  100.454670   \n",
       "299    Full HD            0         0              0      Nvidia  141.211998   \n",
       "493   Standard            0         0              0         AMD  100.454670   \n",
       "527   Standard            0         0              0      Nvidia  100.454670   \n",
       "1193  Standard            0         1              1       Intel  226.415547   \n",
       "\n",
       "                  CPU_Brand  SSD   HDD  \n",
       "21            Intel Core i5  128  1024  \n",
       "790           Intel Core i7  128  1024  \n",
       "273           Intel Core i7  512     0  \n",
       "397           Intel Core i5  256     0  \n",
       "921           Intel Core i7  256     0  \n",
       "...                     ...  ...   ...  \n",
       "466           Intel Core i3    0   500  \n",
       "299           Intel Core i7  512     0  \n",
       "493           AMD Processor    0  1024  \n",
       "527           Intel Core i3    0  2048  \n",
       "1193  Other Intel Processor    0     0  \n",
       "\n",
       "[1082 rows x 14 columns]"
      ]
     },
     "execution_count": 208,
     "metadata": {},
     "output_type": "execute_result"
    }
   ],
   "source": [
    "x_train"
   ]
  },
  {
   "cell_type": "code",
   "execution_count": 216,
   "id": "672ef40d-8205-4ed5-93af-9e6de877ee76",
   "metadata": {},
   "outputs": [
    {
     "data": {
      "text/plain": [
       "Company           object\n",
       "TypeName          object\n",
       "Ram                int64\n",
       "OS                object\n",
       "Weight           float64\n",
       "Price_euros      float64\n",
       "Screen            object\n",
       "Touchscreen        int64\n",
       "IPSpanel           int64\n",
       "RetinaDisplay      int64\n",
       "GPU_company       object\n",
       "ppi              float64\n",
       "CPU_Brand         object\n",
       "SSD                int32\n",
       "HDD                int32\n",
       "dtype: object"
      ]
     },
     "execution_count": 216,
     "metadata": {},
     "output_type": "execute_result"
    }
   ],
   "source": [
    "df.dtypes"
   ]
  },
  {
   "cell_type": "code",
   "execution_count": 226,
   "id": "969e7c7f-4003-4f49-b9c6-4610a8c6146e",
   "metadata": {},
   "outputs": [
    {
     "data": {
      "text/plain": [
       "Index(['Company', 'TypeName', 'Ram', 'OS', 'Weight', 'Screen', 'Touchscreen',\n",
       "       'IPSpanel', 'RetinaDisplay', 'GPU_company', 'ppi', 'CPU_Brand', 'SSD',\n",
       "       'HDD'],\n",
       "      dtype='object')"
      ]
     },
     "execution_count": 226,
     "metadata": {},
     "output_type": "execute_result"
    }
   ],
   "source": [
    "x_train.columns"
   ]
  },
  {
   "cell_type": "code",
   "execution_count": 234,
   "id": "31bb3598-9c43-4655-9f7e-d02f9cfbc8a5",
   "metadata": {},
   "outputs": [
    {
     "ename": "ValueError",
     "evalue": "X has 13 features, but ColumnTransformer is expecting 14 features as input.",
     "output_type": "error",
     "traceback": [
      "\u001b[1;31m---------------------------------------------------------------------------\u001b[0m",
      "\u001b[1;31mValueError\u001b[0m                                Traceback (most recent call last)",
      "Cell \u001b[1;32mIn[234], line 6\u001b[0m\n\u001b[0;32m      3\u001b[0m \u001b[38;5;66;03m# Example input for prediction (make sure it matches the feature set)\u001b[39;00m\n\u001b[0;32m      4\u001b[0m new_laptop \u001b[38;5;241m=\u001b[39m np\u001b[38;5;241m.\u001b[39marray([\u001b[38;5;124m'\u001b[39m\u001b[38;5;124mHP\u001b[39m\u001b[38;5;124m'\u001b[39m, \u001b[38;5;124m'\u001b[39m\u001b[38;5;124mNotebook\u001b[39m\u001b[38;5;124m'\u001b[39m, \u001b[38;5;241m8\u001b[39m, \u001b[38;5;124m'\u001b[39m\u001b[38;5;124mWindows\u001b[39m\u001b[38;5;124m'\u001b[39m,\u001b[38;5;124m'\u001b[39m\u001b[38;5;124mFull HD\u001b[39m\u001b[38;5;124m'\u001b[39m , \u001b[38;5;241m0\u001b[39m, \u001b[38;5;241m0\u001b[39m, \u001b[38;5;241m0\u001b[39m, \u001b[38;5;124m'\u001b[39m\u001b[38;5;124mIntel\u001b[39m\u001b[38;5;124m'\u001b[39m,\u001b[38;5;124m'\u001b[39m\u001b[38;5;124m'\u001b[39m,\u001b[38;5;124m'\u001b[39m\u001b[38;5;124mIntel i5\u001b[39m\u001b[38;5;124m'\u001b[39m,\u001b[38;5;124m'\u001b[39m\u001b[38;5;124m256\u001b[39m\u001b[38;5;124m'\u001b[39m,\u001b[38;5;241m0\u001b[39m])  \u001b[38;5;66;03m# Replace with actual feature values\u001b[39;00m\n\u001b[1;32m----> 6\u001b[0m predicted_price \u001b[38;5;241m=\u001b[39m pipe\u001b[38;5;241m.\u001b[39mpredict(new_laptop\u001b[38;5;241m.\u001b[39mreshape(\u001b[38;5;241m1\u001b[39m, \u001b[38;5;241m-\u001b[39m\u001b[38;5;241m1\u001b[39m))\n\u001b[0;32m      7\u001b[0m \u001b[38;5;28mprint\u001b[39m(\u001b[38;5;124mf\u001b[39m\u001b[38;5;124m'\u001b[39m\u001b[38;5;124mPredicted Price: \u001b[39m\u001b[38;5;132;01m{\u001b[39;00mpredicted_price[\u001b[38;5;241m0\u001b[39m]\u001b[38;5;132;01m}\u001b[39;00m\u001b[38;5;124m'\u001b[39m)\n",
      "File \u001b[1;32mF:\\AnacondaNew\\Lib\\site-packages\\sklearn\\pipeline.py:600\u001b[0m, in \u001b[0;36mPipeline.predict\u001b[1;34m(self, X, **params)\u001b[0m\n\u001b[0;32m    598\u001b[0m \u001b[38;5;28;01mif\u001b[39;00m \u001b[38;5;129;01mnot\u001b[39;00m _routing_enabled():\n\u001b[0;32m    599\u001b[0m     \u001b[38;5;28;01mfor\u001b[39;00m _, name, transform \u001b[38;5;129;01min\u001b[39;00m \u001b[38;5;28mself\u001b[39m\u001b[38;5;241m.\u001b[39m_iter(with_final\u001b[38;5;241m=\u001b[39m\u001b[38;5;28;01mFalse\u001b[39;00m):\n\u001b[1;32m--> 600\u001b[0m         Xt \u001b[38;5;241m=\u001b[39m transform\u001b[38;5;241m.\u001b[39mtransform(Xt)\n\u001b[0;32m    601\u001b[0m     \u001b[38;5;28;01mreturn\u001b[39;00m \u001b[38;5;28mself\u001b[39m\u001b[38;5;241m.\u001b[39msteps[\u001b[38;5;241m-\u001b[39m\u001b[38;5;241m1\u001b[39m][\u001b[38;5;241m1\u001b[39m]\u001b[38;5;241m.\u001b[39mpredict(Xt, \u001b[38;5;241m*\u001b[39m\u001b[38;5;241m*\u001b[39mparams)\n\u001b[0;32m    603\u001b[0m \u001b[38;5;66;03m# metadata routing enabled\u001b[39;00m\n",
      "File \u001b[1;32mF:\\AnacondaNew\\Lib\\site-packages\\sklearn\\utils\\_set_output.py:313\u001b[0m, in \u001b[0;36m_wrap_method_output.<locals>.wrapped\u001b[1;34m(self, X, *args, **kwargs)\u001b[0m\n\u001b[0;32m    311\u001b[0m \u001b[38;5;129m@wraps\u001b[39m(f)\n\u001b[0;32m    312\u001b[0m \u001b[38;5;28;01mdef\u001b[39;00m \u001b[38;5;21mwrapped\u001b[39m(\u001b[38;5;28mself\u001b[39m, X, \u001b[38;5;241m*\u001b[39margs, \u001b[38;5;241m*\u001b[39m\u001b[38;5;241m*\u001b[39mkwargs):\n\u001b[1;32m--> 313\u001b[0m     data_to_wrap \u001b[38;5;241m=\u001b[39m f(\u001b[38;5;28mself\u001b[39m, X, \u001b[38;5;241m*\u001b[39margs, \u001b[38;5;241m*\u001b[39m\u001b[38;5;241m*\u001b[39mkwargs)\n\u001b[0;32m    314\u001b[0m     \u001b[38;5;28;01mif\u001b[39;00m \u001b[38;5;28misinstance\u001b[39m(data_to_wrap, \u001b[38;5;28mtuple\u001b[39m):\n\u001b[0;32m    315\u001b[0m         \u001b[38;5;66;03m# only wrap the first output for cross decomposition\u001b[39;00m\n\u001b[0;32m    316\u001b[0m         return_tuple \u001b[38;5;241m=\u001b[39m (\n\u001b[0;32m    317\u001b[0m             _wrap_data_with_container(method, data_to_wrap[\u001b[38;5;241m0\u001b[39m], X, \u001b[38;5;28mself\u001b[39m),\n\u001b[0;32m    318\u001b[0m             \u001b[38;5;241m*\u001b[39mdata_to_wrap[\u001b[38;5;241m1\u001b[39m:],\n\u001b[0;32m    319\u001b[0m         )\n",
      "File \u001b[1;32mF:\\AnacondaNew\\Lib\\site-packages\\sklearn\\compose\\_column_transformer.py:1069\u001b[0m, in \u001b[0;36mColumnTransformer.transform\u001b[1;34m(self, X, **params)\u001b[0m\n\u001b[0;32m   1065\u001b[0m         \u001b[38;5;28;01mraise\u001b[39;00m \u001b[38;5;167;01mValueError\u001b[39;00m(\u001b[38;5;124mf\u001b[39m\u001b[38;5;124m\"\u001b[39m\u001b[38;5;124mcolumns are missing: \u001b[39m\u001b[38;5;132;01m{\u001b[39;00mdiff\u001b[38;5;132;01m}\u001b[39;00m\u001b[38;5;124m\"\u001b[39m)\n\u001b[0;32m   1066\u001b[0m \u001b[38;5;28;01melse\u001b[39;00m:\n\u001b[0;32m   1067\u001b[0m     \u001b[38;5;66;03m# ndarray was used for fitting or transforming, thus we only\u001b[39;00m\n\u001b[0;32m   1068\u001b[0m     \u001b[38;5;66;03m# check that n_features_in_ is consistent\u001b[39;00m\n\u001b[1;32m-> 1069\u001b[0m     \u001b[38;5;28mself\u001b[39m\u001b[38;5;241m.\u001b[39m_check_n_features(X, reset\u001b[38;5;241m=\u001b[39m\u001b[38;5;28;01mFalse\u001b[39;00m)\n\u001b[0;32m   1071\u001b[0m \u001b[38;5;28;01mif\u001b[39;00m _routing_enabled():\n\u001b[0;32m   1072\u001b[0m     routed_params \u001b[38;5;241m=\u001b[39m process_routing(\u001b[38;5;28mself\u001b[39m, \u001b[38;5;124m\"\u001b[39m\u001b[38;5;124mtransform\u001b[39m\u001b[38;5;124m\"\u001b[39m, \u001b[38;5;241m*\u001b[39m\u001b[38;5;241m*\u001b[39mparams)\n",
      "File \u001b[1;32mF:\\AnacondaNew\\Lib\\site-packages\\sklearn\\base.py:443\u001b[0m, in \u001b[0;36mBaseEstimator._check_n_features\u001b[1;34m(self, X, reset)\u001b[0m\n\u001b[0;32m    440\u001b[0m     \u001b[38;5;28;01mreturn\u001b[39;00m\n\u001b[0;32m    442\u001b[0m \u001b[38;5;28;01mif\u001b[39;00m n_features \u001b[38;5;241m!=\u001b[39m \u001b[38;5;28mself\u001b[39m\u001b[38;5;241m.\u001b[39mn_features_in_:\n\u001b[1;32m--> 443\u001b[0m     \u001b[38;5;28;01mraise\u001b[39;00m \u001b[38;5;167;01mValueError\u001b[39;00m(\n\u001b[0;32m    444\u001b[0m         \u001b[38;5;124mf\u001b[39m\u001b[38;5;124m\"\u001b[39m\u001b[38;5;124mX has \u001b[39m\u001b[38;5;132;01m{\u001b[39;00mn_features\u001b[38;5;132;01m}\u001b[39;00m\u001b[38;5;124m features, but \u001b[39m\u001b[38;5;132;01m{\u001b[39;00m\u001b[38;5;28mself\u001b[39m\u001b[38;5;241m.\u001b[39m\u001b[38;5;18m__class__\u001b[39m\u001b[38;5;241m.\u001b[39m\u001b[38;5;18m__name__\u001b[39m\u001b[38;5;132;01m}\u001b[39;00m\u001b[38;5;124m \u001b[39m\u001b[38;5;124m\"\u001b[39m\n\u001b[0;32m    445\u001b[0m         \u001b[38;5;124mf\u001b[39m\u001b[38;5;124m\"\u001b[39m\u001b[38;5;124mis expecting \u001b[39m\u001b[38;5;132;01m{\u001b[39;00m\u001b[38;5;28mself\u001b[39m\u001b[38;5;241m.\u001b[39mn_features_in_\u001b[38;5;132;01m}\u001b[39;00m\u001b[38;5;124m features as input.\u001b[39m\u001b[38;5;124m\"\u001b[39m\n\u001b[0;32m    446\u001b[0m     )\n",
      "\u001b[1;31mValueError\u001b[0m: X has 13 features, but ColumnTransformer is expecting 14 features as input."
     ]
    }
   ],
   "source": [
    "import numpy as np\n",
    "\n",
    "# Example input for prediction (make sure it matches the feature set)\n",
    "new_laptop = np.array(['HP', 'Notebook', 8, 'Windows','Full HD' , 0, 0, 0, 'Intel','','Intel i5','256',0])  # Replace with actual feature values\n",
    "\n",
    "predicted_price = pipe.predict(new_laptop.reshape(1, -1))\n",
    "print(f'Predicted Price: {predicted_price[0]}')"
   ]
  },
  {
   "cell_type": "code",
   "execution_count": null,
   "id": "b9d09297-9f5b-42ec-9f02-a46ecde53946",
   "metadata": {},
   "outputs": [],
   "source": []
  }
 ],
 "metadata": {
  "kernelspec": {
   "display_name": "Python 3 (ipykernel)",
   "language": "python",
   "name": "python3"
  },
  "language_info": {
   "codemirror_mode": {
    "name": "ipython",
    "version": 3
   },
   "file_extension": ".py",
   "mimetype": "text/x-python",
   "name": "python",
   "nbconvert_exporter": "python",
   "pygments_lexer": "ipython3",
   "version": "3.12.7"
  }
 },
 "nbformat": 4,
 "nbformat_minor": 5
}
